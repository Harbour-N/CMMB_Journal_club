{
 "cells": [
  {
   "cell_type": "markdown",
   "metadata": {
    "id": "_jQ1tEQCxwRx"
   },
   "source": [
    "##### Copyright 2020 The TensorFlow Authors."
   ]
  },
  {
   "cell_type": "code",
   "execution_count": 1,
   "metadata": {
    "cellView": "form",
    "execution": {
     "iopub.execute_input": "2024-08-16T02:25:19.423282Z",
     "iopub.status.busy": "2024-08-16T02:25:19.423061Z",
     "iopub.status.idle": "2024-08-16T02:25:19.427001Z",
     "shell.execute_reply": "2024-08-16T02:25:19.426364Z"
    },
    "id": "V_sgB_5dx1f1"
   },
   "outputs": [],
   "source": [
    "#@title Licensed under the Apache License, Version 2.0 (the \"License\");\n",
    "# you may not use this file except in compliance with the License.\n",
    "# You may obtain a copy of the License at\n",
    "#\n",
    "# https://www.apache.org/licenses/LICENSE-2.0\n",
    "#\n",
    "# Unless required by applicable law or agreed to in writing, software\n",
    "# distributed under the License is distributed on an \"AS IS\" BASIS,\n",
    "# WITHOUT WARRANTIES OR CONDITIONS OF ANY KIND, either express or implied.\n",
    "# See the License for the specific language governing permissions and\n",
    "# limitations under the License."
   ]
  },
  {
   "cell_type": "markdown",
   "metadata": {
    "id": "p62G8M_viUJp"
   },
   "source": [
    "# Playing CartPole with the Actor-Critic method\n"
   ]
  },
  {
   "cell_type": "markdown",
   "metadata": {
    "id": "-mJ2i6jvZ3sK"
   },
   "source": [
    "<table class=\"tfo-notebook-buttons\" align=\"left\">\n",
    "  <td>\n",
    "    <a target=\"_blank\" href=\"https://www.tensorflow.org/tutorials/reinforcement_learning/actor_critic\">\n",
    "    <img src=\"https://www.tensorflow.org/images/tf_logo_32px.png\" />\n",
    "    View on TensorFlow.org</a>\n",
    "  </td>\n",
    "  <td>\n",
    "    <a target=\"_blank\" href=\"https://colab.research.google.com/github/tensorflow/docs/blob/master/site/en/tutorials/reinforcement_learning/actor_critic.ipynb\">\n",
    "    <img src=\"https://www.tensorflow.org/images/colab_logo_32px.png\" />\n",
    "    Run in Google Colab</a>\n",
    "  </td>\n",
    "  <td>\n",
    "    <a target=\"_blank\" href=\"https://github.com/tensorflow/docs/blob/master/site/en/tutorials/reinforcement_learning/actor_critic.ipynb\">\n",
    "    <img src=\"https://www.tensorflow.org/images/GitHub-Mark-32px.png\" />\n",
    "    View source on GitHub</a>\n",
    "  </td>\n",
    "  <td>\n",
    "    <a href=\"https://storage.googleapis.com/tensorflow_docs/docs/site/en/tutorials/reinforcement_learning/actor_critic.ipynb\"><img src=\"https://www.tensorflow.org/images/download_logo_32px.png\" />Download notebook</a>\n",
    "  </td>\n",
    "</table>"
   ]
  },
  {
   "cell_type": "markdown",
   "metadata": {
    "id": "kFgN7h_wiUJq"
   },
   "source": [
    "This tutorial demonstrates how to implement the [Actor-Critic](https://papers.nips.cc/paper/1786-actor-critic-algorithms.pdf) method using TensorFlow to train an agent on the [Open AI Gym](https://www.gymlibrary.dev/) [`CartPole-v0`](https://www.gymlibrary.dev/environments/classic_control/cart_pole/) environment.\n",
    "The reader is assumed to have some familiarity with [policy gradient methods](https://papers.nips.cc/paper/1713-policy-gradient-methods-for-reinforcement-learning-with-function-approximation.pdf) of [(deep) reinforcement learning](https://en.wikipedia.org/wiki/Deep_reinforcement_learning).\n"
   ]
  },
  {
   "cell_type": "markdown",
   "metadata": {
    "id": "_kA10ZKRR0hi"
   },
   "source": [
    "**Actor-Critic methods**\n",
    "\n",
    "Actor-Critic methods are [temporal difference (TD) learning](https://en.wikipedia.org/wiki/Temporal_difference_learning) methods that represent the policy function independent of the value function.\n",
    "\n",
    "A policy function (or policy) returns a probability distribution over actions that the agent can take based on the given state.\n",
    "A value function determines the expected return for an agent starting at a given state and acting according to a particular policy forever after.\n",
    "\n",
    "In the Actor-Critic method, the policy is referred to as the *actor* that proposes a set of possible actions given a state, and the estimated value function is referred to as the *critic*, which evaluates actions taken by the *actor* based on the given policy.\n",
    "\n",
    "In this tutorial, both the *Actor* and *Critic* will be represented using one neural network with two outputs.\n"
   ]
  },
  {
   "cell_type": "markdown",
   "metadata": {
    "id": "rBfiafKSRs2k"
   },
   "source": [
    "**`CartPole-v0`**\n",
    "\n",
    "In the [`CartPole-v0` environment](https://www.gymlibrary.dev/environments/classic_control/cart_pole/), a pole is attached to a cart moving along a frictionless track.\n",
    "The pole starts upright and the goal of the agent is to prevent it from falling over by applying a force of `-1` or `+1` to the cart.\n",
    "A reward of `+1` is given for every time step the pole remains upright.\n",
    "An episode ends when: 1) the pole is more than 15 degrees from vertical; or 2) the cart moves more than 2.4 units from the center.\n",
    "\n",
    "<center>\n",
    "  <figure>\n",
    "    <image src=\"https://tensorflow.org/tutorials/reinforcement_learning/images/cartpole-v0.gif\">\n",
    "    <figcaption>\n",
    "      Trained actor-critic model in Cartpole-v0 environment\n",
    "    </figcaption>\n",
    "  </figure>\n",
    "</center>\n"
   ]
  },
  {
   "cell_type": "markdown",
   "metadata": {
    "id": "XSNVK0AeRoJd"
   },
   "source": [
    "The problem is considered \"solved\" when the average total reward for the episode reaches 195 over 100 consecutive trials."
   ]
  },
  {
   "cell_type": "markdown",
   "metadata": {
    "id": "glLwIctHiUJq"
   },
   "source": [
    "## Setup\n",
    "\n",
    "Import necessary packages and configure global settings.\n"
   ]
  },
  {
   "cell_type": "code",
   "execution_count": 2,
   "metadata": {
    "execution": {
     "iopub.execute_input": "2024-08-16T02:25:19.430598Z",
     "iopub.status.busy": "2024-08-16T02:25:19.430384Z",
     "iopub.status.idle": "2024-08-16T02:25:28.284689Z",
     "shell.execute_reply": "2024-08-16T02:25:28.283565Z"
    },
    "id": "13l6BbxKhCKp"
   },
   "outputs": [
    {
     "name": "stdout",
     "output_type": "stream",
     "text": [
      "Collecting gym[classic_control]\r\n"
     ]
    },
    {
     "name": "stdout",
     "output_type": "stream",
     "text": [
      "  Downloading gym-0.26.2.tar.gz (721 kB)\r\n"
     ]
    },
    {
     "name": "stdout",
     "output_type": "stream",
     "text": [
      "  Installing build dependencies ... \u001b[?25l-"
     ]
    },
    {
     "name": "stdout",
     "output_type": "stream",
     "text": [
      "\b \b\\"
     ]
    },
    {
     "name": "stdout",
     "output_type": "stream",
     "text": [
      "\b \b|"
     ]
    },
    {
     "name": "stdout",
     "output_type": "stream",
     "text": [
      "\b \bdone\r\n"
     ]
    },
    {
     "name": "stdout",
     "output_type": "stream",
     "text": [
      "\u001b[?25h  Getting requirements to build wheel ... \u001b[?25l-"
     ]
    },
    {
     "name": "stdout",
     "output_type": "stream",
     "text": [
      "\b \bdone\r\n"
     ]
    },
    {
     "name": "stdout",
     "output_type": "stream",
     "text": [
      "\u001b[?25h  Preparing metadata (pyproject.toml) ... \u001b[?25l-"
     ]
    },
    {
     "name": "stdout",
     "output_type": "stream",
     "text": [
      "\b \bdone\r\n",
      "\u001b[?25hRequirement already satisfied: numpy>=1.18.0 in /tmpfs/src/tf_docs_env/lib/python3.9/site-packages (from gym[classic_control]) (1.26.4)\r\n"
     ]
    },
    {
     "name": "stdout",
     "output_type": "stream",
     "text": [
      "Collecting cloudpickle>=1.2.0 (from gym[classic_control])\r\n",
      "  Using cached cloudpickle-3.0.0-py3-none-any.whl.metadata (7.0 kB)\r\n",
      "Collecting gym-notices>=0.0.4 (from gym[classic_control])\r\n",
      "  Downloading gym_notices-0.0.8-py3-none-any.whl.metadata (1.0 kB)\r\n"
     ]
    },
    {
     "name": "stdout",
     "output_type": "stream",
     "text": [
      "Requirement already satisfied: importlib-metadata>=4.8.0 in /tmpfs/src/tf_docs_env/lib/python3.9/site-packages (from gym[classic_control]) (8.2.0)\r\n"
     ]
    },
    {
     "name": "stdout",
     "output_type": "stream",
     "text": [
      "Collecting pygame==2.1.0 (from gym[classic_control])\r\n"
     ]
    },
    {
     "name": "stdout",
     "output_type": "stream",
     "text": [
      "  Downloading pygame-2.1.0-cp39-cp39-manylinux_2_17_x86_64.manylinux2014_x86_64.whl.metadata (9.5 kB)\r\n",
      "Requirement already satisfied: zipp>=0.5 in /tmpfs/src/tf_docs_env/lib/python3.9/site-packages (from importlib-metadata>=4.8.0->gym[classic_control]) (3.20.0)\r\n"
     ]
    },
    {
     "name": "stdout",
     "output_type": "stream",
     "text": [
      "Downloading pygame-2.1.0-cp39-cp39-manylinux_2_17_x86_64.manylinux2014_x86_64.whl (18.3 MB)\r\n"
     ]
    },
    {
     "name": "stdout",
     "output_type": "stream",
     "text": [
      "Using cached cloudpickle-3.0.0-py3-none-any.whl (20 kB)\r\n",
      "Downloading gym_notices-0.0.8-py3-none-any.whl (3.0 kB)\r\n"
     ]
    },
    {
     "name": "stdout",
     "output_type": "stream",
     "text": [
      "Building wheels for collected packages: gym\r\n"
     ]
    },
    {
     "name": "stdout",
     "output_type": "stream",
     "text": [
      "  Building wheel for gym (pyproject.toml) ... \u001b[?25l-"
     ]
    },
    {
     "name": "stdout",
     "output_type": "stream",
     "text": [
      "\b \b\\"
     ]
    },
    {
     "name": "stdout",
     "output_type": "stream",
     "text": [
      "\b \bdone\r\n",
      "\u001b[?25h  Created wheel for gym: filename=gym-0.26.2-py3-none-any.whl size=827621 sha256=5c026f387ddccc50f4e466c2a3aef61e075d6c1f5dc7340297a8e5d078f55848\r\n",
      "  Stored in directory: /home/kbuilder/.cache/pip/wheels/af/2b/30/5e78b8b9599f2a2286a582b8da80594f654bf0e18d825a4405\r\n"
     ]
    },
    {
     "name": "stdout",
     "output_type": "stream",
     "text": [
      "Successfully built gym\r\n"
     ]
    },
    {
     "name": "stdout",
     "output_type": "stream",
     "text": [
      "Installing collected packages: gym-notices, pygame, cloudpickle, gym\r\n"
     ]
    },
    {
     "name": "stdout",
     "output_type": "stream",
     "text": [
      "Successfully installed cloudpickle-3.0.0 gym-0.26.2 gym-notices-0.0.8 pygame-2.1.0\r\n"
     ]
    },
    {
     "name": "stdout",
     "output_type": "stream",
     "text": [
      "Collecting pyglet\r\n"
     ]
    },
    {
     "name": "stdout",
     "output_type": "stream",
     "text": [
      "  Downloading pyglet-2.0.17-py3-none-any.whl.metadata (7.9 kB)\r\n",
      "Downloading pyglet-2.0.17-py3-none-any.whl (936 kB)\r\n"
     ]
    },
    {
     "name": "stdout",
     "output_type": "stream",
     "text": [
      "Installing collected packages: pyglet\r\n"
     ]
    },
    {
     "name": "stdout",
     "output_type": "stream",
     "text": [
      "Successfully installed pyglet-2.0.17\r\n"
     ]
    }
   ],
   "source": [
    "!pip install gym[classic_control]\n",
    "!pip install pyglet"
   ]
  },
  {
   "cell_type": "code",
   "execution_count": 3,
   "metadata": {
    "execution": {
     "iopub.execute_input": "2024-08-16T02:25:28.289308Z",
     "iopub.status.busy": "2024-08-16T02:25:28.289003Z",
     "iopub.status.idle": "2024-08-16T02:25:38.389710Z",
     "shell.execute_reply": "2024-08-16T02:25:38.388375Z"
    },
    "id": "WBeQhPi2S4m5"
   },
   "outputs": [],
   "source": [
    "%%bash\n",
    "# Install additional packages for visualization\n",
    "sudo apt-get install -y python-opengl > /dev/null 2>&1\n",
    "pip install git+https://github.com/tensorflow/docs > /dev/null 2>&1"
   ]
  },
  {
   "cell_type": "code",
   "execution_count": 4,
   "metadata": {
    "execution": {
     "iopub.execute_input": "2024-08-16T02:25:38.394227Z",
     "iopub.status.busy": "2024-08-16T02:25:38.393882Z",
     "iopub.status.idle": "2024-08-16T02:25:41.082095Z",
     "shell.execute_reply": "2024-08-16T02:25:41.081147Z"
    },
    "id": "tT4N3qYviUJr"
   },
   "outputs": [
    {
     "name": "stderr",
     "output_type": "stream",
     "text": [
      "2024-08-16 02:25:38.808866: E external/local_xla/xla/stream_executor/cuda/cuda_fft.cc:485] Unable to register cuFFT factory: Attempting to register factory for plugin cuFFT when one has already been registered\n",
      "2024-08-16 02:25:38.830167: E external/local_xla/xla/stream_executor/cuda/cuda_dnn.cc:8454] Unable to register cuDNN factory: Attempting to register factory for plugin cuDNN when one has already been registered\n",
      "2024-08-16 02:25:38.836483: E external/local_xla/xla/stream_executor/cuda/cuda_blas.cc:1452] Unable to register cuBLAS factory: Attempting to register factory for plugin cuBLAS when one has already been registered\n"
     ]
    }
   ],
   "source": [
    "import collections\n",
    "import gym\n",
    "import numpy as np\n",
    "import statistics\n",
    "import tensorflow as tf\n",
    "import tqdm\n",
    "\n",
    "from matplotlib import pyplot as plt\n",
    "from tensorflow.keras import layers\n",
    "from typing import Any, List, Sequence, Tuple\n",
    "\n",
    "\n",
    "# Create the environment\n",
    "env = gym.make(\"CartPole-v1\")\n",
    "\n",
    "# Set seed for experiment reproducibility\n",
    "seed = 42\n",
    "tf.random.set_seed(seed)\n",
    "np.random.seed(seed)\n",
    "\n",
    "# Small epsilon value for stabilizing division operations\n",
    "eps = np.finfo(np.float32).eps.item()"
   ]
  },
  {
   "cell_type": "markdown",
   "metadata": {
    "id": "AOUCe2D0iUJu"
   },
   "source": [
    "## The model\n",
    "\n",
    "The *Actor* and *Critic* will be modeled using one neural network that generates the action probabilities and Critic value respectively. This tutorial uses model subclassing to define the model.\n",
    "\n",
    "During the forward pass, the model will take in the state as the input and will output both action probabilities and critic value $V$, which models the state-dependent [value function](https://spinningup.openai.com/en/latest/spinningup/rl_intro.html#value-functions). The goal is to train a model that chooses actions based on a policy $\\pi$ that maximizes expected [return](https://spinningup.openai.com/en/latest/spinningup/rl_intro.html#reward-and-return).\n",
    "\n",
    "For `CartPole-v0`, there are four values representing the state: cart position, cart-velocity, pole angle and pole velocity respectively. The agent can take two actions to push the cart left (`0`) and right (`1`), respectively.\n",
    "\n",
    "Refer to [Gym's Cart Pole documentation page](https://www.gymlibrary.dev/environments/classic_control/cart_pole/) and [_Neuronlike adaptive elements that can solve difficult learning control problems_](http://www.derongliu.org/adp/adp-cdrom/Barto1983.pdf) by Barto, Sutton and Anderson (1983) for more information.\n"
   ]
  },
  {
   "cell_type": "code",
   "execution_count": 5,
   "metadata": {
    "execution": {
     "iopub.execute_input": "2024-08-16T02:25:41.086442Z",
     "iopub.status.busy": "2024-08-16T02:25:41.085990Z",
     "iopub.status.idle": "2024-08-16T02:25:41.091949Z",
     "shell.execute_reply": "2024-08-16T02:25:41.091131Z"
    },
    "id": "aXKbbMC-kmuv"
   },
   "outputs": [],
   "source": [
    "class ActorCritic(tf.keras.Model):\n",
    "  \"\"\"Combined actor-critic network.\"\"\"\n",
    "\n",
    "  def __init__(\n",
    "      self,\n",
    "      num_actions: int,\n",
    "      num_hidden_units: int):\n",
    "    \"\"\"Initialize.\"\"\"\n",
    "    super().__init__()\n",
    "\n",
    "    self.common = layers.Dense(num_hidden_units, activation=\"relu\")\n",
    "    self.actor = layers.Dense(num_actions)\n",
    "    self.critic = layers.Dense(1)\n",
    "\n",
    "  def call(self, inputs: tf.Tensor) -> Tuple[tf.Tensor, tf.Tensor]:\n",
    "    x = self.common(inputs)\n",
    "    return self.actor(x), self.critic(x)"
   ]
  },
  {
   "cell_type": "code",
   "execution_count": 6,
   "metadata": {
    "execution": {
     "iopub.execute_input": "2024-08-16T02:25:41.094870Z",
     "iopub.status.busy": "2024-08-16T02:25:41.094623Z",
     "iopub.status.idle": "2024-08-16T02:25:41.102456Z",
     "shell.execute_reply": "2024-08-16T02:25:41.101589Z"
    },
    "id": "nWyxJgjLn68c"
   },
   "outputs": [],
   "source": [
    "num_actions = env.action_space.n  # 2\n",
    "num_hidden_units = 128\n",
    "\n",
    "model = ActorCritic(num_actions, num_hidden_units)"
   ]
  },
  {
   "cell_type": "markdown",
   "metadata": {
    "id": "hk92njFziUJw"
   },
   "source": [
    "## Train the agent\n",
    "\n",
    "To train the agent, you will follow these steps:\n",
    "\n",
    "1. Run the agent on the environment to collect training data per episode.\n",
    "2. Compute expected return at each time step.\n",
    "3. Compute the loss for the combined Actor-Critic model.\n",
    "4. Compute gradients and update network parameters.\n",
    "5. Repeat 1-4 until either success criterion or max episodes has been reached.\n"
   ]
  },
  {
   "cell_type": "markdown",
   "metadata": {
    "id": "R2nde2XDs8Gh"
   },
   "source": [
    "### 1. Collect training data\n",
    "\n",
    "As in supervised learning, in order to train the actor-critic model, you need\n",
    "to have training data. However, in order to collect such data, the model would\n",
    "need to be \"run\" in the environment.\n",
    "\n",
    "Training data is collected for each episode. Then at each time step, the model's forward pass will be run on the environment's state in order to generate action probabilities and the critic value based on the current policy parameterized by the model's weights.\n",
    "\n",
    "The next action will be sampled from the action probabilities generated by the model, which would then be applied to the environment, causing the next state and reward to be generated.\n",
    "\n",
    "This process is implemented in the `run_episode` function, which uses TensorFlow operations so that it can later be compiled into a TensorFlow graph for faster training. Note that `tf.TensorArray`s were used to support Tensor iteration on variable length arrays."
   ]
  },
  {
   "cell_type": "code",
   "execution_count": 7,
   "metadata": {
    "execution": {
     "iopub.execute_input": "2024-08-16T02:25:41.105998Z",
     "iopub.status.busy": "2024-08-16T02:25:41.105500Z",
     "iopub.status.idle": "2024-08-16T02:25:41.110510Z",
     "shell.execute_reply": "2024-08-16T02:25:41.109614Z"
    },
    "id": "5URrbGlDSAGx"
   },
   "outputs": [],
   "source": [
    "# Wrap Gym's `env.step` call as an operation in a TensorFlow function.\n",
    "# This would allow it to be included in a callable TensorFlow graph.\n",
    "\n",
    "@tf.numpy_function(Tout=[tf.float32, tf.int32, tf.int32])\n",
    "def env_step(action: np.ndarray) -> Tuple[np.ndarray, np.ndarray, np.ndarray]:\n",
    "  \"\"\"Returns state, reward and done flag given an action.\"\"\"\n",
    "\n",
    "  state, reward, done, truncated, info = env.step(action)\n",
    "  return (state.astype(np.float32),\n",
    "          np.array(reward, np.int32),\n",
    "          np.array(done, np.int32))\n"
   ]
  },
  {
   "cell_type": "code",
   "execution_count": 8,
   "metadata": {
    "execution": {
     "iopub.execute_input": "2024-08-16T02:25:41.113607Z",
     "iopub.status.busy": "2024-08-16T02:25:41.113359Z",
     "iopub.status.idle": "2024-08-16T02:25:41.120888Z",
     "shell.execute_reply": "2024-08-16T02:25:41.120062Z"
    },
    "id": "a4qVRV063Cl9"
   },
   "outputs": [],
   "source": [
    "def run_episode(\n",
    "    initial_state: tf.Tensor,\n",
    "    model: tf.keras.Model,\n",
    "    max_steps: int) -> Tuple[tf.Tensor, tf.Tensor, tf.Tensor]:\n",
    "  \"\"\"Runs a single episode to collect training data.\"\"\"\n",
    "\n",
    "  action_probs = tf.TensorArray(dtype=tf.float32, size=0, dynamic_size=True)\n",
    "  values = tf.TensorArray(dtype=tf.float32, size=0, dynamic_size=True)\n",
    "  rewards = tf.TensorArray(dtype=tf.int32, size=0, dynamic_size=True)\n",
    "\n",
    "  initial_state_shape = initial_state.shape\n",
    "  state = initial_state\n",
    "\n",
    "  for t in tf.range(max_steps):\n",
    "    # Convert state into a batched tensor (batch size = 1)\n",
    "    state = tf.expand_dims(state, 0)\n",
    "\n",
    "    # Run the model and to get action probabilities and critic value\n",
    "    action_logits_t, value = model(state)\n",
    "\n",
    "    # Sample next action from the action probability distribution\n",
    "    action = tf.random.categorical(action_logits_t, 1)[0, 0]\n",
    "    action_probs_t = tf.nn.softmax(action_logits_t)\n",
    "\n",
    "    # Store critic values\n",
    "    values = values.write(t, tf.squeeze(value))\n",
    "\n",
    "    # Store log probability of the action chosen\n",
    "    action_probs = action_probs.write(t, action_probs_t[0, action])\n",
    "\n",
    "    # Apply action to the environment to get next state and reward\n",
    "    state, reward, done = env_step(action)\n",
    "    state.set_shape(initial_state_shape)\n",
    "\n",
    "    # Store reward\n",
    "    rewards = rewards.write(t, reward)\n",
    "\n",
    "    if tf.cast(done, tf.bool):\n",
    "      break\n",
    "\n",
    "  action_probs = action_probs.stack()\n",
    "  values = values.stack()\n",
    "  rewards = rewards.stack()\n",
    "\n",
    "  return action_probs, values, rewards"
   ]
  },
  {
   "cell_type": "markdown",
   "metadata": {
    "id": "lBnIHdz22dIx"
   },
   "source": [
    "### 2. Compute the expected returns\n",
    "\n",
    "The sequence of rewards for each timestep $t$, $\\{r_{t}\\}^{T}_{t=1}$ collected during one episode is converted into a sequence of expected returns $\\{G_{t}\\}^{T}_{t=1}$ in which the sum of rewards is taken from the current timestep $t$ to $T$ and each reward is multiplied with an exponentially decaying discount factor $\\gamma$:\n",
    "\n",
    "$$G_{t} = \\sum^{T}_{t'=t} \\gamma^{t'-t}r_{t'}$$\n",
    "\n",
    "Since $\\gamma\\in(0,1)$, rewards further out from the current timestep are given less weight.\n",
    "\n",
    "Intuitively, expected return simply implies that rewards now are better than rewards later. In a mathematical sense, it is to ensure that the sum of the rewards converges.\n",
    "\n",
    "To stabilize training, the resulting sequence of returns is also standardized (i.e. to have zero mean and unit standard deviation).\n"
   ]
  },
  {
   "cell_type": "code",
   "execution_count": 9,
   "metadata": {
    "execution": {
     "iopub.execute_input": "2024-08-16T02:25:41.124326Z",
     "iopub.status.busy": "2024-08-16T02:25:41.124079Z",
     "iopub.status.idle": "2024-08-16T02:25:41.129954Z",
     "shell.execute_reply": "2024-08-16T02:25:41.129082Z"
    },
    "id": "jpEwFyl315dl"
   },
   "outputs": [],
   "source": [
    "def get_expected_return(\n",
    "    rewards: tf.Tensor,\n",
    "    gamma: float,\n",
    "    standardize: bool = True) -> tf.Tensor:\n",
    "  \"\"\"Compute expected returns per timestep.\"\"\"\n",
    "\n",
    "  n = tf.shape(rewards)[0]\n",
    "  returns = tf.TensorArray(dtype=tf.float32, size=n)\n",
    "\n",
    "  # Start from the end of `rewards` and accumulate reward sums\n",
    "  # into the `returns` array\n",
    "  rewards = tf.cast(rewards[::-1], dtype=tf.float32)\n",
    "  discounted_sum = tf.constant(0.0)\n",
    "  discounted_sum_shape = discounted_sum.shape\n",
    "  for i in tf.range(n):\n",
    "    reward = rewards[i]\n",
    "    discounted_sum = reward + gamma * discounted_sum\n",
    "    discounted_sum.set_shape(discounted_sum_shape)\n",
    "    returns = returns.write(i, discounted_sum)\n",
    "  returns = returns.stack()[::-1]\n",
    "\n",
    "  if standardize:\n",
    "    returns = ((returns - tf.math.reduce_mean(returns)) /\n",
    "               (tf.math.reduce_std(returns) + eps))\n",
    "\n",
    "  return returns"
   ]
  },
  {
   "cell_type": "markdown",
   "metadata": {
    "id": "qhr50_Czxazw"
   },
   "source": [
    "### 3. The Actor-Critic loss\n",
    "\n",
    "Since you're using a hybrid Actor-Critic model, the chosen loss function is a combination of Actor and Critic losses for training, as shown below:\n",
    "\n",
    "$$L = L_{actor} + L_{critic}$$"
   ]
  },
  {
   "cell_type": "markdown",
   "metadata": {
    "id": "nOQIJuG1xdTH"
   },
   "source": [
    "#### The Actor loss\n",
    "\n",
    "The Actor loss is based on [policy gradients with the Critic as a state dependent baseline](https://www.youtube.com/watch?v=EKqxumCuAAY&t=62m23s) and computed with single-sample (per-episode) estimates.\n",
    "\n",
    "$$L_{actor} = -\\sum^{T}_{t=1} \\log\\pi_{\\theta}(a_{t} | s_{t})[G(s_{t}, a_{t})  - V^{\\pi}_{\\theta}(s_{t})]$$\n",
    "\n",
    "where:\n",
    "- $T$: the number of timesteps per episode, which can vary per episode\n",
    "- $s_{t}$: the state at timestep $t$\n",
    "- $a_{t}$: chosen action at timestep $t$ given state $s$\n",
    "- $\\pi_{\\theta}$: is the policy (Actor) parameterized by $\\theta$\n",
    "- $V^{\\pi}_{\\theta}$: is the value function (Critic) also parameterized by $\\theta$\n",
    "- $G = G_{t}$: the expected return for a given state, action pair at timestep $t$\n",
    "\n",
    "A negative term is added to the sum since the idea is to maximize the probabilities of actions yielding higher rewards by minimizing the combined loss.\n",
    "\n",
    "<br>"
   ]
  },
  {
   "cell_type": "markdown",
   "metadata": {
    "id": "Y304O4OAxiAv"
   },
   "source": [
    "##### The Advantage\n",
    "\n",
    "The $G - V$ term in our $L_{actor}$ formulation is called the [Advantage](https://spinningup.openai.com/en/latest/spinningup/rl_intro.html#advantage-functions), which indicates how much better an action is given a particular state over a random action selected according to the policy $\\pi$ for that state.\n",
    "\n",
    "While it's possible to exclude a baseline, this may result in high variance during training. And the nice thing about choosing the critic $V$ as a baseline is that it trained to be as close as possible to $G$, leading to a lower variance.\n",
    "\n",
    "In addition, without the Critic, the algorithm would try to increase probabilities for actions taken on a particular state based on expected return, which may not make much of a difference if the relative probabilities between actions remain the same.\n",
    "\n",
    "For instance, suppose that two actions for a given state would yield the same expected return. Without the Critic, the algorithm would try to raise the probability of these actions based on the objective $J$. With the Critic, it may turn out that there's no Advantage ($G - V = 0$), and thus no benefit gained in increasing the actions' probabilities and the algorithm would set the gradients to zero.\n",
    "\n",
    "<br>"
   ]
  },
  {
   "cell_type": "markdown",
   "metadata": {
    "id": "1hrPLrgGxlvb"
   },
   "source": [
    "#### The Critic loss\n",
    "\n",
    "Training $V$ to be as close possible to $G$ can be set up as a regression problem with the following loss function:\n",
    "\n",
    "$$L_{critic} = L_{\\delta}(G, V^{\\pi}_{\\theta})$$\n",
    "\n",
    "where $L_{\\delta}$ is the [Huber loss](https://en.wikipedia.org/wiki/Huber_loss), which is less sensitive to outliers in data than squared-error loss.\n"
   ]
  },
  {
   "cell_type": "code",
   "execution_count": 10,
   "metadata": {
    "execution": {
     "iopub.execute_input": "2024-08-16T02:25:41.133349Z",
     "iopub.status.busy": "2024-08-16T02:25:41.133103Z",
     "iopub.status.idle": "2024-08-16T02:25:41.138007Z",
     "shell.execute_reply": "2024-08-16T02:25:41.137182Z"
    },
    "id": "9EXwbEez6n9m"
   },
   "outputs": [],
   "source": [
    "huber_loss = tf.keras.losses.Huber(reduction=tf.keras.losses.Reduction.SUM)\n",
    "\n",
    "def compute_loss(\n",
    "    action_probs: tf.Tensor,\n",
    "    values: tf.Tensor,\n",
    "    returns: tf.Tensor) -> tf.Tensor:\n",
    "  \"\"\"Computes the combined Actor-Critic loss.\"\"\"\n",
    "\n",
    "  advantage = returns - values\n",
    "\n",
    "  action_log_probs = tf.math.log(action_probs)\n",
    "  actor_loss = -tf.math.reduce_sum(action_log_probs * advantage)\n",
    "\n",
    "  critic_loss = huber_loss(values, returns)\n",
    "\n",
    "  return actor_loss + critic_loss"
   ]
  },
  {
   "cell_type": "markdown",
   "metadata": {
    "id": "HSYkQOmRfV75"
   },
   "source": [
    "### 4. Define the training step to update parameters\n",
    "\n",
    "All of the steps above are combined into a training step that is run every episode. All steps leading up to the loss function are executed with the `tf.GradientTape` context to enable automatic differentiation.\n",
    "\n",
    "This tutorial uses the Adam optimizer to apply the gradients to the model parameters.\n",
    "\n",
    "The sum of the undiscounted rewards, `episode_reward`, is also computed in this step. This value will be used later on to evaluate if the success criterion is met.\n",
    "\n",
    "The `tf.function` context is applied to the `train_step` function so that it can be compiled into a callable TensorFlow graph, which can lead to 10x speedup in training.\n"
   ]
  },
  {
   "cell_type": "code",
   "execution_count": 11,
   "metadata": {
    "execution": {
     "iopub.execute_input": "2024-08-16T02:25:41.141327Z",
     "iopub.status.busy": "2024-08-16T02:25:41.141061Z",
     "iopub.status.idle": "2024-08-16T02:25:43.359205Z",
     "shell.execute_reply": "2024-08-16T02:25:43.358172Z"
    },
    "id": "QoccrkF3IFCg"
   },
   "outputs": [
    {
     "name": "stderr",
     "output_type": "stream",
     "text": [
      "WARNING: All log messages before absl::InitializeLog() is called are written to STDERR\n",
      "I0000 00:00:1723775141.663718   57252 cuda_executor.cc:1015] successful NUMA node read from SysFS had negative value (-1), but there must be at least one NUMA node, so returning NUMA node zero. See more at https://github.com/torvalds/linux/blob/v6.0/Documentation/ABI/testing/sysfs-bus-pci#L344-L355\n",
      "I0000 00:00:1723775141.667620   57252 cuda_executor.cc:1015] successful NUMA node read from SysFS had negative value (-1), but there must be at least one NUMA node, so returning NUMA node zero. See more at https://github.com/torvalds/linux/blob/v6.0/Documentation/ABI/testing/sysfs-bus-pci#L344-L355\n",
      "I0000 00:00:1723775141.671341   57252 cuda_executor.cc:1015] successful NUMA node read from SysFS had negative value (-1), but there must be at least one NUMA node, so returning NUMA node zero. See more at https://github.com/torvalds/linux/blob/v6.0/Documentation/ABI/testing/sysfs-bus-pci#L344-L355\n",
      "I0000 00:00:1723775141.675129   57252 cuda_executor.cc:1015] successful NUMA node read from SysFS had negative value (-1), but there must be at least one NUMA node, so returning NUMA node zero. See more at https://github.com/torvalds/linux/blob/v6.0/Documentation/ABI/testing/sysfs-bus-pci#L344-L355\n",
      "I0000 00:00:1723775141.687076   57252 cuda_executor.cc:1015] successful NUMA node read from SysFS had negative value (-1), but there must be at least one NUMA node, so returning NUMA node zero. See more at https://github.com/torvalds/linux/blob/v6.0/Documentation/ABI/testing/sysfs-bus-pci#L344-L355\n",
      "I0000 00:00:1723775141.690515   57252 cuda_executor.cc:1015] successful NUMA node read from SysFS had negative value (-1), but there must be at least one NUMA node, so returning NUMA node zero. See more at https://github.com/torvalds/linux/blob/v6.0/Documentation/ABI/testing/sysfs-bus-pci#L344-L355\n",
      "I0000 00:00:1723775141.694025   57252 cuda_executor.cc:1015] successful NUMA node read from SysFS had negative value (-1), but there must be at least one NUMA node, so returning NUMA node zero. See more at https://github.com/torvalds/linux/blob/v6.0/Documentation/ABI/testing/sysfs-bus-pci#L344-L355\n",
      "I0000 00:00:1723775141.697475   57252 cuda_executor.cc:1015] successful NUMA node read from SysFS had negative value (-1), but there must be at least one NUMA node, so returning NUMA node zero. See more at https://github.com/torvalds/linux/blob/v6.0/Documentation/ABI/testing/sysfs-bus-pci#L344-L355\n",
      "I0000 00:00:1723775141.700940   57252 cuda_executor.cc:1015] successful NUMA node read from SysFS had negative value (-1), but there must be at least one NUMA node, so returning NUMA node zero. See more at https://github.com/torvalds/linux/blob/v6.0/Documentation/ABI/testing/sysfs-bus-pci#L344-L355\n",
      "I0000 00:00:1723775141.704504   57252 cuda_executor.cc:1015] successful NUMA node read from SysFS had negative value (-1), but there must be at least one NUMA node, so returning NUMA node zero. See more at https://github.com/torvalds/linux/blob/v6.0/Documentation/ABI/testing/sysfs-bus-pci#L344-L355\n",
      "I0000 00:00:1723775141.707964   57252 cuda_executor.cc:1015] successful NUMA node read from SysFS had negative value (-1), but there must be at least one NUMA node, so returning NUMA node zero. See more at https://github.com/torvalds/linux/blob/v6.0/Documentation/ABI/testing/sysfs-bus-pci#L344-L355\n",
      "I0000 00:00:1723775141.711412   57252 cuda_executor.cc:1015] successful NUMA node read from SysFS had negative value (-1), but there must be at least one NUMA node, so returning NUMA node zero. See more at https://github.com/torvalds/linux/blob/v6.0/Documentation/ABI/testing/sysfs-bus-pci#L344-L355\n",
      "I0000 00:00:1723775142.938318   57252 cuda_executor.cc:1015] successful NUMA node read from SysFS had negative value (-1), but there must be at least one NUMA node, so returning NUMA node zero. See more at https://github.com/torvalds/linux/blob/v6.0/Documentation/ABI/testing/sysfs-bus-pci#L344-L355\n",
      "I0000 00:00:1723775142.940342   57252 cuda_executor.cc:1015] successful NUMA node read from SysFS had negative value (-1), but there must be at least one NUMA node, so returning NUMA node zero. See more at https://github.com/torvalds/linux/blob/v6.0/Documentation/ABI/testing/sysfs-bus-pci#L344-L355\n",
      "I0000 00:00:1723775142.942370   57252 cuda_executor.cc:1015] successful NUMA node read from SysFS had negative value (-1), but there must be at least one NUMA node, so returning NUMA node zero. See more at https://github.com/torvalds/linux/blob/v6.0/Documentation/ABI/testing/sysfs-bus-pci#L344-L355\n",
      "I0000 00:00:1723775142.944416   57252 cuda_executor.cc:1015] successful NUMA node read from SysFS had negative value (-1), but there must be at least one NUMA node, so returning NUMA node zero. See more at https://github.com/torvalds/linux/blob/v6.0/Documentation/ABI/testing/sysfs-bus-pci#L344-L355\n",
      "I0000 00:00:1723775142.946416   57252 cuda_executor.cc:1015] successful NUMA node read from SysFS had negative value (-1), but there must be at least one NUMA node, so returning NUMA node zero. See more at https://github.com/torvalds/linux/blob/v6.0/Documentation/ABI/testing/sysfs-bus-pci#L344-L355\n",
      "I0000 00:00:1723775142.948277   57252 cuda_executor.cc:1015] successful NUMA node read from SysFS had negative value (-1), but there must be at least one NUMA node, so returning NUMA node zero. See more at https://github.com/torvalds/linux/blob/v6.0/Documentation/ABI/testing/sysfs-bus-pci#L344-L355\n",
      "I0000 00:00:1723775142.950194   57252 cuda_executor.cc:1015] successful NUMA node read from SysFS had negative value (-1), but there must be at least one NUMA node, so returning NUMA node zero. See more at https://github.com/torvalds/linux/blob/v6.0/Documentation/ABI/testing/sysfs-bus-pci#L344-L355\n",
      "I0000 00:00:1723775142.952156   57252 cuda_executor.cc:1015] successful NUMA node read from SysFS had negative value (-1), but there must be at least one NUMA node, so returning NUMA node zero. See more at https://github.com/torvalds/linux/blob/v6.0/Documentation/ABI/testing/sysfs-bus-pci#L344-L355\n",
      "I0000 00:00:1723775142.954012   57252 cuda_executor.cc:1015] successful NUMA node read from SysFS had negative value (-1), but there must be at least one NUMA node, so returning NUMA node zero. See more at https://github.com/torvalds/linux/blob/v6.0/Documentation/ABI/testing/sysfs-bus-pci#L344-L355\n",
      "I0000 00:00:1723775142.955861   57252 cuda_executor.cc:1015] successful NUMA node read from SysFS had negative value (-1), but there must be at least one NUMA node, so returning NUMA node zero. See more at https://github.com/torvalds/linux/blob/v6.0/Documentation/ABI/testing/sysfs-bus-pci#L344-L355\n",
      "I0000 00:00:1723775142.957791   57252 cuda_executor.cc:1015] successful NUMA node read from SysFS had negative value (-1), but there must be at least one NUMA node, so returning NUMA node zero. See more at https://github.com/torvalds/linux/blob/v6.0/Documentation/ABI/testing/sysfs-bus-pci#L344-L355\n",
      "I0000 00:00:1723775142.959728   57252 cuda_executor.cc:1015] successful NUMA node read from SysFS had negative value (-1), but there must be at least one NUMA node, so returning NUMA node zero. See more at https://github.com/torvalds/linux/blob/v6.0/Documentation/ABI/testing/sysfs-bus-pci#L344-L355\n",
      "I0000 00:00:1723775142.997905   57252 cuda_executor.cc:1015] successful NUMA node read from SysFS had negative value (-1), but there must be at least one NUMA node, so returning NUMA node zero. See more at https://github.com/torvalds/linux/blob/v6.0/Documentation/ABI/testing/sysfs-bus-pci#L344-L355\n",
      "I0000 00:00:1723775142.999871   57252 cuda_executor.cc:1015] successful NUMA node read from SysFS had negative value (-1), but there must be at least one NUMA node, so returning NUMA node zero. See more at https://github.com/torvalds/linux/blob/v6.0/Documentation/ABI/testing/sysfs-bus-pci#L344-L355\n",
      "I0000 00:00:1723775143.001830   57252 cuda_executor.cc:1015] successful NUMA node read from SysFS had negative value (-1), but there must be at least one NUMA node, so returning NUMA node zero. See more at https://github.com/torvalds/linux/blob/v6.0/Documentation/ABI/testing/sysfs-bus-pci#L344-L355\n",
      "I0000 00:00:1723775143.003823   57252 cuda_executor.cc:1015] successful NUMA node read from SysFS had negative value (-1), but there must be at least one NUMA node, so returning NUMA node zero. See more at https://github.com/torvalds/linux/blob/v6.0/Documentation/ABI/testing/sysfs-bus-pci#L344-L355\n",
      "I0000 00:00:1723775143.005687   57252 cuda_executor.cc:1015] successful NUMA node read from SysFS had negative value (-1), but there must be at least one NUMA node, so returning NUMA node zero. See more at https://github.com/torvalds/linux/blob/v6.0/Documentation/ABI/testing/sysfs-bus-pci#L344-L355\n",
      "I0000 00:00:1723775143.007547   57252 cuda_executor.cc:1015] successful NUMA node read from SysFS had negative value (-1), but there must be at least one NUMA node, so returning NUMA node zero. See more at https://github.com/torvalds/linux/blob/v6.0/Documentation/ABI/testing/sysfs-bus-pci#L344-L355\n",
      "I0000 00:00:1723775143.009500   57252 cuda_executor.cc:1015] successful NUMA node read from SysFS had negative value (-1), but there must be at least one NUMA node, so returning NUMA node zero. See more at https://github.com/torvalds/linux/blob/v6.0/Documentation/ABI/testing/sysfs-bus-pci#L344-L355\n",
      "I0000 00:00:1723775143.011459   57252 cuda_executor.cc:1015] successful NUMA node read from SysFS had negative value (-1), but there must be at least one NUMA node, so returning NUMA node zero. See more at https://github.com/torvalds/linux/blob/v6.0/Documentation/ABI/testing/sysfs-bus-pci#L344-L355\n",
      "I0000 00:00:1723775143.013359   57252 cuda_executor.cc:1015] successful NUMA node read from SysFS had negative value (-1), but there must be at least one NUMA node, so returning NUMA node zero. See more at https://github.com/torvalds/linux/blob/v6.0/Documentation/ABI/testing/sysfs-bus-pci#L344-L355\n",
      "I0000 00:00:1723775143.015658   57252 cuda_executor.cc:1015] successful NUMA node read from SysFS had negative value (-1), but there must be at least one NUMA node, so returning NUMA node zero. See more at https://github.com/torvalds/linux/blob/v6.0/Documentation/ABI/testing/sysfs-bus-pci#L344-L355\n",
      "I0000 00:00:1723775143.017987   57252 cuda_executor.cc:1015] successful NUMA node read from SysFS had negative value (-1), but there must be at least one NUMA node, so returning NUMA node zero. See more at https://github.com/torvalds/linux/blob/v6.0/Documentation/ABI/testing/sysfs-bus-pci#L344-L355\n",
      "I0000 00:00:1723775143.020344   57252 cuda_executor.cc:1015] successful NUMA node read from SysFS had negative value (-1), but there must be at least one NUMA node, so returning NUMA node zero. See more at https://github.com/torvalds/linux/blob/v6.0/Documentation/ABI/testing/sysfs-bus-pci#L344-L355\n"
     ]
    }
   ],
   "source": [
    "optimizer = tf.keras.optimizers.Adam(learning_rate=0.01)\n",
    "\n",
    "\n",
    "@tf.function\n",
    "def train_step(\n",
    "    initial_state: tf.Tensor,\n",
    "    model: tf.keras.Model,\n",
    "    optimizer: tf.keras.optimizers.Optimizer,\n",
    "    gamma: float,\n",
    "    max_steps_per_episode: int) -> tf.Tensor:\n",
    "  \"\"\"Runs a model training step.\"\"\"\n",
    "\n",
    "  with tf.GradientTape() as tape:\n",
    "\n",
    "    # Run the model for one episode to collect training data\n",
    "    action_probs, values, rewards = run_episode(\n",
    "        initial_state, model, max_steps_per_episode)\n",
    "\n",
    "    # Calculate the expected returns\n",
    "    returns = get_expected_return(rewards, gamma)\n",
    "\n",
    "    # Convert training data to appropriate TF tensor shapes\n",
    "    action_probs, values, returns = [\n",
    "        tf.expand_dims(x, 1) for x in [action_probs, values, returns]]\n",
    "\n",
    "    # Calculate the loss values to update our network\n",
    "    loss = compute_loss(action_probs, values, returns)\n",
    "\n",
    "  # Compute the gradients from the loss\n",
    "  grads = tape.gradient(loss, model.trainable_variables)\n",
    "\n",
    "  # Apply the gradients to the model's parameters\n",
    "  optimizer.apply_gradients(zip(grads, model.trainable_variables))\n",
    "\n",
    "  episode_reward = tf.math.reduce_sum(rewards)\n",
    "\n",
    "  return episode_reward"
   ]
  },
  {
   "cell_type": "markdown",
   "metadata": {
    "id": "HFvZiDoAflGK"
   },
   "source": [
    "### 5. Run the training loop\n",
    "\n",
    "Training is executed by running the training step until either the success criterion or maximum number of episodes is reached.  \n",
    "\n",
    "A running record of episode rewards is kept in a queue. Once 100 trials are reached, the oldest reward is removed at the left (tail) end of the queue and the newest one is added at the head (right). A running sum of the rewards is also maintained for computational efficiency.\n",
    "\n",
    "Depending on your runtime, training can finish in less than a minute."
   ]
  },
  {
   "cell_type": "code",
   "execution_count": 12,
   "metadata": {
    "execution": {
     "iopub.execute_input": "2024-08-16T02:25:43.362874Z",
     "iopub.status.busy": "2024-08-16T02:25:43.362590Z",
     "iopub.status.idle": "2024-08-16T02:26:44.057276Z",
     "shell.execute_reply": "2024-08-16T02:26:44.056525Z"
    },
    "id": "kbmBxnzLiUJx"
   },
   "outputs": [
    {
     "name": "stderr",
     "output_type": "stream",
     "text": [
      "\r",
      "  0%|          | 0/10000 [00:00<?, ?it/s]"
     ]
    },
    {
     "name": "stderr",
     "output_type": "stream",
     "text": [
      "/tmpfs/src/tf_docs_env/lib/python3.9/site-packages/gym/utils/passive_env_checker.py:233: DeprecationWarning: `np.bool8` is a deprecated alias for `np.bool_`.  (Deprecated NumPy 1.24)\n",
      "  if not isinstance(terminated, (bool, np.bool8)):\n"
     ]
    },
    {
     "name": "stderr",
     "output_type": "stream",
     "text": [
      "\r",
      "  0%|          | 0/10000 [00:04<?, ?it/s, episode_reward=14, running_reward=14]"
     ]
    },
    {
     "name": "stderr",
     "output_type": "stream",
     "text": [
      "\r",
      "  0%|          | 1/10000 [00:04<12:01:42,  4.33s/it, episode_reward=14, running_reward=14]"
     ]
    },
    {
     "name": "stderr",
     "output_type": "stream",
     "text": [
      "\r",
      "  0%|          | 1/10000 [00:04<12:01:42,  4.33s/it, episode_reward=13, running_reward=13.5]"
     ]
    },
    {
     "name": "stderr",
     "output_type": "stream",
     "text": [
      "\r",
      "  0%|          | 1/10000 [00:04<12:01:42,  4.33s/it, episode_reward=12, running_reward=13]  "
     ]
    },
    {
     "name": "stderr",
     "output_type": "stream",
     "text": [
      "\r",
      "  0%|          | 1/10000 [00:04<12:01:42,  4.33s/it, episode_reward=22, running_reward=15.2]"
     ]
    },
    {
     "name": "stderr",
     "output_type": "stream",
     "text": [
      "\r",
      "  0%|          | 1/10000 [00:04<12:01:42,  4.33s/it, episode_reward=9, running_reward=14]   "
     ]
    },
    {
     "name": "stderr",
     "output_type": "stream",
     "text": [
      "\r",
      "  0%|          | 1/10000 [00:04<12:01:42,  4.33s/it, episode_reward=20, running_reward=15]"
     ]
    },
    {
     "name": "stderr",
     "output_type": "stream",
     "text": [
      "\r",
      "  0%|          | 6/10000 [00:04<1:31:37,  1.82it/s, episode_reward=20, running_reward=15] "
     ]
    },
    {
     "name": "stderr",
     "output_type": "stream",
     "text": [
      "\r",
      "  0%|          | 6/10000 [00:04<1:31:37,  1.82it/s, episode_reward=16, running_reward=15.1]"
     ]
    },
    {
     "name": "stderr",
     "output_type": "stream",
     "text": [
      "\r",
      "  0%|          | 6/10000 [00:04<1:31:37,  1.82it/s, episode_reward=18, running_reward=15.5]"
     ]
    },
    {
     "name": "stderr",
     "output_type": "stream",
     "text": [
      "\r",
      "  0%|          | 6/10000 [00:04<1:31:37,  1.82it/s, episode_reward=12, running_reward=15.1]"
     ]
    },
    {
     "name": "stderr",
     "output_type": "stream",
     "text": [
      "\r",
      "  0%|          | 6/10000 [00:04<1:31:37,  1.82it/s, episode_reward=19, running_reward=15.5]"
     ]
    },
    {
     "name": "stderr",
     "output_type": "stream",
     "text": [
      "\r",
      "  0%|          | 6/10000 [00:04<1:31:37,  1.82it/s, episode_reward=15, running_reward=15.5]"
     ]
    },
    {
     "name": "stderr",
     "output_type": "stream",
     "text": [
      "\r",
      "  0%|          | 11/10000 [00:04<42:31,  3.91it/s, episode_reward=15, running_reward=15.5] "
     ]
    },
    {
     "name": "stderr",
     "output_type": "stream",
     "text": [
      "\r",
      "  0%|          | 11/10000 [00:04<42:31,  3.91it/s, episode_reward=12, running_reward=15.2]"
     ]
    },
    {
     "name": "stderr",
     "output_type": "stream",
     "text": [
      "\r",
      "  0%|          | 11/10000 [00:04<42:31,  3.91it/s, episode_reward=11, running_reward=14.8]"
     ]
    },
    {
     "name": "stderr",
     "output_type": "stream",
     "text": [
      "\r",
      "  0%|          | 11/10000 [00:04<42:31,  3.91it/s, episode_reward=11, running_reward=14.6]"
     ]
    },
    {
     "name": "stderr",
     "output_type": "stream",
     "text": [
      "\r",
      "  0%|          | 11/10000 [00:04<42:31,  3.91it/s, episode_reward=13, running_reward=14.5]"
     ]
    },
    {
     "name": "stderr",
     "output_type": "stream",
     "text": [
      "\r",
      "  0%|          | 11/10000 [00:04<42:31,  3.91it/s, episode_reward=8, running_reward=14.1] "
     ]
    },
    {
     "name": "stderr",
     "output_type": "stream",
     "text": [
      "\r",
      "  0%|          | 11/10000 [00:04<42:31,  3.91it/s, episode_reward=8, running_reward=13.7]"
     ]
    },
    {
     "name": "stderr",
     "output_type": "stream",
     "text": [
      "\r",
      "  0%|          | 11/10000 [00:04<42:31,  3.91it/s, episode_reward=9, running_reward=13.4]"
     ]
    },
    {
     "name": "stderr",
     "output_type": "stream",
     "text": [
      "\r",
      "  0%|          | 18/10000 [00:04<21:23,  7.78it/s, episode_reward=9, running_reward=13.4]"
     ]
    },
    {
     "name": "stderr",
     "output_type": "stream",
     "text": [
      "\r",
      "  0%|          | 18/10000 [00:04<21:23,  7.78it/s, episode_reward=10, running_reward=13.3]"
     ]
    },
    {
     "name": "stderr",
     "output_type": "stream",
     "text": [
      "\r",
      "  0%|          | 18/10000 [00:04<21:23,  7.78it/s, episode_reward=10, running_reward=13.1]"
     ]
    },
    {
     "name": "stderr",
     "output_type": "stream",
     "text": [
      "\r",
      "  0%|          | 18/10000 [00:04<21:23,  7.78it/s, episode_reward=9, running_reward=12.9] "
     ]
    },
    {
     "name": "stderr",
     "output_type": "stream",
     "text": [
      "\r",
      "  0%|          | 18/10000 [00:04<21:23,  7.78it/s, episode_reward=9, running_reward=12.7]"
     ]
    },
    {
     "name": "stderr",
     "output_type": "stream",
     "text": [
      "\r",
      "  0%|          | 18/10000 [00:04<21:23,  7.78it/s, episode_reward=11, running_reward=12.7]"
     ]
    },
    {
     "name": "stderr",
     "output_type": "stream",
     "text": [
      "\r",
      "  0%|          | 18/10000 [00:04<21:23,  7.78it/s, episode_reward=9, running_reward=12.5] "
     ]
    },
    {
     "name": "stderr",
     "output_type": "stream",
     "text": [
      "\r",
      "  0%|          | 18/10000 [00:04<21:23,  7.78it/s, episode_reward=13, running_reward=12.5]"
     ]
    },
    {
     "name": "stderr",
     "output_type": "stream",
     "text": [
      "\r",
      "  0%|          | 18/10000 [00:04<21:23,  7.78it/s, episode_reward=11, running_reward=12.5]"
     ]
    },
    {
     "name": "stderr",
     "output_type": "stream",
     "text": [
      "\r",
      "  0%|          | 26/10000 [00:04<12:33, 13.24it/s, episode_reward=11, running_reward=12.5]"
     ]
    },
    {
     "name": "stderr",
     "output_type": "stream",
     "text": [
      "\r",
      "  0%|          | 26/10000 [00:04<12:33, 13.24it/s, episode_reward=10, running_reward=12.4]"
     ]
    },
    {
     "name": "stderr",
     "output_type": "stream",
     "text": [
      "\r",
      "  0%|          | 26/10000 [00:04<12:33, 13.24it/s, episode_reward=10, running_reward=12.3]"
     ]
    },
    {
     "name": "stderr",
     "output_type": "stream",
     "text": [
      "\r",
      "  0%|          | 26/10000 [00:04<12:33, 13.24it/s, episode_reward=12, running_reward=12.3]"
     ]
    },
    {
     "name": "stderr",
     "output_type": "stream",
     "text": [
      "\r",
      "  0%|          | 26/10000 [00:04<12:33, 13.24it/s, episode_reward=11, running_reward=12.2]"
     ]
    },
    {
     "name": "stderr",
     "output_type": "stream",
     "text": [
      "\r",
      "  0%|          | 26/10000 [00:04<12:33, 13.24it/s, episode_reward=10, running_reward=12.2]"
     ]
    },
    {
     "name": "stderr",
     "output_type": "stream",
     "text": [
      "\r",
      "  0%|          | 26/10000 [00:04<12:33, 13.24it/s, episode_reward=12, running_reward=12.2]"
     ]
    },
    {
     "name": "stderr",
     "output_type": "stream",
     "text": [
      "\r",
      "  0%|          | 26/10000 [00:04<12:33, 13.24it/s, episode_reward=14, running_reward=12.2]"
     ]
    },
    {
     "name": "stderr",
     "output_type": "stream",
     "text": [
      "\r",
      "  0%|          | 33/10000 [00:04<08:53, 18.69it/s, episode_reward=14, running_reward=12.2]"
     ]
    },
    {
     "name": "stderr",
     "output_type": "stream",
     "text": [
      "\r",
      "  0%|          | 33/10000 [00:04<08:53, 18.69it/s, episode_reward=19, running_reward=12.4]"
     ]
    },
    {
     "name": "stderr",
     "output_type": "stream",
     "text": [
      "\r",
      "  0%|          | 33/10000 [00:04<08:53, 18.69it/s, episode_reward=19, running_reward=12.6]"
     ]
    },
    {
     "name": "stderr",
     "output_type": "stream",
     "text": [
      "\r",
      "  0%|          | 33/10000 [00:04<08:53, 18.69it/s, episode_reward=12, running_reward=12.6]"
     ]
    },
    {
     "name": "stderr",
     "output_type": "stream",
     "text": [
      "\r",
      "  0%|          | 33/10000 [00:04<08:53, 18.69it/s, episode_reward=16, running_reward=12.7]"
     ]
    },
    {
     "name": "stderr",
     "output_type": "stream",
     "text": [
      "\r",
      "  0%|          | 33/10000 [00:04<08:53, 18.69it/s, episode_reward=13, running_reward=12.7]"
     ]
    },
    {
     "name": "stderr",
     "output_type": "stream",
     "text": [
      "\r",
      "  0%|          | 33/10000 [00:04<08:53, 18.69it/s, episode_reward=19, running_reward=12.8]"
     ]
    },
    {
     "name": "stderr",
     "output_type": "stream",
     "text": [
      "\r",
      "  0%|          | 33/10000 [00:04<08:53, 18.69it/s, episode_reward=9, running_reward=12.8] "
     ]
    },
    {
     "name": "stderr",
     "output_type": "stream",
     "text": [
      "\r",
      "  0%|          | 40/10000 [00:04<06:55, 23.96it/s, episode_reward=9, running_reward=12.8]"
     ]
    },
    {
     "name": "stderr",
     "output_type": "stream",
     "text": [
      "\r",
      "  0%|          | 40/10000 [00:05<06:55, 23.96it/s, episode_reward=13, running_reward=12.8]"
     ]
    },
    {
     "name": "stderr",
     "output_type": "stream",
     "text": [
      "\r",
      "  0%|          | 40/10000 [00:05<06:55, 23.96it/s, episode_reward=10, running_reward=12.7]"
     ]
    },
    {
     "name": "stderr",
     "output_type": "stream",
     "text": [
      "\r",
      "  0%|          | 40/10000 [00:05<06:55, 23.96it/s, episode_reward=9, running_reward=12.6] "
     ]
    },
    {
     "name": "stderr",
     "output_type": "stream",
     "text": [
      "\r",
      "  0%|          | 40/10000 [00:05<06:55, 23.96it/s, episode_reward=12, running_reward=12.6]"
     ]
    },
    {
     "name": "stderr",
     "output_type": "stream",
     "text": [
      "\r",
      "  0%|          | 40/10000 [00:05<06:55, 23.96it/s, episode_reward=10, running_reward=12.5]"
     ]
    },
    {
     "name": "stderr",
     "output_type": "stream",
     "text": [
      "\r",
      "  0%|          | 40/10000 [00:05<06:55, 23.96it/s, episode_reward=9, running_reward=12.5] "
     ]
    },
    {
     "name": "stderr",
     "output_type": "stream",
     "text": [
      "\r",
      "  0%|          | 40/10000 [00:05<06:55, 23.96it/s, episode_reward=10, running_reward=12.4]"
     ]
    },
    {
     "name": "stderr",
     "output_type": "stream",
     "text": [
      "\r",
      "  0%|          | 47/10000 [00:05<05:27, 30.41it/s, episode_reward=10, running_reward=12.4]"
     ]
    },
    {
     "name": "stderr",
     "output_type": "stream",
     "text": [
      "\r",
      "  0%|          | 47/10000 [00:05<05:27, 30.41it/s, episode_reward=14, running_reward=12.4]"
     ]
    },
    {
     "name": "stderr",
     "output_type": "stream",
     "text": [
      "\r",
      "  0%|          | 47/10000 [00:05<05:27, 30.41it/s, episode_reward=9, running_reward=12.4] "
     ]
    },
    {
     "name": "stderr",
     "output_type": "stream",
     "text": [
      "\r",
      "  0%|          | 47/10000 [00:05<05:27, 30.41it/s, episode_reward=15, running_reward=12.4]"
     ]
    },
    {
     "name": "stderr",
     "output_type": "stream",
     "text": [
      "\r",
      "  0%|          | 47/10000 [00:05<05:27, 30.41it/s, episode_reward=12, running_reward=12.4]"
     ]
    },
    {
     "name": "stderr",
     "output_type": "stream",
     "text": [
      "\r",
      "  0%|          | 47/10000 [00:05<05:27, 30.41it/s, episode_reward=18, running_reward=12.5]"
     ]
    },
    {
     "name": "stderr",
     "output_type": "stream",
     "text": [
      "\r",
      "  0%|          | 47/10000 [00:05<05:27, 30.41it/s, episode_reward=15, running_reward=12.6]"
     ]
    },
    {
     "name": "stderr",
     "output_type": "stream",
     "text": [
      "\r",
      "  0%|          | 47/10000 [00:05<05:27, 30.41it/s, episode_reward=19, running_reward=12.7]"
     ]
    },
    {
     "name": "stderr",
     "output_type": "stream",
     "text": [
      "\r",
      "  1%|          | 54/10000 [00:05<04:44, 34.97it/s, episode_reward=19, running_reward=12.7]"
     ]
    },
    {
     "name": "stderr",
     "output_type": "stream",
     "text": [
      "\r",
      "  1%|          | 54/10000 [00:05<04:44, 34.97it/s, episode_reward=9, running_reward=12.6] "
     ]
    },
    {
     "name": "stderr",
     "output_type": "stream",
     "text": [
      "\r",
      "  1%|          | 54/10000 [00:05<04:44, 34.97it/s, episode_reward=25, running_reward=12.8]"
     ]
    },
    {
     "name": "stderr",
     "output_type": "stream",
     "text": [
      "\r",
      "  1%|          | 54/10000 [00:05<04:44, 34.97it/s, episode_reward=42, running_reward=13.4]"
     ]
    },
    {
     "name": "stderr",
     "output_type": "stream",
     "text": [
      "\r",
      "  1%|          | 54/10000 [00:05<04:44, 34.97it/s, episode_reward=20, running_reward=13.5]"
     ]
    },
    {
     "name": "stderr",
     "output_type": "stream",
     "text": [
      "\r",
      "  1%|          | 54/10000 [00:05<04:44, 34.97it/s, episode_reward=28, running_reward=13.7]"
     ]
    },
    {
     "name": "stderr",
     "output_type": "stream",
     "text": [
      "\r",
      "  1%|          | 54/10000 [00:05<04:44, 34.97it/s, episode_reward=16, running_reward=13.8]"
     ]
    },
    {
     "name": "stderr",
     "output_type": "stream",
     "text": [
      "\r",
      "  1%|          | 60/10000 [00:05<04:41, 35.35it/s, episode_reward=16, running_reward=13.8]"
     ]
    },
    {
     "name": "stderr",
     "output_type": "stream",
     "text": [
      "\r",
      "  1%|          | 60/10000 [00:05<04:41, 35.35it/s, episode_reward=24, running_reward=13.9]"
     ]
    },
    {
     "name": "stderr",
     "output_type": "stream",
     "text": [
      "\r",
      "  1%|          | 60/10000 [00:05<04:41, 35.35it/s, episode_reward=32, running_reward=14.2]"
     ]
    },
    {
     "name": "stderr",
     "output_type": "stream",
     "text": [
      "\r",
      "  1%|          | 60/10000 [00:05<04:41, 35.35it/s, episode_reward=9, running_reward=14.1] "
     ]
    },
    {
     "name": "stderr",
     "output_type": "stream",
     "text": [
      "\r",
      "  1%|          | 60/10000 [00:05<04:41, 35.35it/s, episode_reward=19, running_reward=14.2]"
     ]
    },
    {
     "name": "stderr",
     "output_type": "stream",
     "text": [
      "\r",
      "  1%|          | 60/10000 [00:05<04:41, 35.35it/s, episode_reward=32, running_reward=14.5]"
     ]
    },
    {
     "name": "stderr",
     "output_type": "stream",
     "text": [
      "\r",
      "  1%|          | 60/10000 [00:05<04:41, 35.35it/s, episode_reward=23, running_reward=14.6]"
     ]
    },
    {
     "name": "stderr",
     "output_type": "stream",
     "text": [
      "\r",
      "  1%|          | 66/10000 [00:05<04:38, 35.71it/s, episode_reward=23, running_reward=14.6]"
     ]
    },
    {
     "name": "stderr",
     "output_type": "stream",
     "text": [
      "\r",
      "  1%|          | 66/10000 [00:05<04:38, 35.71it/s, episode_reward=20, running_reward=14.7]"
     ]
    },
    {
     "name": "stderr",
     "output_type": "stream",
     "text": [
      "\r",
      "  1%|          | 66/10000 [00:05<04:38, 35.71it/s, episode_reward=20, running_reward=14.8]"
     ]
    },
    {
     "name": "stderr",
     "output_type": "stream",
     "text": [
      "\r",
      "  1%|          | 66/10000 [00:05<04:38, 35.71it/s, episode_reward=41, running_reward=15.1]"
     ]
    },
    {
     "name": "stderr",
     "output_type": "stream",
     "text": [
      "\r",
      "  1%|          | 66/10000 [00:05<04:38, 35.71it/s, episode_reward=99, running_reward=16.3]"
     ]
    },
    {
     "name": "stderr",
     "output_type": "stream",
     "text": [
      "\r",
      "  1%|          | 66/10000 [00:05<04:38, 35.71it/s, episode_reward=14, running_reward=16.3]"
     ]
    },
    {
     "name": "stderr",
     "output_type": "stream",
     "text": [
      "\r",
      "  1%|          | 71/10000 [00:05<05:18, 31.18it/s, episode_reward=14, running_reward=16.3]"
     ]
    },
    {
     "name": "stderr",
     "output_type": "stream",
     "text": [
      "\r",
      "  1%|          | 71/10000 [00:05<05:18, 31.18it/s, episode_reward=36, running_reward=16.6]"
     ]
    },
    {
     "name": "stderr",
     "output_type": "stream",
     "text": [
      "\r",
      "  1%|          | 71/10000 [00:05<05:18, 31.18it/s, episode_reward=12, running_reward=16.5]"
     ]
    },
    {
     "name": "stderr",
     "output_type": "stream",
     "text": [
      "\r",
      "  1%|          | 71/10000 [00:05<05:18, 31.18it/s, episode_reward=11, running_reward=16.4]"
     ]
    },
    {
     "name": "stderr",
     "output_type": "stream",
     "text": [
      "\r",
      "  1%|          | 71/10000 [00:05<05:18, 31.18it/s, episode_reward=13, running_reward=16.4]"
     ]
    },
    {
     "name": "stderr",
     "output_type": "stream",
     "text": [
      "\r",
      "  1%|          | 71/10000 [00:05<05:18, 31.18it/s, episode_reward=10, running_reward=16.3]"
     ]
    },
    {
     "name": "stderr",
     "output_type": "stream",
     "text": [
      "\r",
      "  1%|          | 76/10000 [00:05<04:47, 34.47it/s, episode_reward=10, running_reward=16.3]"
     ]
    },
    {
     "name": "stderr",
     "output_type": "stream",
     "text": [
      "\r",
      "  1%|          | 76/10000 [00:05<04:47, 34.47it/s, episode_reward=13, running_reward=16.3]"
     ]
    },
    {
     "name": "stderr",
     "output_type": "stream",
     "text": [
      "\r",
      "  1%|          | 76/10000 [00:05<04:47, 34.47it/s, episode_reward=10, running_reward=16.2]"
     ]
    },
    {
     "name": "stderr",
     "output_type": "stream",
     "text": [
      "\r",
      "  1%|          | 76/10000 [00:05<04:47, 34.47it/s, episode_reward=8, running_reward=16.1] "
     ]
    },
    {
     "name": "stderr",
     "output_type": "stream",
     "text": [
      "\r",
      "  1%|          | 76/10000 [00:05<04:47, 34.47it/s, episode_reward=10, running_reward=16] "
     ]
    },
    {
     "name": "stderr",
     "output_type": "stream",
     "text": [
      "\r",
      "  1%|          | 76/10000 [00:05<04:47, 34.47it/s, episode_reward=12, running_reward=16]"
     ]
    },
    {
     "name": "stderr",
     "output_type": "stream",
     "text": [
      "\r",
      "  1%|          | 76/10000 [00:05<04:47, 34.47it/s, episode_reward=9, running_reward=15.9]"
     ]
    },
    {
     "name": "stderr",
     "output_type": "stream",
     "text": [
      "\r",
      "  1%|          | 76/10000 [00:05<04:47, 34.47it/s, episode_reward=10, running_reward=15.8]"
     ]
    },
    {
     "name": "stderr",
     "output_type": "stream",
     "text": [
      "\r",
      "  1%|          | 76/10000 [00:05<04:47, 34.47it/s, episode_reward=12, running_reward=15.8]"
     ]
    },
    {
     "name": "stderr",
     "output_type": "stream",
     "text": [
      "\r",
      "  1%|          | 84/10000 [00:05<03:50, 42.96it/s, episode_reward=12, running_reward=15.8]"
     ]
    },
    {
     "name": "stderr",
     "output_type": "stream",
     "text": [
      "\r",
      "  1%|          | 84/10000 [00:06<03:50, 42.96it/s, episode_reward=10, running_reward=15.7]"
     ]
    },
    {
     "name": "stderr",
     "output_type": "stream",
     "text": [
      "\r",
      "  1%|          | 84/10000 [00:06<03:50, 42.96it/s, episode_reward=9, running_reward=15.6] "
     ]
    },
    {
     "name": "stderr",
     "output_type": "stream",
     "text": [
      "\r",
      "  1%|          | 84/10000 [00:06<03:50, 42.96it/s, episode_reward=9, running_reward=15.5]"
     ]
    },
    {
     "name": "stderr",
     "output_type": "stream",
     "text": [
      "\r",
      "  1%|          | 84/10000 [00:06<03:50, 42.96it/s, episode_reward=9, running_reward=15.5]"
     ]
    },
    {
     "name": "stderr",
     "output_type": "stream",
     "text": [
      "\r",
      "  1%|          | 84/10000 [00:06<03:50, 42.96it/s, episode_reward=11, running_reward=15.4]"
     ]
    },
    {
     "name": "stderr",
     "output_type": "stream",
     "text": [
      "\r",
      "  1%|          | 84/10000 [00:06<03:50, 42.96it/s, episode_reward=9, running_reward=15.3] "
     ]
    },
    {
     "name": "stderr",
     "output_type": "stream",
     "text": [
      "\r",
      "  1%|          | 84/10000 [00:06<03:50, 42.96it/s, episode_reward=10, running_reward=15.3]"
     ]
    },
    {
     "name": "stderr",
     "output_type": "stream",
     "text": [
      "\r",
      "  1%|          | 84/10000 [00:06<03:50, 42.96it/s, episode_reward=9, running_reward=15.2] "
     ]
    },
    {
     "name": "stderr",
     "output_type": "stream",
     "text": [
      "\r",
      "  1%|          | 92/10000 [00:06<03:14, 51.02it/s, episode_reward=9, running_reward=15.2]"
     ]
    },
    {
     "name": "stderr",
     "output_type": "stream",
     "text": [
      "\r",
      "  1%|          | 92/10000 [00:06<03:14, 51.02it/s, episode_reward=11, running_reward=15.2]"
     ]
    },
    {
     "name": "stderr",
     "output_type": "stream",
     "text": [
      "\r",
      "  1%|          | 92/10000 [00:06<03:14, 51.02it/s, episode_reward=11, running_reward=15.1]"
     ]
    },
    {
     "name": "stderr",
     "output_type": "stream",
     "text": [
      "\r",
      "  1%|          | 92/10000 [00:06<03:14, 51.02it/s, episode_reward=9, running_reward=15.1] "
     ]
    },
    {
     "name": "stderr",
     "output_type": "stream",
     "text": [
      "\r",
      "  1%|          | 92/10000 [00:06<03:14, 51.02it/s, episode_reward=10, running_reward=15] "
     ]
    },
    {
     "name": "stderr",
     "output_type": "stream",
     "text": [
      "\r",
      "  1%|          | 92/10000 [00:06<03:14, 51.02it/s, episode_reward=10, running_reward=15]"
     ]
    },
    {
     "name": "stderr",
     "output_type": "stream",
     "text": [
      "\r",
      "  1%|          | 92/10000 [00:06<03:14, 51.02it/s, episode_reward=8, running_reward=14.9]"
     ]
    },
    {
     "name": "stderr",
     "output_type": "stream",
     "text": [
      "\r",
      "  1%|          | 92/10000 [00:06<03:14, 51.02it/s, episode_reward=9, running_reward=14.8]"
     ]
    },
    {
     "name": "stderr",
     "output_type": "stream",
     "text": [
      "\r",
      "  1%|          | 92/10000 [00:06<03:14, 51.02it/s, episode_reward=12, running_reward=14.8]"
     ]
    },
    {
     "name": "stderr",
     "output_type": "stream",
     "text": [
      "\r",
      "  1%|          | 100/10000 [00:06<02:53, 57.19it/s, episode_reward=12, running_reward=14.8]"
     ]
    },
    {
     "name": "stderr",
     "output_type": "stream",
     "text": [
      "\r",
      "  1%|          | 100/10000 [00:06<02:53, 57.19it/s, episode_reward=8, running_reward=14.7] "
     ]
    },
    {
     "name": "stderr",
     "output_type": "stream",
     "text": [
      "\r",
      "  1%|          | 100/10000 [00:06<02:53, 57.19it/s, episode_reward=11, running_reward=14.7]"
     ]
    },
    {
     "name": "stderr",
     "output_type": "stream",
     "text": [
      "\r",
      "  1%|          | 100/10000 [00:06<02:53, 57.19it/s, episode_reward=9, running_reward=14.7] "
     ]
    },
    {
     "name": "stderr",
     "output_type": "stream",
     "text": [
      "\r",
      "  1%|          | 100/10000 [00:06<02:53, 57.19it/s, episode_reward=9, running_reward=14.6]"
     ]
    },
    {
     "name": "stderr",
     "output_type": "stream",
     "text": [
      "\r",
      "  1%|          | 100/10000 [00:06<02:53, 57.19it/s, episode_reward=8, running_reward=14.6]"
     ]
    },
    {
     "name": "stderr",
     "output_type": "stream",
     "text": [
      "\r",
      "  1%|          | 100/10000 [00:06<02:53, 57.19it/s, episode_reward=8, running_reward=14.4]"
     ]
    },
    {
     "name": "stderr",
     "output_type": "stream",
     "text": [
      "\r",
      "  1%|          | 100/10000 [00:06<02:53, 57.19it/s, episode_reward=10, running_reward=14.4]"
     ]
    },
    {
     "name": "stderr",
     "output_type": "stream",
     "text": [
      "\r",
      "  1%|          | 100/10000 [00:06<02:53, 57.19it/s, episode_reward=10, running_reward=14.3]"
     ]
    },
    {
     "name": "stderr",
     "output_type": "stream",
     "text": [
      "\r",
      "  1%|          | 100/10000 [00:06<02:53, 57.19it/s, episode_reward=10, running_reward=14.3]"
     ]
    },
    {
     "name": "stderr",
     "output_type": "stream",
     "text": [
      "\r",
      "  1%|          | 109/10000 [00:06<02:35, 63.70it/s, episode_reward=10, running_reward=14.3]"
     ]
    },
    {
     "name": "stderr",
     "output_type": "stream",
     "text": [
      "\r",
      "  1%|          | 109/10000 [00:06<02:35, 63.70it/s, episode_reward=9, running_reward=14.2] "
     ]
    },
    {
     "name": "stderr",
     "output_type": "stream",
     "text": [
      "\r",
      "  1%|          | 109/10000 [00:06<02:35, 63.70it/s, episode_reward=9, running_reward=14.1]"
     ]
    },
    {
     "name": "stderr",
     "output_type": "stream",
     "text": [
      "\r",
      "  1%|          | 109/10000 [00:06<02:35, 63.70it/s, episode_reward=10, running_reward=14.1]"
     ]
    },
    {
     "name": "stderr",
     "output_type": "stream",
     "text": [
      "\r",
      "  1%|          | 109/10000 [00:06<02:35, 63.70it/s, episode_reward=8, running_reward=14.1] "
     ]
    },
    {
     "name": "stderr",
     "output_type": "stream",
     "text": [
      "\r",
      "  1%|          | 109/10000 [00:06<02:35, 63.70it/s, episode_reward=9, running_reward=14]  "
     ]
    },
    {
     "name": "stderr",
     "output_type": "stream",
     "text": [
      "\r",
      "  1%|          | 109/10000 [00:06<02:35, 63.70it/s, episode_reward=10, running_reward=14]"
     ]
    },
    {
     "name": "stderr",
     "output_type": "stream",
     "text": [
      "\r",
      "  1%|          | 109/10000 [00:06<02:35, 63.70it/s, episode_reward=14, running_reward=14.1]"
     ]
    },
    {
     "name": "stderr",
     "output_type": "stream",
     "text": [
      "\r",
      "  1%|          | 109/10000 [00:06<02:35, 63.70it/s, episode_reward=10, running_reward=14.1]"
     ]
    },
    {
     "name": "stderr",
     "output_type": "stream",
     "text": [
      "\r",
      "  1%|          | 117/10000 [00:06<02:27, 67.15it/s, episode_reward=10, running_reward=14.1]"
     ]
    },
    {
     "name": "stderr",
     "output_type": "stream",
     "text": [
      "\r",
      "  1%|          | 117/10000 [00:06<02:27, 67.15it/s, episode_reward=8, running_reward=14.1] "
     ]
    },
    {
     "name": "stderr",
     "output_type": "stream",
     "text": [
      "\r",
      "  1%|          | 117/10000 [00:06<02:27, 67.15it/s, episode_reward=10, running_reward=14.1]"
     ]
    },
    {
     "name": "stderr",
     "output_type": "stream",
     "text": [
      "\r",
      "  1%|          | 117/10000 [00:06<02:27, 67.15it/s, episode_reward=10, running_reward=14.1]"
     ]
    },
    {
     "name": "stderr",
     "output_type": "stream",
     "text": [
      "\r",
      "  1%|          | 117/10000 [00:06<02:27, 67.15it/s, episode_reward=9, running_reward=14.1] "
     ]
    },
    {
     "name": "stderr",
     "output_type": "stream",
     "text": [
      "\r",
      "  1%|          | 117/10000 [00:06<02:27, 67.15it/s, episode_reward=8, running_reward=14.1]"
     ]
    },
    {
     "name": "stderr",
     "output_type": "stream",
     "text": [
      "\r",
      "  1%|          | 117/10000 [00:06<02:27, 67.15it/s, episode_reward=9, running_reward=14.1]"
     ]
    },
    {
     "name": "stderr",
     "output_type": "stream",
     "text": [
      "\r",
      "  1%|          | 117/10000 [00:06<02:27, 67.15it/s, episode_reward=9, running_reward=14.1]"
     ]
    },
    {
     "name": "stderr",
     "output_type": "stream",
     "text": [
      "\r",
      "  1%|          | 117/10000 [00:06<02:27, 67.15it/s, episode_reward=10, running_reward=14] "
     ]
    },
    {
     "name": "stderr",
     "output_type": "stream",
     "text": [
      "\r",
      "  1%|▏         | 125/10000 [00:06<02:19, 70.60it/s, episode_reward=10, running_reward=14]"
     ]
    },
    {
     "name": "stderr",
     "output_type": "stream",
     "text": [
      "\r",
      "  1%|▏         | 125/10000 [00:06<02:19, 70.60it/s, episode_reward=11, running_reward=14]"
     ]
    },
    {
     "name": "stderr",
     "output_type": "stream",
     "text": [
      "\r",
      "  1%|▏         | 125/10000 [00:06<02:19, 70.60it/s, episode_reward=9, running_reward=14] "
     ]
    },
    {
     "name": "stderr",
     "output_type": "stream",
     "text": [
      "\r",
      "  1%|▏         | 125/10000 [00:06<02:19, 70.60it/s, episode_reward=9, running_reward=14]"
     ]
    },
    {
     "name": "stderr",
     "output_type": "stream",
     "text": [
      "\r",
      "  1%|▏         | 125/10000 [00:06<02:19, 70.60it/s, episode_reward=9, running_reward=14]"
     ]
    },
    {
     "name": "stderr",
     "output_type": "stream",
     "text": [
      "\r",
      "  1%|▏         | 125/10000 [00:06<02:19, 70.60it/s, episode_reward=10, running_reward=14]"
     ]
    },
    {
     "name": "stderr",
     "output_type": "stream",
     "text": [
      "\r",
      "  1%|▏         | 125/10000 [00:06<02:19, 70.60it/s, episode_reward=10, running_reward=14]"
     ]
    },
    {
     "name": "stderr",
     "output_type": "stream",
     "text": [
      "\r",
      "  1%|▏         | 125/10000 [00:06<02:19, 70.60it/s, episode_reward=10, running_reward=13.9]"
     ]
    },
    {
     "name": "stderr",
     "output_type": "stream",
     "text": [
      "\r",
      "  1%|▏         | 125/10000 [00:06<02:19, 70.60it/s, episode_reward=10, running_reward=13.9]"
     ]
    },
    {
     "name": "stderr",
     "output_type": "stream",
     "text": [
      "\r",
      "  1%|▏         | 133/10000 [00:06<02:16, 72.35it/s, episode_reward=10, running_reward=13.9]"
     ]
    },
    {
     "name": "stderr",
     "output_type": "stream",
     "text": [
      "\r",
      "  1%|▏         | 133/10000 [00:06<02:16, 72.35it/s, episode_reward=10, running_reward=13.8]"
     ]
    },
    {
     "name": "stderr",
     "output_type": "stream",
     "text": [
      "\r",
      "  1%|▏         | 133/10000 [00:06<02:16, 72.35it/s, episode_reward=9, running_reward=13.7] "
     ]
    },
    {
     "name": "stderr",
     "output_type": "stream",
     "text": [
      "\r",
      "  1%|▏         | 133/10000 [00:06<02:16, 72.35it/s, episode_reward=10, running_reward=13.7]"
     ]
    },
    {
     "name": "stderr",
     "output_type": "stream",
     "text": [
      "\r",
      "  1%|▏         | 133/10000 [00:06<02:16, 72.35it/s, episode_reward=11, running_reward=13.6]"
     ]
    },
    {
     "name": "stderr",
     "output_type": "stream",
     "text": [
      "\r",
      "  1%|▏         | 133/10000 [00:06<02:16, 72.35it/s, episode_reward=8, running_reward=13.6] "
     ]
    },
    {
     "name": "stderr",
     "output_type": "stream",
     "text": [
      "\r",
      "  1%|▏         | 133/10000 [00:06<02:16, 72.35it/s, episode_reward=10, running_reward=13.5]"
     ]
    },
    {
     "name": "stderr",
     "output_type": "stream",
     "text": [
      "\r",
      "  1%|▏         | 133/10000 [00:06<02:16, 72.35it/s, episode_reward=8, running_reward=13.5] "
     ]
    },
    {
     "name": "stderr",
     "output_type": "stream",
     "text": [
      "\r",
      "  1%|▏         | 133/10000 [00:06<02:16, 72.35it/s, episode_reward=9, running_reward=13.4]"
     ]
    },
    {
     "name": "stderr",
     "output_type": "stream",
     "text": [
      "\r",
      "  1%|▏         | 141/10000 [00:06<02:13, 74.12it/s, episode_reward=9, running_reward=13.4]"
     ]
    },
    {
     "name": "stderr",
     "output_type": "stream",
     "text": [
      "\r",
      "  1%|▏         | 141/10000 [00:06<02:13, 74.12it/s, episode_reward=8, running_reward=13.4]"
     ]
    },
    {
     "name": "stderr",
     "output_type": "stream",
     "text": [
      "\r",
      "  1%|▏         | 141/10000 [00:06<02:13, 74.12it/s, episode_reward=11, running_reward=13.4]"
     ]
    },
    {
     "name": "stderr",
     "output_type": "stream",
     "text": [
      "\r",
      "  1%|▏         | 141/10000 [00:06<02:13, 74.12it/s, episode_reward=9, running_reward=13.4] "
     ]
    },
    {
     "name": "stderr",
     "output_type": "stream",
     "text": [
      "\r",
      "  1%|▏         | 141/10000 [00:06<02:13, 74.12it/s, episode_reward=10, running_reward=13.4]"
     ]
    },
    {
     "name": "stderr",
     "output_type": "stream",
     "text": [
      "\r",
      "  1%|▏         | 141/10000 [00:06<02:13, 74.12it/s, episode_reward=9, running_reward=13.4] "
     ]
    },
    {
     "name": "stderr",
     "output_type": "stream",
     "text": [
      "\r",
      "  1%|▏         | 141/10000 [00:06<02:13, 74.12it/s, episode_reward=10, running_reward=13.4]"
     ]
    },
    {
     "name": "stderr",
     "output_type": "stream",
     "text": [
      "\r",
      "  1%|▏         | 141/10000 [00:06<02:13, 74.12it/s, episode_reward=9, running_reward=13.4] "
     ]
    },
    {
     "name": "stderr",
     "output_type": "stream",
     "text": [
      "\r",
      "  1%|▏         | 141/10000 [00:06<02:13, 74.12it/s, episode_reward=9, running_reward=13.4]"
     ]
    },
    {
     "name": "stderr",
     "output_type": "stream",
     "text": [
      "\r",
      "  1%|▏         | 149/10000 [00:06<02:10, 75.58it/s, episode_reward=9, running_reward=13.4]"
     ]
    },
    {
     "name": "stderr",
     "output_type": "stream",
     "text": [
      "\r",
      "  1%|▏         | 149/10000 [00:06<02:10, 75.58it/s, episode_reward=9, running_reward=13.3]"
     ]
    },
    {
     "name": "stderr",
     "output_type": "stream",
     "text": [
      "\r",
      "  1%|▏         | 149/10000 [00:06<02:10, 75.58it/s, episode_reward=8, running_reward=13.3]"
     ]
    },
    {
     "name": "stderr",
     "output_type": "stream",
     "text": [
      "\r",
      "  1%|▏         | 149/10000 [00:06<02:10, 75.58it/s, episode_reward=11, running_reward=13.2]"
     ]
    },
    {
     "name": "stderr",
     "output_type": "stream",
     "text": [
      "\r",
      "  1%|▏         | 149/10000 [00:06<02:10, 75.58it/s, episode_reward=10, running_reward=13.2]"
     ]
    },
    {
     "name": "stderr",
     "output_type": "stream",
     "text": [
      "\r",
      "  1%|▏         | 149/10000 [00:06<02:10, 75.58it/s, episode_reward=8, running_reward=13]   "
     ]
    },
    {
     "name": "stderr",
     "output_type": "stream",
     "text": [
      "\r",
      "  1%|▏         | 149/10000 [00:06<02:10, 75.58it/s, episode_reward=9, running_reward=13]"
     ]
    },
    {
     "name": "stderr",
     "output_type": "stream",
     "text": [
      "\r",
      "  1%|▏         | 149/10000 [00:06<02:10, 75.58it/s, episode_reward=10, running_reward=12.9]"
     ]
    },
    {
     "name": "stderr",
     "output_type": "stream",
     "text": [
      "\r",
      "  1%|▏         | 149/10000 [00:06<02:10, 75.58it/s, episode_reward=9, running_reward=12.6] "
     ]
    },
    {
     "name": "stderr",
     "output_type": "stream",
     "text": [
      "\r",
      "  1%|▏         | 149/10000 [00:06<02:10, 75.58it/s, episode_reward=9, running_reward=12.4]"
     ]
    },
    {
     "name": "stderr",
     "output_type": "stream",
     "text": [
      "\r",
      "  2%|▏         | 158/10000 [00:06<02:07, 77.02it/s, episode_reward=9, running_reward=12.4]"
     ]
    },
    {
     "name": "stderr",
     "output_type": "stream",
     "text": [
      "\r",
      "  2%|▏         | 158/10000 [00:06<02:07, 77.02it/s, episode_reward=9, running_reward=12.3]"
     ]
    },
    {
     "name": "stderr",
     "output_type": "stream",
     "text": [
      "\r",
      "  2%|▏         | 158/10000 [00:06<02:07, 77.02it/s, episode_reward=10, running_reward=12.2]"
     ]
    },
    {
     "name": "stderr",
     "output_type": "stream",
     "text": [
      "\r",
      "  2%|▏         | 158/10000 [00:06<02:07, 77.02it/s, episode_reward=9, running_reward=12.1] "
     ]
    },
    {
     "name": "stderr",
     "output_type": "stream",
     "text": [
      "\r",
      "  2%|▏         | 158/10000 [00:06<02:07, 77.02it/s, episode_reward=10, running_reward=11.8]"
     ]
    },
    {
     "name": "stderr",
     "output_type": "stream",
     "text": [
      "\r",
      "  2%|▏         | 158/10000 [00:07<02:07, 77.02it/s, episode_reward=9, running_reward=11.8] "
     ]
    },
    {
     "name": "stderr",
     "output_type": "stream",
     "text": [
      "\r",
      "  2%|▏         | 158/10000 [00:07<02:07, 77.02it/s, episode_reward=9, running_reward=11.7]"
     ]
    },
    {
     "name": "stderr",
     "output_type": "stream",
     "text": [
      "\r",
      "  2%|▏         | 158/10000 [00:07<02:07, 77.02it/s, episode_reward=11, running_reward=11.5]"
     ]
    },
    {
     "name": "stderr",
     "output_type": "stream",
     "text": [
      "\r",
      "  2%|▏         | 158/10000 [00:07<02:07, 77.02it/s, episode_reward=10, running_reward=11.4]"
     ]
    },
    {
     "name": "stderr",
     "output_type": "stream",
     "text": [
      "\r",
      "  2%|▏         | 166/10000 [00:07<02:08, 76.63it/s, episode_reward=10, running_reward=11.4]"
     ]
    },
    {
     "name": "stderr",
     "output_type": "stream",
     "text": [
      "\r",
      "  2%|▏         | 166/10000 [00:07<02:08, 76.63it/s, episode_reward=8, running_reward=11.3] "
     ]
    },
    {
     "name": "stderr",
     "output_type": "stream",
     "text": [
      "\r",
      "  2%|▏         | 166/10000 [00:07<02:08, 76.63it/s, episode_reward=9, running_reward=11.2]"
     ]
    },
    {
     "name": "stderr",
     "output_type": "stream",
     "text": [
      "\r",
      "  2%|▏         | 166/10000 [00:07<02:08, 76.63it/s, episode_reward=10, running_reward=10.8]"
     ]
    },
    {
     "name": "stderr",
     "output_type": "stream",
     "text": [
      "\r",
      "  2%|▏         | 166/10000 [00:07<02:08, 76.63it/s, episode_reward=8, running_reward=9.94] "
     ]
    },
    {
     "name": "stderr",
     "output_type": "stream",
     "text": [
      "\r",
      "  2%|▏         | 166/10000 [00:07<02:08, 76.63it/s, episode_reward=10, running_reward=9.9]"
     ]
    },
    {
     "name": "stderr",
     "output_type": "stream",
     "text": [
      "\r",
      "  2%|▏         | 166/10000 [00:07<02:08, 76.63it/s, episode_reward=10, running_reward=9.64]"
     ]
    },
    {
     "name": "stderr",
     "output_type": "stream",
     "text": [
      "\r",
      "  2%|▏         | 166/10000 [00:07<02:08, 76.63it/s, episode_reward=9, running_reward=9.61] "
     ]
    },
    {
     "name": "stderr",
     "output_type": "stream",
     "text": [
      "\r",
      "  2%|▏         | 166/10000 [00:07<02:08, 76.63it/s, episode_reward=10, running_reward=9.6]"
     ]
    },
    {
     "name": "stderr",
     "output_type": "stream",
     "text": [
      "\r",
      "  2%|▏         | 174/10000 [00:07<02:08, 76.47it/s, episode_reward=10, running_reward=9.6]"
     ]
    },
    {
     "name": "stderr",
     "output_type": "stream",
     "text": [
      "\r",
      "  2%|▏         | 174/10000 [00:07<02:08, 76.47it/s, episode_reward=9, running_reward=9.56]"
     ]
    },
    {
     "name": "stderr",
     "output_type": "stream",
     "text": [
      "\r",
      "  2%|▏         | 174/10000 [00:07<02:08, 76.47it/s, episode_reward=10, running_reward=9.56]"
     ]
    },
    {
     "name": "stderr",
     "output_type": "stream",
     "text": [
      "\r",
      "  2%|▏         | 174/10000 [00:07<02:08, 76.47it/s, episode_reward=9, running_reward=9.52] "
     ]
    },
    {
     "name": "stderr",
     "output_type": "stream",
     "text": [
      "\r",
      "  2%|▏         | 174/10000 [00:07<02:08, 76.47it/s, episode_reward=8, running_reward=9.5] "
     ]
    },
    {
     "name": "stderr",
     "output_type": "stream",
     "text": [
      "\r",
      "  2%|▏         | 174/10000 [00:07<02:08, 76.47it/s, episode_reward=9, running_reward=9.51]"
     ]
    },
    {
     "name": "stderr",
     "output_type": "stream",
     "text": [
      "\r",
      "  2%|▏         | 174/10000 [00:07<02:08, 76.47it/s, episode_reward=10, running_reward=9.51]"
     ]
    },
    {
     "name": "stderr",
     "output_type": "stream",
     "text": [
      "\r",
      "  2%|▏         | 174/10000 [00:07<02:08, 76.47it/s, episode_reward=10, running_reward=9.49]"
     ]
    },
    {
     "name": "stderr",
     "output_type": "stream",
     "text": [
      "\r",
      "  2%|▏         | 174/10000 [00:07<02:08, 76.47it/s, episode_reward=9, running_reward=9.49] "
     ]
    },
    {
     "name": "stderr",
     "output_type": "stream",
     "text": [
      "\r",
      "  2%|▏         | 182/10000 [00:07<02:07, 76.94it/s, episode_reward=9, running_reward=9.49]"
     ]
    },
    {
     "name": "stderr",
     "output_type": "stream",
     "text": [
      "\r",
      "  2%|▏         | 182/10000 [00:07<02:07, 76.94it/s, episode_reward=11, running_reward=9.5]"
     ]
    },
    {
     "name": "stderr",
     "output_type": "stream",
     "text": [
      "\r",
      "  2%|▏         | 182/10000 [00:07<02:07, 76.94it/s, episode_reward=10, running_reward=9.48]"
     ]
    },
    {
     "name": "stderr",
     "output_type": "stream",
     "text": [
      "\r",
      "  2%|▏         | 182/10000 [00:07<02:07, 76.94it/s, episode_reward=10, running_reward=9.48]"
     ]
    },
    {
     "name": "stderr",
     "output_type": "stream",
     "text": [
      "\r",
      "  2%|▏         | 182/10000 [00:07<02:07, 76.94it/s, episode_reward=9, running_reward=9.48] "
     ]
    },
    {
     "name": "stderr",
     "output_type": "stream",
     "text": [
      "\r",
      "  2%|▏         | 182/10000 [00:07<02:07, 76.94it/s, episode_reward=10, running_reward=9.49]"
     ]
    },
    {
     "name": "stderr",
     "output_type": "stream",
     "text": [
      "\r",
      "  2%|▏         | 182/10000 [00:07<02:07, 76.94it/s, episode_reward=11, running_reward=9.51]"
     ]
    },
    {
     "name": "stderr",
     "output_type": "stream",
     "text": [
      "\r",
      "  2%|▏         | 182/10000 [00:07<02:07, 76.94it/s, episode_reward=9, running_reward=9.49] "
     ]
    },
    {
     "name": "stderr",
     "output_type": "stream",
     "text": [
      "\r",
      "  2%|▏         | 182/10000 [00:07<02:07, 76.94it/s, episode_reward=10, running_reward=9.5]"
     ]
    },
    {
     "name": "stderr",
     "output_type": "stream",
     "text": [
      "\r",
      "  2%|▏         | 190/10000 [00:07<02:07, 76.77it/s, episode_reward=10, running_reward=9.5]"
     ]
    },
    {
     "name": "stderr",
     "output_type": "stream",
     "text": [
      "\r",
      "  2%|▏         | 190/10000 [00:07<02:07, 76.77it/s, episode_reward=10, running_reward=9.5]"
     ]
    },
    {
     "name": "stderr",
     "output_type": "stream",
     "text": [
      "\r",
      "  2%|▏         | 190/10000 [00:07<02:07, 76.77it/s, episode_reward=9, running_reward=9.5] "
     ]
    },
    {
     "name": "stderr",
     "output_type": "stream",
     "text": [
      "\r",
      "  2%|▏         | 190/10000 [00:07<02:07, 76.77it/s, episode_reward=9, running_reward=9.48]"
     ]
    },
    {
     "name": "stderr",
     "output_type": "stream",
     "text": [
      "\r",
      "  2%|▏         | 190/10000 [00:07<02:07, 76.77it/s, episode_reward=10, running_reward=9.47]"
     ]
    },
    {
     "name": "stderr",
     "output_type": "stream",
     "text": [
      "\r",
      "  2%|▏         | 190/10000 [00:07<02:07, 76.77it/s, episode_reward=9, running_reward=9.47] "
     ]
    },
    {
     "name": "stderr",
     "output_type": "stream",
     "text": [
      "\r",
      "  2%|▏         | 190/10000 [00:07<02:07, 76.77it/s, episode_reward=10, running_reward=9.47]"
     ]
    },
    {
     "name": "stderr",
     "output_type": "stream",
     "text": [
      "\r",
      "  2%|▏         | 190/10000 [00:07<02:07, 76.77it/s, episode_reward=10, running_reward=9.47]"
     ]
    },
    {
     "name": "stderr",
     "output_type": "stream",
     "text": [
      "\r",
      "  2%|▏         | 190/10000 [00:07<02:07, 76.77it/s, episode_reward=10, running_reward=9.49]"
     ]
    },
    {
     "name": "stderr",
     "output_type": "stream",
     "text": [
      "\r",
      "  2%|▏         | 198/10000 [00:07<02:06, 77.20it/s, episode_reward=10, running_reward=9.49]"
     ]
    },
    {
     "name": "stderr",
     "output_type": "stream",
     "text": [
      "\r",
      "  2%|▏         | 198/10000 [00:07<02:06, 77.20it/s, episode_reward=11, running_reward=9.51]"
     ]
    },
    {
     "name": "stderr",
     "output_type": "stream",
     "text": [
      "\r",
      "  2%|▏         | 198/10000 [00:07<02:06, 77.20it/s, episode_reward=9, running_reward=9.48] "
     ]
    },
    {
     "name": "stderr",
     "output_type": "stream",
     "text": [
      "\r",
      "  2%|▏         | 198/10000 [00:07<02:06, 77.20it/s, episode_reward=10, running_reward=9.5]"
     ]
    },
    {
     "name": "stderr",
     "output_type": "stream",
     "text": [
      "\r",
      "  2%|▏         | 198/10000 [00:07<02:06, 77.20it/s, episode_reward=11, running_reward=9.5]"
     ]
    },
    {
     "name": "stderr",
     "output_type": "stream",
     "text": [
      "\r",
      "  2%|▏         | 198/10000 [00:07<02:06, 77.20it/s, episode_reward=9, running_reward=9.5] "
     ]
    },
    {
     "name": "stderr",
     "output_type": "stream",
     "text": [
      "\r",
      "  2%|▏         | 198/10000 [00:07<02:06, 77.20it/s, episode_reward=9, running_reward=9.5]"
     ]
    },
    {
     "name": "stderr",
     "output_type": "stream",
     "text": [
      "\r",
      "  2%|▏         | 198/10000 [00:07<02:06, 77.20it/s, episode_reward=10, running_reward=9.52]"
     ]
    },
    {
     "name": "stderr",
     "output_type": "stream",
     "text": [
      "\r",
      "  2%|▏         | 198/10000 [00:07<02:06, 77.20it/s, episode_reward=10, running_reward=9.54]"
     ]
    },
    {
     "name": "stderr",
     "output_type": "stream",
     "text": [
      "\r",
      "  2%|▏         | 206/10000 [00:07<02:07, 77.08it/s, episode_reward=10, running_reward=9.54]"
     ]
    },
    {
     "name": "stderr",
     "output_type": "stream",
     "text": [
      "\r",
      "  2%|▏         | 206/10000 [00:07<02:07, 77.08it/s, episode_reward=9, running_reward=9.53] "
     ]
    },
    {
     "name": "stderr",
     "output_type": "stream",
     "text": [
      "\r",
      "  2%|▏         | 206/10000 [00:07<02:07, 77.08it/s, episode_reward=9, running_reward=9.52]"
     ]
    },
    {
     "name": "stderr",
     "output_type": "stream",
     "text": [
      "\r",
      "  2%|▏         | 206/10000 [00:07<02:07, 77.08it/s, episode_reward=9, running_reward=9.51]"
     ]
    },
    {
     "name": "stderr",
     "output_type": "stream",
     "text": [
      "\r",
      "  2%|▏         | 206/10000 [00:07<02:07, 77.08it/s, episode_reward=9, running_reward=9.51]"
     ]
    },
    {
     "name": "stderr",
     "output_type": "stream",
     "text": [
      "\r",
      "  2%|▏         | 206/10000 [00:07<02:07, 77.08it/s, episode_reward=10, running_reward=9.52]"
     ]
    },
    {
     "name": "stderr",
     "output_type": "stream",
     "text": [
      "\r",
      "  2%|▏         | 206/10000 [00:07<02:07, 77.08it/s, episode_reward=8, running_reward=9.5]  "
     ]
    },
    {
     "name": "stderr",
     "output_type": "stream",
     "text": [
      "\r",
      "  2%|▏         | 206/10000 [00:07<02:07, 77.08it/s, episode_reward=10, running_reward=9.52]"
     ]
    },
    {
     "name": "stderr",
     "output_type": "stream",
     "text": [
      "\r",
      "  2%|▏         | 206/10000 [00:07<02:07, 77.08it/s, episode_reward=10, running_reward=9.53]"
     ]
    },
    {
     "name": "stderr",
     "output_type": "stream",
     "text": [
      "\r",
      "  2%|▏         | 206/10000 [00:07<02:07, 77.08it/s, episode_reward=9, running_reward=9.52] "
     ]
    },
    {
     "name": "stderr",
     "output_type": "stream",
     "text": [
      "\r",
      "  2%|▏         | 215/10000 [00:07<02:05, 78.12it/s, episode_reward=9, running_reward=9.52]"
     ]
    },
    {
     "name": "stderr",
     "output_type": "stream",
     "text": [
      "\r",
      "  2%|▏         | 215/10000 [00:07<02:05, 78.12it/s, episode_reward=10, running_reward=9.48]"
     ]
    },
    {
     "name": "stderr",
     "output_type": "stream",
     "text": [
      "\r",
      "  2%|▏         | 215/10000 [00:07<02:05, 78.12it/s, episode_reward=10, running_reward=9.48]"
     ]
    },
    {
     "name": "stderr",
     "output_type": "stream",
     "text": [
      "\r",
      "  2%|▏         | 215/10000 [00:07<02:05, 78.12it/s, episode_reward=10, running_reward=9.5] "
     ]
    },
    {
     "name": "stderr",
     "output_type": "stream",
     "text": [
      "\r",
      "  2%|▏         | 215/10000 [00:07<02:05, 78.12it/s, episode_reward=10, running_reward=9.5]"
     ]
    },
    {
     "name": "stderr",
     "output_type": "stream",
     "text": [
      "\r",
      "  2%|▏         | 215/10000 [00:07<02:05, 78.12it/s, episode_reward=10, running_reward=9.5]"
     ]
    },
    {
     "name": "stderr",
     "output_type": "stream",
     "text": [
      "\r",
      "  2%|▏         | 215/10000 [00:07<02:05, 78.12it/s, episode_reward=9, running_reward=9.5] "
     ]
    },
    {
     "name": "stderr",
     "output_type": "stream",
     "text": [
      "\r",
      "  2%|▏         | 215/10000 [00:07<02:05, 78.12it/s, episode_reward=11, running_reward=9.53]"
     ]
    },
    {
     "name": "stderr",
     "output_type": "stream",
     "text": [
      "\r",
      "  2%|▏         | 215/10000 [00:07<02:05, 78.12it/s, episode_reward=12, running_reward=9.56]"
     ]
    },
    {
     "name": "stderr",
     "output_type": "stream",
     "text": [
      "\r",
      "  2%|▏         | 223/10000 [00:07<02:06, 77.08it/s, episode_reward=12, running_reward=9.56]"
     ]
    },
    {
     "name": "stderr",
     "output_type": "stream",
     "text": [
      "\r",
      "  2%|▏         | 223/10000 [00:07<02:06, 77.08it/s, episode_reward=9, running_reward=9.56] "
     ]
    },
    {
     "name": "stderr",
     "output_type": "stream",
     "text": [
      "\r",
      "  2%|▏         | 223/10000 [00:07<02:06, 77.08it/s, episode_reward=9, running_reward=9.55]"
     ]
    },
    {
     "name": "stderr",
     "output_type": "stream",
     "text": [
      "\r",
      "  2%|▏         | 223/10000 [00:07<02:06, 77.08it/s, episode_reward=11, running_reward=9.55]"
     ]
    },
    {
     "name": "stderr",
     "output_type": "stream",
     "text": [
      "\r",
      "  2%|▏         | 223/10000 [00:07<02:06, 77.08it/s, episode_reward=10, running_reward=9.56]"
     ]
    },
    {
     "name": "stderr",
     "output_type": "stream",
     "text": [
      "\r",
      "  2%|▏         | 223/10000 [00:07<02:06, 77.08it/s, episode_reward=10, running_reward=9.57]"
     ]
    },
    {
     "name": "stderr",
     "output_type": "stream",
     "text": [
      "\r",
      "  2%|▏         | 223/10000 [00:07<02:06, 77.08it/s, episode_reward=8, running_reward=9.56] "
     ]
    },
    {
     "name": "stderr",
     "output_type": "stream",
     "text": [
      "\r",
      "  2%|▏         | 223/10000 [00:07<02:06, 77.08it/s, episode_reward=9, running_reward=9.55]"
     ]
    },
    {
     "name": "stderr",
     "output_type": "stream",
     "text": [
      "\r",
      "  2%|▏         | 223/10000 [00:07<02:06, 77.08it/s, episode_reward=9, running_reward=9.54]"
     ]
    },
    {
     "name": "stderr",
     "output_type": "stream",
     "text": [
      "\r",
      "  2%|▏         | 223/10000 [00:07<02:06, 77.08it/s, episode_reward=11, running_reward=9.55]"
     ]
    },
    {
     "name": "stderr",
     "output_type": "stream",
     "text": [
      "\r",
      "  2%|▏         | 232/10000 [00:07<02:05, 77.98it/s, episode_reward=11, running_reward=9.55]"
     ]
    },
    {
     "name": "stderr",
     "output_type": "stream",
     "text": [
      "\r",
      "  2%|▏         | 232/10000 [00:07<02:05, 77.98it/s, episode_reward=9, running_reward=9.54] "
     ]
    },
    {
     "name": "stderr",
     "output_type": "stream",
     "text": [
      "\r",
      "  2%|▏         | 232/10000 [00:07<02:05, 77.98it/s, episode_reward=15, running_reward=9.59]"
     ]
    },
    {
     "name": "stderr",
     "output_type": "stream",
     "text": [
      "\r",
      "  2%|▏         | 232/10000 [00:07<02:05, 77.98it/s, episode_reward=10, running_reward=9.6] "
     ]
    },
    {
     "name": "stderr",
     "output_type": "stream",
     "text": [
      "\r",
      "  2%|▏         | 232/10000 [00:07<02:05, 77.98it/s, episode_reward=10, running_reward=9.6]"
     ]
    },
    {
     "name": "stderr",
     "output_type": "stream",
     "text": [
      "\r",
      "  2%|▏         | 232/10000 [00:07<02:05, 77.98it/s, episode_reward=10, running_reward=9.59]"
     ]
    },
    {
     "name": "stderr",
     "output_type": "stream",
     "text": [
      "\r",
      "  2%|▏         | 232/10000 [00:07<02:05, 77.98it/s, episode_reward=10, running_reward=9.61]"
     ]
    },
    {
     "name": "stderr",
     "output_type": "stream",
     "text": [
      "\r",
      "  2%|▏         | 232/10000 [00:07<02:05, 77.98it/s, episode_reward=10, running_reward=9.61]"
     ]
    },
    {
     "name": "stderr",
     "output_type": "stream",
     "text": [
      "\r",
      "  2%|▏         | 232/10000 [00:08<02:05, 77.98it/s, episode_reward=11, running_reward=9.64]"
     ]
    },
    {
     "name": "stderr",
     "output_type": "stream",
     "text": [
      "\r",
      "  2%|▏         | 240/10000 [00:08<02:07, 76.51it/s, episode_reward=11, running_reward=9.64]"
     ]
    },
    {
     "name": "stderr",
     "output_type": "stream",
     "text": [
      "\r",
      "  2%|▏         | 240/10000 [00:08<02:07, 76.51it/s, episode_reward=9, running_reward=9.64] "
     ]
    },
    {
     "name": "stderr",
     "output_type": "stream",
     "text": [
      "\r",
      "  2%|▏         | 240/10000 [00:08<02:07, 76.51it/s, episode_reward=10, running_reward=9.66]"
     ]
    },
    {
     "name": "stderr",
     "output_type": "stream",
     "text": [
      "\r",
      "  2%|▏         | 240/10000 [00:08<02:07, 76.51it/s, episode_reward=10, running_reward=9.65]"
     ]
    },
    {
     "name": "stderr",
     "output_type": "stream",
     "text": [
      "\r",
      "  2%|▏         | 240/10000 [00:08<02:07, 76.51it/s, episode_reward=10, running_reward=9.66]"
     ]
    },
    {
     "name": "stderr",
     "output_type": "stream",
     "text": [
      "\r",
      "  2%|▏         | 240/10000 [00:08<02:07, 76.51it/s, episode_reward=9, running_reward=9.65] "
     ]
    },
    {
     "name": "stderr",
     "output_type": "stream",
     "text": [
      "\r",
      "  2%|▏         | 240/10000 [00:08<02:07, 76.51it/s, episode_reward=8, running_reward=9.64]"
     ]
    },
    {
     "name": "stderr",
     "output_type": "stream",
     "text": [
      "\r",
      "  2%|▏         | 240/10000 [00:08<02:07, 76.51it/s, episode_reward=10, running_reward=9.64]"
     ]
    },
    {
     "name": "stderr",
     "output_type": "stream",
     "text": [
      "\r",
      "  2%|▏         | 240/10000 [00:08<02:07, 76.51it/s, episode_reward=10, running_reward=9.65]"
     ]
    },
    {
     "name": "stderr",
     "output_type": "stream",
     "text": [
      "\r",
      "  2%|▏         | 248/10000 [00:08<02:06, 77.23it/s, episode_reward=10, running_reward=9.65]"
     ]
    },
    {
     "name": "stderr",
     "output_type": "stream",
     "text": [
      "\r",
      "  2%|▏         | 248/10000 [00:08<02:06, 77.23it/s, episode_reward=9, running_reward=9.65] "
     ]
    },
    {
     "name": "stderr",
     "output_type": "stream",
     "text": [
      "\r",
      "  2%|▏         | 248/10000 [00:08<02:06, 77.23it/s, episode_reward=10, running_reward=9.66]"
     ]
    },
    {
     "name": "stderr",
     "output_type": "stream",
     "text": [
      "\r",
      "  2%|▏         | 248/10000 [00:08<02:06, 77.23it/s, episode_reward=10, running_reward=9.68]"
     ]
    },
    {
     "name": "stderr",
     "output_type": "stream",
     "text": [
      "\r",
      "  2%|▏         | 248/10000 [00:08<02:06, 77.23it/s, episode_reward=12, running_reward=9.69]"
     ]
    },
    {
     "name": "stderr",
     "output_type": "stream",
     "text": [
      "\r",
      "  2%|▏         | 248/10000 [00:08<02:06, 77.23it/s, episode_reward=8, running_reward=9.67] "
     ]
    },
    {
     "name": "stderr",
     "output_type": "stream",
     "text": [
      "\r",
      "  2%|▏         | 248/10000 [00:08<02:06, 77.23it/s, episode_reward=12, running_reward=9.71]"
     ]
    },
    {
     "name": "stderr",
     "output_type": "stream",
     "text": [
      "\r",
      "  2%|▏         | 248/10000 [00:08<02:06, 77.23it/s, episode_reward=9, running_reward=9.71] "
     ]
    },
    {
     "name": "stderr",
     "output_type": "stream",
     "text": [
      "\r",
      "  2%|▏         | 248/10000 [00:08<02:06, 77.23it/s, episode_reward=10, running_reward=9.71]"
     ]
    },
    {
     "name": "stderr",
     "output_type": "stream",
     "text": [
      "\r",
      "  3%|▎         | 256/10000 [00:08<02:07, 76.62it/s, episode_reward=10, running_reward=9.71]"
     ]
    },
    {
     "name": "stderr",
     "output_type": "stream",
     "text": [
      "\r",
      "  3%|▎         | 256/10000 [00:08<02:07, 76.62it/s, episode_reward=10, running_reward=9.72]"
     ]
    },
    {
     "name": "stderr",
     "output_type": "stream",
     "text": [
      "\r",
      "  3%|▎         | 256/10000 [00:08<02:07, 76.62it/s, episode_reward=11, running_reward=9.74]"
     ]
    },
    {
     "name": "stderr",
     "output_type": "stream",
     "text": [
      "\r",
      "  3%|▎         | 256/10000 [00:08<02:07, 76.62it/s, episode_reward=9, running_reward=9.74] "
     ]
    },
    {
     "name": "stderr",
     "output_type": "stream",
     "text": [
      "\r",
      "  3%|▎         | 256/10000 [00:08<02:07, 76.62it/s, episode_reward=9, running_reward=9.73]"
     ]
    },
    {
     "name": "stderr",
     "output_type": "stream",
     "text": [
      "\r",
      "  3%|▎         | 256/10000 [00:08<02:07, 76.62it/s, episode_reward=9, running_reward=9.73]"
     ]
    },
    {
     "name": "stderr",
     "output_type": "stream",
     "text": [
      "\r",
      "  3%|▎         | 256/10000 [00:08<02:07, 76.62it/s, episode_reward=10, running_reward=9.73]"
     ]
    },
    {
     "name": "stderr",
     "output_type": "stream",
     "text": [
      "\r",
      "  3%|▎         | 256/10000 [00:08<02:07, 76.62it/s, episode_reward=9, running_reward=9.73] "
     ]
    },
    {
     "name": "stderr",
     "output_type": "stream",
     "text": [
      "\r",
      "  3%|▎         | 256/10000 [00:08<02:07, 76.62it/s, episode_reward=9, running_reward=9.73]"
     ]
    },
    {
     "name": "stderr",
     "output_type": "stream",
     "text": [
      "\r",
      "  3%|▎         | 264/10000 [00:08<02:06, 77.02it/s, episode_reward=9, running_reward=9.73]"
     ]
    },
    {
     "name": "stderr",
     "output_type": "stream",
     "text": [
      "\r",
      "  3%|▎         | 264/10000 [00:08<02:06, 77.02it/s, episode_reward=8, running_reward=9.7] "
     ]
    },
    {
     "name": "stderr",
     "output_type": "stream",
     "text": [
      "\r",
      "  3%|▎         | 264/10000 [00:08<02:06, 77.02it/s, episode_reward=9, running_reward=9.69]"
     ]
    },
    {
     "name": "stderr",
     "output_type": "stream",
     "text": [
      "\r",
      "  3%|▎         | 264/10000 [00:08<02:06, 77.02it/s, episode_reward=10, running_reward=9.71]"
     ]
    },
    {
     "name": "stderr",
     "output_type": "stream",
     "text": [
      "\r",
      "  3%|▎         | 264/10000 [00:08<02:06, 77.02it/s, episode_reward=9, running_reward=9.71] "
     ]
    },
    {
     "name": "stderr",
     "output_type": "stream",
     "text": [
      "\r",
      "  3%|▎         | 264/10000 [00:08<02:06, 77.02it/s, episode_reward=9, running_reward=9.7] "
     ]
    },
    {
     "name": "stderr",
     "output_type": "stream",
     "text": [
      "\r",
      "  3%|▎         | 264/10000 [00:08<02:06, 77.02it/s, episode_reward=10, running_reward=9.72]"
     ]
    },
    {
     "name": "stderr",
     "output_type": "stream",
     "text": [
      "\r",
      "  3%|▎         | 264/10000 [00:08<02:06, 77.02it/s, episode_reward=11, running_reward=9.73]"
     ]
    },
    {
     "name": "stderr",
     "output_type": "stream",
     "text": [
      "\r",
      "  3%|▎         | 264/10000 [00:08<02:06, 77.02it/s, episode_reward=9, running_reward=9.72] "
     ]
    },
    {
     "name": "stderr",
     "output_type": "stream",
     "text": [
      "\r",
      "  3%|▎         | 272/10000 [00:08<02:05, 77.61it/s, episode_reward=9, running_reward=9.72]"
     ]
    },
    {
     "name": "stderr",
     "output_type": "stream",
     "text": [
      "\r",
      "  3%|▎         | 272/10000 [00:08<02:05, 77.61it/s, episode_reward=8, running_reward=9.71]"
     ]
    },
    {
     "name": "stderr",
     "output_type": "stream",
     "text": [
      "\r",
      "  3%|▎         | 272/10000 [00:08<02:05, 77.61it/s, episode_reward=9, running_reward=9.7] "
     ]
    },
    {
     "name": "stderr",
     "output_type": "stream",
     "text": [
      "\r",
      "  3%|▎         | 272/10000 [00:08<02:05, 77.61it/s, episode_reward=9, running_reward=9.7]"
     ]
    },
    {
     "name": "stderr",
     "output_type": "stream",
     "text": [
      "\r",
      "  3%|▎         | 272/10000 [00:08<02:05, 77.61it/s, episode_reward=11, running_reward=9.71]"
     ]
    },
    {
     "name": "stderr",
     "output_type": "stream",
     "text": [
      "\r",
      "  3%|▎         | 272/10000 [00:08<02:05, 77.61it/s, episode_reward=11, running_reward=9.73]"
     ]
    },
    {
     "name": "stderr",
     "output_type": "stream",
     "text": [
      "\r",
      "  3%|▎         | 272/10000 [00:08<02:05, 77.61it/s, episode_reward=9, running_reward=9.74] "
     ]
    },
    {
     "name": "stderr",
     "output_type": "stream",
     "text": [
      "\r",
      "  3%|▎         | 272/10000 [00:08<02:05, 77.61it/s, episode_reward=10, running_reward=9.75]"
     ]
    },
    {
     "name": "stderr",
     "output_type": "stream",
     "text": [
      "\r",
      "  3%|▎         | 272/10000 [00:08<02:05, 77.61it/s, episode_reward=10, running_reward=9.75]"
     ]
    },
    {
     "name": "stderr",
     "output_type": "stream",
     "text": [
      "\r",
      "  3%|▎         | 280/10000 [00:08<02:05, 77.37it/s, episode_reward=10, running_reward=9.75]"
     ]
    },
    {
     "name": "stderr",
     "output_type": "stream",
     "text": [
      "\r",
      "  3%|▎         | 280/10000 [00:08<02:05, 77.37it/s, episode_reward=9, running_reward=9.74] "
     ]
    },
    {
     "name": "stderr",
     "output_type": "stream",
     "text": [
      "\r",
      "  3%|▎         | 280/10000 [00:08<02:05, 77.37it/s, episode_reward=10, running_reward=9.75]"
     ]
    },
    {
     "name": "stderr",
     "output_type": "stream",
     "text": [
      "\r",
      "  3%|▎         | 280/10000 [00:08<02:05, 77.37it/s, episode_reward=8, running_reward=9.72] "
     ]
    },
    {
     "name": "stderr",
     "output_type": "stream",
     "text": [
      "\r",
      "  3%|▎         | 280/10000 [00:08<02:05, 77.37it/s, episode_reward=10, running_reward=9.72]"
     ]
    },
    {
     "name": "stderr",
     "output_type": "stream",
     "text": [
      "\r",
      "  3%|▎         | 280/10000 [00:08<02:05, 77.37it/s, episode_reward=10, running_reward=9.72]"
     ]
    },
    {
     "name": "stderr",
     "output_type": "stream",
     "text": [
      "\r",
      "  3%|▎         | 280/10000 [00:08<02:05, 77.37it/s, episode_reward=9, running_reward=9.72] "
     ]
    },
    {
     "name": "stderr",
     "output_type": "stream",
     "text": [
      "\r",
      "  3%|▎         | 280/10000 [00:08<02:05, 77.37it/s, episode_reward=9, running_reward=9.71]"
     ]
    },
    {
     "name": "stderr",
     "output_type": "stream",
     "text": [
      "\r",
      "  3%|▎         | 280/10000 [00:08<02:05, 77.37it/s, episode_reward=10, running_reward=9.7]"
     ]
    },
    {
     "name": "stderr",
     "output_type": "stream",
     "text": [
      "\r",
      "  3%|▎         | 288/10000 [00:08<02:05, 77.62it/s, episode_reward=10, running_reward=9.7]"
     ]
    },
    {
     "name": "stderr",
     "output_type": "stream",
     "text": [
      "\r",
      "  3%|▎         | 288/10000 [00:08<02:05, 77.62it/s, episode_reward=10, running_reward=9.71]"
     ]
    },
    {
     "name": "stderr",
     "output_type": "stream",
     "text": [
      "\r",
      "  3%|▎         | 288/10000 [00:08<02:05, 77.62it/s, episode_reward=11, running_reward=9.72]"
     ]
    },
    {
     "name": "stderr",
     "output_type": "stream",
     "text": [
      "\r",
      "  3%|▎         | 288/10000 [00:08<02:05, 77.62it/s, episode_reward=8, running_reward=9.7]  "
     ]
    },
    {
     "name": "stderr",
     "output_type": "stream",
     "text": [
      "\r",
      "  3%|▎         | 288/10000 [00:08<02:05, 77.62it/s, episode_reward=10, running_reward=9.71]"
     ]
    },
    {
     "name": "stderr",
     "output_type": "stream",
     "text": [
      "\r",
      "  3%|▎         | 288/10000 [00:08<02:05, 77.62it/s, episode_reward=10, running_reward=9.72]"
     ]
    },
    {
     "name": "stderr",
     "output_type": "stream",
     "text": [
      "\r",
      "  3%|▎         | 288/10000 [00:08<02:05, 77.62it/s, episode_reward=10, running_reward=9.72]"
     ]
    },
    {
     "name": "stderr",
     "output_type": "stream",
     "text": [
      "\r",
      "  3%|▎         | 288/10000 [00:08<02:05, 77.62it/s, episode_reward=8, running_reward=9.71] "
     ]
    },
    {
     "name": "stderr",
     "output_type": "stream",
     "text": [
      "\r",
      "  3%|▎         | 288/10000 [00:08<02:05, 77.62it/s, episode_reward=12, running_reward=9.73]"
     ]
    },
    {
     "name": "stderr",
     "output_type": "stream",
     "text": [
      "\r",
      "  3%|▎         | 296/10000 [00:08<02:05, 77.22it/s, episode_reward=12, running_reward=9.73]"
     ]
    },
    {
     "name": "stderr",
     "output_type": "stream",
     "text": [
      "\r",
      "  3%|▎         | 296/10000 [00:08<02:05, 77.22it/s, episode_reward=8, running_reward=9.71] "
     ]
    },
    {
     "name": "stderr",
     "output_type": "stream",
     "text": [
      "\r",
      "  3%|▎         | 296/10000 [00:08<02:05, 77.22it/s, episode_reward=9, running_reward=9.7] "
     ]
    },
    {
     "name": "stderr",
     "output_type": "stream",
     "text": [
      "\r",
      "  3%|▎         | 296/10000 [00:08<02:05, 77.22it/s, episode_reward=10, running_reward=9.69]"
     ]
    },
    {
     "name": "stderr",
     "output_type": "stream",
     "text": [
      "\r",
      "  3%|▎         | 296/10000 [00:08<02:05, 77.22it/s, episode_reward=9, running_reward=9.69] "
     ]
    },
    {
     "name": "stderr",
     "output_type": "stream",
     "text": [
      "\r",
      "  3%|▎         | 296/10000 [00:08<02:05, 77.22it/s, episode_reward=10, running_reward=9.69]"
     ]
    },
    {
     "name": "stderr",
     "output_type": "stream",
     "text": [
      "\r",
      "  3%|▎         | 296/10000 [00:08<02:05, 77.22it/s, episode_reward=11, running_reward=9.69]"
     ]
    },
    {
     "name": "stderr",
     "output_type": "stream",
     "text": [
      "\r",
      "  3%|▎         | 296/10000 [00:08<02:05, 77.22it/s, episode_reward=9, running_reward=9.69] "
     ]
    },
    {
     "name": "stderr",
     "output_type": "stream",
     "text": [
      "\r",
      "  3%|▎         | 296/10000 [00:08<02:05, 77.22it/s, episode_reward=10, running_reward=9.7]"
     ]
    },
    {
     "name": "stderr",
     "output_type": "stream",
     "text": [
      "\r",
      "  3%|▎         | 304/10000 [00:08<02:04, 77.86it/s, episode_reward=10, running_reward=9.7]"
     ]
    },
    {
     "name": "stderr",
     "output_type": "stream",
     "text": [
      "\r",
      "  3%|▎         | 304/10000 [00:08<02:04, 77.86it/s, episode_reward=11, running_reward=9.71]"
     ]
    },
    {
     "name": "stderr",
     "output_type": "stream",
     "text": [
      "\r",
      "  3%|▎         | 304/10000 [00:08<02:04, 77.86it/s, episode_reward=11, running_reward=9.72]"
     ]
    },
    {
     "name": "stderr",
     "output_type": "stream",
     "text": [
      "\r",
      "  3%|▎         | 304/10000 [00:08<02:04, 77.86it/s, episode_reward=9, running_reward=9.72] "
     ]
    },
    {
     "name": "stderr",
     "output_type": "stream",
     "text": [
      "\r",
      "  3%|▎         | 304/10000 [00:08<02:04, 77.86it/s, episode_reward=14, running_reward=9.77]"
     ]
    },
    {
     "name": "stderr",
     "output_type": "stream",
     "text": [
      "\r",
      "  3%|▎         | 304/10000 [00:08<02:04, 77.86it/s, episode_reward=10, running_reward=9.78]"
     ]
    },
    {
     "name": "stderr",
     "output_type": "stream",
     "text": [
      "\r",
      "  3%|▎         | 304/10000 [00:08<02:04, 77.86it/s, episode_reward=9, running_reward=9.78] "
     ]
    },
    {
     "name": "stderr",
     "output_type": "stream",
     "text": [
      "\r",
      "  3%|▎         | 304/10000 [00:08<02:04, 77.86it/s, episode_reward=8, running_reward=9.76]"
     ]
    },
    {
     "name": "stderr",
     "output_type": "stream",
     "text": [
      "\r",
      "  3%|▎         | 304/10000 [00:08<02:04, 77.86it/s, episode_reward=10, running_reward=9.78]"
     ]
    },
    {
     "name": "stderr",
     "output_type": "stream",
     "text": [
      "\r",
      "  3%|▎         | 312/10000 [00:08<02:05, 77.21it/s, episode_reward=10, running_reward=9.78]"
     ]
    },
    {
     "name": "stderr",
     "output_type": "stream",
     "text": [
      "\r",
      "  3%|▎         | 312/10000 [00:08<02:05, 77.21it/s, episode_reward=8, running_reward=9.76] "
     ]
    },
    {
     "name": "stderr",
     "output_type": "stream",
     "text": [
      "\r",
      "  3%|▎         | 312/10000 [00:08<02:05, 77.21it/s, episode_reward=8, running_reward=9.74]"
     ]
    },
    {
     "name": "stderr",
     "output_type": "stream",
     "text": [
      "\r",
      "  3%|▎         | 312/10000 [00:08<02:05, 77.21it/s, episode_reward=10, running_reward=9.75]"
     ]
    },
    {
     "name": "stderr",
     "output_type": "stream",
     "text": [
      "\r",
      "  3%|▎         | 312/10000 [00:08<02:05, 77.21it/s, episode_reward=10, running_reward=9.75]"
     ]
    },
    {
     "name": "stderr",
     "output_type": "stream",
     "text": [
      "\r",
      "  3%|▎         | 312/10000 [00:08<02:05, 77.21it/s, episode_reward=10, running_reward=9.75]"
     ]
    },
    {
     "name": "stderr",
     "output_type": "stream",
     "text": [
      "\r",
      "  3%|▎         | 312/10000 [00:09<02:05, 77.21it/s, episode_reward=9, running_reward=9.74] "
     ]
    },
    {
     "name": "stderr",
     "output_type": "stream",
     "text": [
      "\r",
      "  3%|▎         | 312/10000 [00:09<02:05, 77.21it/s, episode_reward=11, running_reward=9.75]"
     ]
    },
    {
     "name": "stderr",
     "output_type": "stream",
     "text": [
      "\r",
      "  3%|▎         | 312/10000 [00:09<02:05, 77.21it/s, episode_reward=9, running_reward=9.74] "
     ]
    },
    {
     "name": "stderr",
     "output_type": "stream",
     "text": [
      "\r",
      "  3%|▎         | 312/10000 [00:09<02:05, 77.21it/s, episode_reward=10, running_reward=9.75]"
     ]
    },
    {
     "name": "stderr",
     "output_type": "stream",
     "text": [
      "\r",
      "  3%|▎         | 321/10000 [00:09<02:04, 77.95it/s, episode_reward=10, running_reward=9.75]"
     ]
    },
    {
     "name": "stderr",
     "output_type": "stream",
     "text": [
      "\r",
      "  3%|▎         | 321/10000 [00:09<02:04, 77.95it/s, episode_reward=9, running_reward=9.73] "
     ]
    },
    {
     "name": "stderr",
     "output_type": "stream",
     "text": [
      "\r",
      "  3%|▎         | 321/10000 [00:09<02:04, 77.95it/s, episode_reward=10, running_reward=9.71]"
     ]
    },
    {
     "name": "stderr",
     "output_type": "stream",
     "text": [
      "\r",
      "  3%|▎         | 321/10000 [00:09<02:04, 77.95it/s, episode_reward=10, running_reward=9.72]"
     ]
    },
    {
     "name": "stderr",
     "output_type": "stream",
     "text": [
      "\r",
      "  3%|▎         | 321/10000 [00:09<02:04, 77.95it/s, episode_reward=8, running_reward=9.71] "
     ]
    },
    {
     "name": "stderr",
     "output_type": "stream",
     "text": [
      "\r",
      "  3%|▎         | 321/10000 [00:09<02:04, 77.95it/s, episode_reward=9, running_reward=9.69]"
     ]
    },
    {
     "name": "stderr",
     "output_type": "stream",
     "text": [
      "\r",
      "  3%|▎         | 321/10000 [00:09<02:04, 77.95it/s, episode_reward=9, running_reward=9.68]"
     ]
    },
    {
     "name": "stderr",
     "output_type": "stream",
     "text": [
      "\r",
      "  3%|▎         | 321/10000 [00:09<02:04, 77.95it/s, episode_reward=11, running_reward=9.69]"
     ]
    },
    {
     "name": "stderr",
     "output_type": "stream",
     "text": [
      "\r",
      "  3%|▎         | 321/10000 [00:09<02:04, 77.95it/s, episode_reward=12, running_reward=9.73]"
     ]
    },
    {
     "name": "stderr",
     "output_type": "stream",
     "text": [
      "\r",
      "  3%|▎         | 329/10000 [00:09<02:04, 77.76it/s, episode_reward=12, running_reward=9.73]"
     ]
    },
    {
     "name": "stderr",
     "output_type": "stream",
     "text": [
      "\r",
      "  3%|▎         | 329/10000 [00:09<02:04, 77.76it/s, episode_reward=10, running_reward=9.74]"
     ]
    },
    {
     "name": "stderr",
     "output_type": "stream",
     "text": [
      "\r",
      "  3%|▎         | 329/10000 [00:09<02:04, 77.76it/s, episode_reward=10, running_reward=9.75]"
     ]
    },
    {
     "name": "stderr",
     "output_type": "stream",
     "text": [
      "\r",
      "  3%|▎         | 329/10000 [00:09<02:04, 77.76it/s, episode_reward=9, running_reward=9.73] "
     ]
    },
    {
     "name": "stderr",
     "output_type": "stream",
     "text": [
      "\r",
      "  3%|▎         | 329/10000 [00:09<02:04, 77.76it/s, episode_reward=10, running_reward=9.74]"
     ]
    },
    {
     "name": "stderr",
     "output_type": "stream",
     "text": [
      "\r",
      "  3%|▎         | 329/10000 [00:09<02:04, 77.76it/s, episode_reward=10, running_reward=9.69]"
     ]
    },
    {
     "name": "stderr",
     "output_type": "stream",
     "text": [
      "\r",
      "  3%|▎         | 329/10000 [00:09<02:04, 77.76it/s, episode_reward=9, running_reward=9.68] "
     ]
    },
    {
     "name": "stderr",
     "output_type": "stream",
     "text": [
      "\r",
      "  3%|▎         | 329/10000 [00:09<02:04, 77.76it/s, episode_reward=10, running_reward=9.68]"
     ]
    },
    {
     "name": "stderr",
     "output_type": "stream",
     "text": [
      "\r",
      "  3%|▎         | 329/10000 [00:09<02:04, 77.76it/s, episode_reward=9, running_reward=9.67] "
     ]
    },
    {
     "name": "stderr",
     "output_type": "stream",
     "text": [
      "\r",
      "  3%|▎         | 337/10000 [00:09<02:03, 78.06it/s, episode_reward=9, running_reward=9.67]"
     ]
    },
    {
     "name": "stderr",
     "output_type": "stream",
     "text": [
      "\r",
      "  3%|▎         | 337/10000 [00:09<02:03, 78.06it/s, episode_reward=11, running_reward=9.68]"
     ]
    },
    {
     "name": "stderr",
     "output_type": "stream",
     "text": [
      "\r",
      "  3%|▎         | 337/10000 [00:09<02:03, 78.06it/s, episode_reward=12, running_reward=9.7] "
     ]
    },
    {
     "name": "stderr",
     "output_type": "stream",
     "text": [
      "\r",
      "  3%|▎         | 337/10000 [00:09<02:03, 78.06it/s, episode_reward=10, running_reward=9.69]"
     ]
    },
    {
     "name": "stderr",
     "output_type": "stream",
     "text": [
      "\r",
      "  3%|▎         | 337/10000 [00:09<02:03, 78.06it/s, episode_reward=11, running_reward=9.71]"
     ]
    },
    {
     "name": "stderr",
     "output_type": "stream",
     "text": [
      "\r",
      "  3%|▎         | 337/10000 [00:09<02:03, 78.06it/s, episode_reward=9, running_reward=9.7]  "
     ]
    },
    {
     "name": "stderr",
     "output_type": "stream",
     "text": [
      "\r",
      "  3%|▎         | 337/10000 [00:09<02:03, 78.06it/s, episode_reward=9, running_reward=9.69]"
     ]
    },
    {
     "name": "stderr",
     "output_type": "stream",
     "text": [
      "\r",
      "  3%|▎         | 337/10000 [00:09<02:03, 78.06it/s, episode_reward=11, running_reward=9.7]"
     ]
    },
    {
     "name": "stderr",
     "output_type": "stream",
     "text": [
      "\r",
      "  3%|▎         | 337/10000 [00:09<02:03, 78.06it/s, episode_reward=9, running_reward=9.7] "
     ]
    },
    {
     "name": "stderr",
     "output_type": "stream",
     "text": [
      "\r",
      "  3%|▎         | 345/10000 [00:09<02:05, 77.20it/s, episode_reward=9, running_reward=9.7]"
     ]
    },
    {
     "name": "stderr",
     "output_type": "stream",
     "text": [
      "\r",
      "  3%|▎         | 345/10000 [00:09<02:05, 77.20it/s, episode_reward=8, running_reward=9.7]"
     ]
    },
    {
     "name": "stderr",
     "output_type": "stream",
     "text": [
      "\r",
      "  3%|▎         | 345/10000 [00:09<02:05, 77.20it/s, episode_reward=12, running_reward=9.72]"
     ]
    },
    {
     "name": "stderr",
     "output_type": "stream",
     "text": [
      "\r",
      "  3%|▎         | 345/10000 [00:09<02:05, 77.20it/s, episode_reward=9, running_reward=9.71] "
     ]
    },
    {
     "name": "stderr",
     "output_type": "stream",
     "text": [
      "\r",
      "  3%|▎         | 345/10000 [00:09<02:05, 77.20it/s, episode_reward=9, running_reward=9.71]"
     ]
    },
    {
     "name": "stderr",
     "output_type": "stream",
     "text": [
      "\r",
      "  3%|▎         | 345/10000 [00:09<02:05, 77.20it/s, episode_reward=9, running_reward=9.7] "
     ]
    },
    {
     "name": "stderr",
     "output_type": "stream",
     "text": [
      "\r",
      "  3%|▎         | 345/10000 [00:09<02:05, 77.20it/s, episode_reward=9, running_reward=9.69]"
     ]
    },
    {
     "name": "stderr",
     "output_type": "stream",
     "text": [
      "\r",
      "  3%|▎         | 345/10000 [00:09<02:05, 77.20it/s, episode_reward=9, running_reward=9.66]"
     ]
    },
    {
     "name": "stderr",
     "output_type": "stream",
     "text": [
      "\r",
      "  3%|▎         | 345/10000 [00:09<02:05, 77.20it/s, episode_reward=9, running_reward=9.67]"
     ]
    },
    {
     "name": "stderr",
     "output_type": "stream",
     "text": [
      "\r",
      "  3%|▎         | 345/10000 [00:09<02:05, 77.20it/s, episode_reward=11, running_reward=9.66]"
     ]
    },
    {
     "name": "stderr",
     "output_type": "stream",
     "text": [
      "\r",
      "  4%|▎         | 354/10000 [00:09<02:03, 77.97it/s, episode_reward=11, running_reward=9.66]"
     ]
    },
    {
     "name": "stderr",
     "output_type": "stream",
     "text": [
      "\r",
      "  4%|▎         | 354/10000 [00:09<02:03, 77.97it/s, episode_reward=9, running_reward=9.66] "
     ]
    },
    {
     "name": "stderr",
     "output_type": "stream",
     "text": [
      "\r",
      "  4%|▎         | 354/10000 [00:09<02:03, 77.97it/s, episode_reward=8, running_reward=9.64]"
     ]
    },
    {
     "name": "stderr",
     "output_type": "stream",
     "text": [
      "\r",
      "  4%|▎         | 354/10000 [00:09<02:03, 77.97it/s, episode_reward=10, running_reward=9.64]"
     ]
    },
    {
     "name": "stderr",
     "output_type": "stream",
     "text": [
      "\r",
      "  4%|▎         | 354/10000 [00:09<02:03, 77.97it/s, episode_reward=10, running_reward=9.63]"
     ]
    },
    {
     "name": "stderr",
     "output_type": "stream",
     "text": [
      "\r",
      "  4%|▎         | 354/10000 [00:09<02:03, 77.97it/s, episode_reward=15, running_reward=9.69]"
     ]
    },
    {
     "name": "stderr",
     "output_type": "stream",
     "text": [
      "\r",
      "  4%|▎         | 354/10000 [00:09<02:03, 77.97it/s, episode_reward=9, running_reward=9.69] "
     ]
    },
    {
     "name": "stderr",
     "output_type": "stream",
     "text": [
      "\r",
      "  4%|▎         | 354/10000 [00:09<02:03, 77.97it/s, episode_reward=10, running_reward=9.7]"
     ]
    },
    {
     "name": "stderr",
     "output_type": "stream",
     "text": [
      "\r",
      "  4%|▎         | 354/10000 [00:09<02:03, 77.97it/s, episode_reward=9, running_reward=9.69]"
     ]
    },
    {
     "name": "stderr",
     "output_type": "stream",
     "text": [
      "\r",
      "  4%|▎         | 362/10000 [00:09<02:03, 77.75it/s, episode_reward=9, running_reward=9.69]"
     ]
    },
    {
     "name": "stderr",
     "output_type": "stream",
     "text": [
      "\r",
      "  4%|▎         | 362/10000 [00:09<02:03, 77.75it/s, episode_reward=10, running_reward=9.7]"
     ]
    },
    {
     "name": "stderr",
     "output_type": "stream",
     "text": [
      "\r",
      "  4%|▎         | 362/10000 [00:09<02:03, 77.75it/s, episode_reward=10, running_reward=9.71]"
     ]
    },
    {
     "name": "stderr",
     "output_type": "stream",
     "text": [
      "\r",
      "  4%|▎         | 362/10000 [00:09<02:03, 77.75it/s, episode_reward=10, running_reward=9.73]"
     ]
    },
    {
     "name": "stderr",
     "output_type": "stream",
     "text": [
      "\r",
      "  4%|▎         | 362/10000 [00:09<02:03, 77.75it/s, episode_reward=10, running_reward=9.74]"
     ]
    },
    {
     "name": "stderr",
     "output_type": "stream",
     "text": [
      "\r",
      "  4%|▎         | 362/10000 [00:09<02:03, 77.75it/s, episode_reward=10, running_reward=9.74]"
     ]
    },
    {
     "name": "stderr",
     "output_type": "stream",
     "text": [
      "\r",
      "  4%|▎         | 362/10000 [00:09<02:03, 77.75it/s, episode_reward=11, running_reward=9.76]"
     ]
    },
    {
     "name": "stderr",
     "output_type": "stream",
     "text": [
      "\r",
      "  4%|▎         | 362/10000 [00:09<02:03, 77.75it/s, episode_reward=9, running_reward=9.76] "
     ]
    },
    {
     "name": "stderr",
     "output_type": "stream",
     "text": [
      "\r",
      "  4%|▎         | 362/10000 [00:09<02:03, 77.75it/s, episode_reward=10, running_reward=9.76]"
     ]
    },
    {
     "name": "stderr",
     "output_type": "stream",
     "text": [
      "\r",
      "  4%|▎         | 370/10000 [00:09<02:04, 77.35it/s, episode_reward=10, running_reward=9.76]"
     ]
    },
    {
     "name": "stderr",
     "output_type": "stream",
     "text": [
      "\r",
      "  4%|▎         | 370/10000 [00:09<02:04, 77.35it/s, episode_reward=9, running_reward=9.74] "
     ]
    },
    {
     "name": "stderr",
     "output_type": "stream",
     "text": [
      "\r",
      "  4%|▎         | 370/10000 [00:09<02:04, 77.35it/s, episode_reward=10, running_reward=9.75]"
     ]
    },
    {
     "name": "stderr",
     "output_type": "stream",
     "text": [
      "\r",
      "  4%|▎         | 370/10000 [00:09<02:04, 77.35it/s, episode_reward=10, running_reward=9.77]"
     ]
    },
    {
     "name": "stderr",
     "output_type": "stream",
     "text": [
      "\r",
      "  4%|▎         | 370/10000 [00:09<02:04, 77.35it/s, episode_reward=11, running_reward=9.79]"
     ]
    },
    {
     "name": "stderr",
     "output_type": "stream",
     "text": [
      "\r",
      "  4%|▎         | 370/10000 [00:09<02:04, 77.35it/s, episode_reward=10, running_reward=9.8] "
     ]
    },
    {
     "name": "stderr",
     "output_type": "stream",
     "text": [
      "\r",
      "  4%|▎         | 370/10000 [00:09<02:04, 77.35it/s, episode_reward=10, running_reward=9.79]"
     ]
    },
    {
     "name": "stderr",
     "output_type": "stream",
     "text": [
      "\r",
      "  4%|▎         | 370/10000 [00:09<02:04, 77.35it/s, episode_reward=11, running_reward=9.79]"
     ]
    },
    {
     "name": "stderr",
     "output_type": "stream",
     "text": [
      "\r",
      "  4%|▎         | 370/10000 [00:09<02:04, 77.35it/s, episode_reward=11, running_reward=9.81]"
     ]
    },
    {
     "name": "stderr",
     "output_type": "stream",
     "text": [
      "\r",
      "  4%|▍         | 378/10000 [00:09<02:06, 76.14it/s, episode_reward=11, running_reward=9.81]"
     ]
    },
    {
     "name": "stderr",
     "output_type": "stream",
     "text": [
      "\r",
      "  4%|▍         | 378/10000 [00:09<02:06, 76.14it/s, episode_reward=10, running_reward=9.81]"
     ]
    },
    {
     "name": "stderr",
     "output_type": "stream",
     "text": [
      "\r",
      "  4%|▍         | 378/10000 [00:09<02:06, 76.14it/s, episode_reward=9, running_reward=9.8]  "
     ]
    },
    {
     "name": "stderr",
     "output_type": "stream",
     "text": [
      "\r",
      "  4%|▍         | 378/10000 [00:09<02:06, 76.14it/s, episode_reward=13, running_reward=9.84]"
     ]
    },
    {
     "name": "stderr",
     "output_type": "stream",
     "text": [
      "\r",
      "  4%|▍         | 378/10000 [00:09<02:06, 76.14it/s, episode_reward=13, running_reward=9.87]"
     ]
    },
    {
     "name": "stderr",
     "output_type": "stream",
     "text": [
      "\r",
      "  4%|▍         | 378/10000 [00:09<02:06, 76.14it/s, episode_reward=9, running_reward=9.88] "
     ]
    },
    {
     "name": "stderr",
     "output_type": "stream",
     "text": [
      "\r",
      "  4%|▍         | 378/10000 [00:09<02:06, 76.14it/s, episode_reward=9, running_reward=9.87]"
     ]
    },
    {
     "name": "stderr",
     "output_type": "stream",
     "text": [
      "\r",
      "  4%|▍         | 378/10000 [00:09<02:06, 76.14it/s, episode_reward=13, running_reward=9.9]"
     ]
    },
    {
     "name": "stderr",
     "output_type": "stream",
     "text": [
      "\r",
      "  4%|▍         | 378/10000 [00:09<02:06, 76.14it/s, episode_reward=10, running_reward=9.91]"
     ]
    },
    {
     "name": "stderr",
     "output_type": "stream",
     "text": [
      "\r",
      "  4%|▍         | 386/10000 [00:09<02:08, 74.90it/s, episode_reward=10, running_reward=9.91]"
     ]
    },
    {
     "name": "stderr",
     "output_type": "stream",
     "text": [
      "\r",
      "  4%|▍         | 386/10000 [00:09<02:08, 74.90it/s, episode_reward=9, running_reward=9.91] "
     ]
    },
    {
     "name": "stderr",
     "output_type": "stream",
     "text": [
      "\r",
      "  4%|▍         | 386/10000 [00:09<02:08, 74.90it/s, episode_reward=9, running_reward=9.9] "
     ]
    },
    {
     "name": "stderr",
     "output_type": "stream",
     "text": [
      "\r",
      "  4%|▍         | 386/10000 [00:09<02:08, 74.90it/s, episode_reward=11, running_reward=9.91]"
     ]
    },
    {
     "name": "stderr",
     "output_type": "stream",
     "text": [
      "\r",
      "  4%|▍         | 386/10000 [00:09<02:08, 74.90it/s, episode_reward=11, running_reward=9.91]"
     ]
    },
    {
     "name": "stderr",
     "output_type": "stream",
     "text": [
      "\r",
      "  4%|▍         | 386/10000 [00:09<02:08, 74.90it/s, episode_reward=8, running_reward=9.91] "
     ]
    },
    {
     "name": "stderr",
     "output_type": "stream",
     "text": [
      "\r",
      "  4%|▍         | 386/10000 [00:09<02:08, 74.90it/s, episode_reward=11, running_reward=9.92]"
     ]
    },
    {
     "name": "stderr",
     "output_type": "stream",
     "text": [
      "\r",
      "  4%|▍         | 386/10000 [00:09<02:08, 74.90it/s, episode_reward=12, running_reward=9.94]"
     ]
    },
    {
     "name": "stderr",
     "output_type": "stream",
     "text": [
      "\r",
      "  4%|▍         | 386/10000 [00:10<02:08, 74.90it/s, episode_reward=10, running_reward=9.94]"
     ]
    },
    {
     "name": "stderr",
     "output_type": "stream",
     "text": [
      "\r",
      "  4%|▍         | 394/10000 [00:10<02:07, 75.12it/s, episode_reward=10, running_reward=9.94]"
     ]
    },
    {
     "name": "stderr",
     "output_type": "stream",
     "text": [
      "\r",
      "  4%|▍         | 394/10000 [00:10<02:07, 75.12it/s, episode_reward=11, running_reward=9.97]"
     ]
    },
    {
     "name": "stderr",
     "output_type": "stream",
     "text": [
      "\r",
      "  4%|▍         | 394/10000 [00:10<02:07, 75.12it/s, episode_reward=11, running_reward=9.96]"
     ]
    },
    {
     "name": "stderr",
     "output_type": "stream",
     "text": [
      "\r",
      "  4%|▍         | 394/10000 [00:10<02:07, 75.12it/s, episode_reward=10, running_reward=9.98]"
     ]
    },
    {
     "name": "stderr",
     "output_type": "stream",
     "text": [
      "\r",
      "  4%|▍         | 394/10000 [00:10<02:07, 75.12it/s, episode_reward=10, running_reward=9.99]"
     ]
    },
    {
     "name": "stderr",
     "output_type": "stream",
     "text": [
      "\r",
      "  4%|▍         | 394/10000 [00:10<02:07, 75.12it/s, episode_reward=13, running_reward=10]  "
     ]
    },
    {
     "name": "stderr",
     "output_type": "stream",
     "text": [
      "\r",
      "  4%|▍         | 394/10000 [00:10<02:07, 75.12it/s, episode_reward=10, running_reward=10]"
     ]
    },
    {
     "name": "stderr",
     "output_type": "stream",
     "text": [
      "\r",
      "  4%|▍         | 394/10000 [00:10<02:07, 75.12it/s, episode_reward=14, running_reward=10.1]"
     ]
    },
    {
     "name": "stderr",
     "output_type": "stream",
     "text": [
      "\r",
      "  4%|▍         | 394/10000 [00:10<02:07, 75.12it/s, episode_reward=12, running_reward=10.1]"
     ]
    },
    {
     "name": "stderr",
     "output_type": "stream",
     "text": [
      "\r",
      "  4%|▍         | 402/10000 [00:10<02:10, 73.40it/s, episode_reward=12, running_reward=10.1]"
     ]
    },
    {
     "name": "stderr",
     "output_type": "stream",
     "text": [
      "\r",
      "  4%|▍         | 402/10000 [00:10<02:10, 73.40it/s, episode_reward=17, running_reward=10.2]"
     ]
    },
    {
     "name": "stderr",
     "output_type": "stream",
     "text": [
      "\r",
      "  4%|▍         | 402/10000 [00:10<02:10, 73.40it/s, episode_reward=10, running_reward=10.2]"
     ]
    },
    {
     "name": "stderr",
     "output_type": "stream",
     "text": [
      "\r",
      "  4%|▍         | 402/10000 [00:10<02:10, 73.40it/s, episode_reward=9, running_reward=10.1] "
     ]
    },
    {
     "name": "stderr",
     "output_type": "stream",
     "text": [
      "\r",
      "  4%|▍         | 402/10000 [00:10<02:10, 73.40it/s, episode_reward=15, running_reward=10.2]"
     ]
    },
    {
     "name": "stderr",
     "output_type": "stream",
     "text": [
      "\r",
      "  4%|▍         | 402/10000 [00:10<02:10, 73.40it/s, episode_reward=9, running_reward=10.2] "
     ]
    },
    {
     "name": "stderr",
     "output_type": "stream",
     "text": [
      "\r",
      "  4%|▍         | 402/10000 [00:10<02:10, 73.40it/s, episode_reward=16, running_reward=10.2]"
     ]
    },
    {
     "name": "stderr",
     "output_type": "stream",
     "text": [
      "\r",
      "  4%|▍         | 402/10000 [00:10<02:10, 73.40it/s, episode_reward=13, running_reward=10.2]"
     ]
    },
    {
     "name": "stderr",
     "output_type": "stream",
     "text": [
      "\r",
      "  4%|▍         | 402/10000 [00:10<02:10, 73.40it/s, episode_reward=10, running_reward=10.2]"
     ]
    },
    {
     "name": "stderr",
     "output_type": "stream",
     "text": [
      "\r",
      "  4%|▍         | 410/10000 [00:10<02:15, 70.98it/s, episode_reward=10, running_reward=10.2]"
     ]
    },
    {
     "name": "stderr",
     "output_type": "stream",
     "text": [
      "\r",
      "  4%|▍         | 410/10000 [00:10<02:15, 70.98it/s, episode_reward=17, running_reward=10.3]"
     ]
    },
    {
     "name": "stderr",
     "output_type": "stream",
     "text": [
      "\r",
      "  4%|▍         | 410/10000 [00:10<02:15, 70.98it/s, episode_reward=12, running_reward=10.3]"
     ]
    },
    {
     "name": "stderr",
     "output_type": "stream",
     "text": [
      "\r",
      "  4%|▍         | 410/10000 [00:10<02:15, 70.98it/s, episode_reward=15, running_reward=10.4]"
     ]
    },
    {
     "name": "stderr",
     "output_type": "stream",
     "text": [
      "\r",
      "  4%|▍         | 410/10000 [00:10<02:15, 70.98it/s, episode_reward=10, running_reward=10.4]"
     ]
    },
    {
     "name": "stderr",
     "output_type": "stream",
     "text": [
      "\r",
      "  4%|▍         | 410/10000 [00:10<02:15, 70.98it/s, episode_reward=9, running_reward=10.4] "
     ]
    },
    {
     "name": "stderr",
     "output_type": "stream",
     "text": [
      "\r",
      "  4%|▍         | 410/10000 [00:10<02:15, 70.98it/s, episode_reward=13, running_reward=10.5]"
     ]
    },
    {
     "name": "stderr",
     "output_type": "stream",
     "text": [
      "\r",
      "  4%|▍         | 410/10000 [00:10<02:15, 70.98it/s, episode_reward=12, running_reward=10.5]"
     ]
    },
    {
     "name": "stderr",
     "output_type": "stream",
     "text": [
      "\r",
      "  4%|▍         | 410/10000 [00:10<02:15, 70.98it/s, episode_reward=10, running_reward=10.5]"
     ]
    },
    {
     "name": "stderr",
     "output_type": "stream",
     "text": [
      "\r",
      "  4%|▍         | 418/10000 [00:10<02:18, 69.23it/s, episode_reward=10, running_reward=10.5]"
     ]
    },
    {
     "name": "stderr",
     "output_type": "stream",
     "text": [
      "\r",
      "  4%|▍         | 418/10000 [00:10<02:18, 69.23it/s, episode_reward=12, running_reward=10.5]"
     ]
    },
    {
     "name": "stderr",
     "output_type": "stream",
     "text": [
      "\r",
      "  4%|▍         | 418/10000 [00:10<02:18, 69.23it/s, episode_reward=10, running_reward=10.5]"
     ]
    },
    {
     "name": "stderr",
     "output_type": "stream",
     "text": [
      "\r",
      "  4%|▍         | 418/10000 [00:10<02:18, 69.23it/s, episode_reward=13, running_reward=10.5]"
     ]
    },
    {
     "name": "stderr",
     "output_type": "stream",
     "text": [
      "\r",
      "  4%|▍         | 418/10000 [00:10<02:18, 69.23it/s, episode_reward=12, running_reward=10.6]"
     ]
    },
    {
     "name": "stderr",
     "output_type": "stream",
     "text": [
      "\r",
      "  4%|▍         | 418/10000 [00:10<02:18, 69.23it/s, episode_reward=8, running_reward=10.6] "
     ]
    },
    {
     "name": "stderr",
     "output_type": "stream",
     "text": [
      "\r",
      "  4%|▍         | 418/10000 [00:10<02:18, 69.23it/s, episode_reward=11, running_reward=10.6]"
     ]
    },
    {
     "name": "stderr",
     "output_type": "stream",
     "text": [
      "\r",
      "  4%|▍         | 418/10000 [00:10<02:18, 69.23it/s, episode_reward=10, running_reward=10.6]"
     ]
    },
    {
     "name": "stderr",
     "output_type": "stream",
     "text": [
      "\r",
      "  4%|▍         | 418/10000 [00:10<02:18, 69.23it/s, episode_reward=19, running_reward=10.7]"
     ]
    },
    {
     "name": "stderr",
     "output_type": "stream",
     "text": [
      "\r",
      "  4%|▍         | 426/10000 [00:10<02:19, 68.59it/s, episode_reward=19, running_reward=10.7]"
     ]
    },
    {
     "name": "stderr",
     "output_type": "stream",
     "text": [
      "\r",
      "  4%|▍         | 426/10000 [00:10<02:19, 68.59it/s, episode_reward=11, running_reward=10.7]"
     ]
    },
    {
     "name": "stderr",
     "output_type": "stream",
     "text": [
      "\r",
      "  4%|▍         | 426/10000 [00:10<02:19, 68.59it/s, episode_reward=10, running_reward=10.7]"
     ]
    },
    {
     "name": "stderr",
     "output_type": "stream",
     "text": [
      "\r",
      "  4%|▍         | 426/10000 [00:10<02:19, 68.59it/s, episode_reward=16, running_reward=10.7]"
     ]
    },
    {
     "name": "stderr",
     "output_type": "stream",
     "text": [
      "\r",
      "  4%|▍         | 426/10000 [00:10<02:19, 68.59it/s, episode_reward=17, running_reward=10.8]"
     ]
    },
    {
     "name": "stderr",
     "output_type": "stream",
     "text": [
      "\r",
      "  4%|▍         | 426/10000 [00:10<02:19, 68.59it/s, episode_reward=16, running_reward=10.9]"
     ]
    },
    {
     "name": "stderr",
     "output_type": "stream",
     "text": [
      "\r",
      "  4%|▍         | 426/10000 [00:10<02:19, 68.59it/s, episode_reward=15, running_reward=10.9]"
     ]
    },
    {
     "name": "stderr",
     "output_type": "stream",
     "text": [
      "\r",
      "  4%|▍         | 426/10000 [00:10<02:19, 68.59it/s, episode_reward=10, running_reward=10.9]"
     ]
    },
    {
     "name": "stderr",
     "output_type": "stream",
     "text": [
      "\r",
      "  4%|▍         | 433/10000 [00:10<02:24, 66.33it/s, episode_reward=10, running_reward=10.9]"
     ]
    },
    {
     "name": "stderr",
     "output_type": "stream",
     "text": [
      "\r",
      "  4%|▍         | 433/10000 [00:10<02:24, 66.33it/s, episode_reward=19, running_reward=11]  "
     ]
    },
    {
     "name": "stderr",
     "output_type": "stream",
     "text": [
      "\r",
      "  4%|▍         | 433/10000 [00:10<02:24, 66.33it/s, episode_reward=13, running_reward=11.1]"
     ]
    },
    {
     "name": "stderr",
     "output_type": "stream",
     "text": [
      "\r",
      "  4%|▍         | 433/10000 [00:10<02:24, 66.33it/s, episode_reward=22, running_reward=11.2]"
     ]
    },
    {
     "name": "stderr",
     "output_type": "stream",
     "text": [
      "\r",
      "  4%|▍         | 433/10000 [00:10<02:24, 66.33it/s, episode_reward=11, running_reward=11.2]"
     ]
    },
    {
     "name": "stderr",
     "output_type": "stream",
     "text": [
      "\r",
      "  4%|▍         | 433/10000 [00:10<02:24, 66.33it/s, episode_reward=17, running_reward=11.2]"
     ]
    },
    {
     "name": "stderr",
     "output_type": "stream",
     "text": [
      "\r",
      "  4%|▍         | 433/10000 [00:10<02:24, 66.33it/s, episode_reward=31, running_reward=11.4]"
     ]
    },
    {
     "name": "stderr",
     "output_type": "stream",
     "text": [
      "\r",
      "  4%|▍         | 433/10000 [00:10<02:24, 66.33it/s, episode_reward=46, running_reward=11.8]"
     ]
    },
    {
     "name": "stderr",
     "output_type": "stream",
     "text": [
      "\r",
      "  4%|▍         | 440/10000 [00:10<02:51, 55.66it/s, episode_reward=46, running_reward=11.8]"
     ]
    },
    {
     "name": "stderr",
     "output_type": "stream",
     "text": [
      "\r",
      "  4%|▍         | 440/10000 [00:10<02:51, 55.66it/s, episode_reward=27, running_reward=12]  "
     ]
    },
    {
     "name": "stderr",
     "output_type": "stream",
     "text": [
      "\r",
      "  4%|▍         | 440/10000 [00:10<02:51, 55.66it/s, episode_reward=39, running_reward=12.3]"
     ]
    },
    {
     "name": "stderr",
     "output_type": "stream",
     "text": [
      "\r",
      "  4%|▍         | 440/10000 [00:10<02:51, 55.66it/s, episode_reward=47, running_reward=12.6]"
     ]
    },
    {
     "name": "stderr",
     "output_type": "stream",
     "text": [
      "\r",
      "  4%|▍         | 440/10000 [00:10<02:51, 55.66it/s, episode_reward=26, running_reward=12.8]"
     ]
    },
    {
     "name": "stderr",
     "output_type": "stream",
     "text": [
      "\r",
      "  4%|▍         | 440/10000 [00:10<02:51, 55.66it/s, episode_reward=25, running_reward=12.9]"
     ]
    },
    {
     "name": "stderr",
     "output_type": "stream",
     "text": [
      "\r",
      "  4%|▍         | 440/10000 [00:10<02:51, 55.66it/s, episode_reward=20, running_reward=13.1]"
     ]
    },
    {
     "name": "stderr",
     "output_type": "stream",
     "text": [
      "\r",
      "  4%|▍         | 446/10000 [00:10<03:29, 45.57it/s, episode_reward=20, running_reward=13.1]"
     ]
    },
    {
     "name": "stderr",
     "output_type": "stream",
     "text": [
      "\r",
      "  4%|▍         | 446/10000 [00:11<03:29, 45.57it/s, episode_reward=66, running_reward=13.6]"
     ]
    },
    {
     "name": "stderr",
     "output_type": "stream",
     "text": [
      "\r",
      "  4%|▍         | 446/10000 [00:11<03:29, 45.57it/s, episode_reward=23, running_reward=13.8]"
     ]
    },
    {
     "name": "stderr",
     "output_type": "stream",
     "text": [
      "\r",
      "  4%|▍         | 446/10000 [00:11<03:29, 45.57it/s, episode_reward=22, running_reward=13.9]"
     ]
    },
    {
     "name": "stderr",
     "output_type": "stream",
     "text": [
      "\r",
      "  4%|▍         | 446/10000 [00:11<03:29, 45.57it/s, episode_reward=77, running_reward=14.6]"
     ]
    },
    {
     "name": "stderr",
     "output_type": "stream",
     "text": [
      "\r",
      "  4%|▍         | 446/10000 [00:11<03:29, 45.57it/s, episode_reward=94, running_reward=15.4]"
     ]
    },
    {
     "name": "stderr",
     "output_type": "stream",
     "text": [
      "\r",
      "  5%|▍         | 451/10000 [00:11<04:48, 33.14it/s, episode_reward=94, running_reward=15.4]"
     ]
    },
    {
     "name": "stderr",
     "output_type": "stream",
     "text": [
      "\r",
      "  5%|▍         | 451/10000 [00:11<04:48, 33.14it/s, episode_reward=131, running_reward=16.6]"
     ]
    },
    {
     "name": "stderr",
     "output_type": "stream",
     "text": [
      "\r",
      "  5%|▍         | 451/10000 [00:11<04:48, 33.14it/s, episode_reward=139, running_reward=17.9]"
     ]
    },
    {
     "name": "stderr",
     "output_type": "stream",
     "text": [
      "\r",
      "  5%|▍         | 451/10000 [00:11<04:48, 33.14it/s, episode_reward=216, running_reward=20]  "
     ]
    },
    {
     "name": "stderr",
     "output_type": "stream",
     "text": [
      "\r",
      "  5%|▍         | 451/10000 [00:11<04:48, 33.14it/s, episode_reward=163, running_reward=21.5]"
     ]
    },
    {
     "name": "stderr",
     "output_type": "stream",
     "text": [
      "\r",
      "  5%|▍         | 451/10000 [00:11<04:48, 33.14it/s, episode_reward=50, running_reward=21.9] "
     ]
    },
    {
     "name": "stderr",
     "output_type": "stream",
     "text": [
      "\r",
      "  5%|▍         | 456/10000 [00:11<09:01, 17.63it/s, episode_reward=50, running_reward=21.9]"
     ]
    },
    {
     "name": "stderr",
     "output_type": "stream",
     "text": [
      "\r",
      "  5%|▍         | 456/10000 [00:12<09:01, 17.63it/s, episode_reward=230, running_reward=24.1]"
     ]
    },
    {
     "name": "stderr",
     "output_type": "stream",
     "text": [
      "\r",
      "  5%|▍         | 456/10000 [00:12<09:01, 17.63it/s, episode_reward=245, running_reward=26.5]"
     ]
    },
    {
     "name": "stderr",
     "output_type": "stream",
     "text": [
      "\r",
      "  5%|▍         | 456/10000 [00:12<09:01, 17.63it/s, episode_reward=185, running_reward=28.2]"
     ]
    },
    {
     "name": "stderr",
     "output_type": "stream",
     "text": [
      "\r",
      "  5%|▍         | 456/10000 [00:12<09:01, 17.63it/s, episode_reward=402, running_reward=32.1]"
     ]
    },
    {
     "name": "stderr",
     "output_type": "stream",
     "text": [
      "\r",
      "  5%|▍         | 460/10000 [00:12<15:54,  9.99it/s, episode_reward=402, running_reward=32.1]"
     ]
    },
    {
     "name": "stderr",
     "output_type": "stream",
     "text": [
      "\r",
      "  5%|▍         | 460/10000 [00:13<15:54,  9.99it/s, episode_reward=500, running_reward=37]  "
     ]
    },
    {
     "name": "stderr",
     "output_type": "stream",
     "text": [
      "\r",
      "  5%|▍         | 460/10000 [00:13<15:54,  9.99it/s, episode_reward=500, running_reward=41.9]"
     ]
    },
    {
     "name": "stderr",
     "output_type": "stream",
     "text": [
      "\r",
      "  5%|▍         | 460/10000 [00:14<15:54,  9.99it/s, episode_reward=234, running_reward=44.2]"
     ]
    },
    {
     "name": "stderr",
     "output_type": "stream",
     "text": [
      "\r",
      "  5%|▍         | 463/10000 [00:14<25:04,  6.34it/s, episode_reward=234, running_reward=44.2]"
     ]
    },
    {
     "name": "stderr",
     "output_type": "stream",
     "text": [
      "\r",
      "  5%|▍         | 463/10000 [00:14<25:04,  6.34it/s, episode_reward=102, running_reward=45.1]"
     ]
    },
    {
     "name": "stderr",
     "output_type": "stream",
     "text": [
      "\r",
      "  5%|▍         | 463/10000 [00:14<25:04,  6.34it/s, episode_reward=78, running_reward=45.8] "
     ]
    },
    {
     "name": "stderr",
     "output_type": "stream",
     "text": [
      "\r",
      "  5%|▍         | 465/10000 [00:14<23:30,  6.76it/s, episode_reward=78, running_reward=45.8]"
     ]
    },
    {
     "name": "stderr",
     "output_type": "stream",
     "text": [
      "\r",
      "  5%|▍         | 465/10000 [00:14<23:30,  6.76it/s, episode_reward=54, running_reward=46.2]"
     ]
    },
    {
     "name": "stderr",
     "output_type": "stream",
     "text": [
      "\r",
      "  5%|▍         | 465/10000 [00:14<23:30,  6.76it/s, episode_reward=67, running_reward=46.8]"
     ]
    },
    {
     "name": "stderr",
     "output_type": "stream",
     "text": [
      "\r",
      "  5%|▍         | 467/10000 [00:14<21:05,  7.53it/s, episode_reward=67, running_reward=46.8]"
     ]
    },
    {
     "name": "stderr",
     "output_type": "stream",
     "text": [
      "\r",
      "  5%|▍         | 467/10000 [00:14<21:05,  7.53it/s, episode_reward=64, running_reward=47.3]"
     ]
    },
    {
     "name": "stderr",
     "output_type": "stream",
     "text": [
      "\r",
      "  5%|▍         | 467/10000 [00:14<21:05,  7.53it/s, episode_reward=17, running_reward=47.4]"
     ]
    },
    {
     "name": "stderr",
     "output_type": "stream",
     "text": [
      "\r",
      "  5%|▍         | 467/10000 [00:14<21:05,  7.53it/s, episode_reward=125, running_reward=48.5]"
     ]
    },
    {
     "name": "stderr",
     "output_type": "stream",
     "text": [
      "\r",
      "  5%|▍         | 470/10000 [00:14<18:25,  8.62it/s, episode_reward=125, running_reward=48.5]"
     ]
    },
    {
     "name": "stderr",
     "output_type": "stream",
     "text": [
      "\r",
      "  5%|▍         | 470/10000 [00:14<18:25,  8.62it/s, episode_reward=13, running_reward=48.6] "
     ]
    },
    {
     "name": "stderr",
     "output_type": "stream",
     "text": [
      "\r",
      "  5%|▍         | 470/10000 [00:14<18:25,  8.62it/s, episode_reward=16, running_reward=48.6]"
     ]
    },
    {
     "name": "stderr",
     "output_type": "stream",
     "text": [
      "\r",
      "  5%|▍         | 470/10000 [00:14<18:25,  8.62it/s, episode_reward=10, running_reward=48.6]"
     ]
    },
    {
     "name": "stderr",
     "output_type": "stream",
     "text": [
      "\r",
      "  5%|▍         | 470/10000 [00:14<18:25,  8.62it/s, episode_reward=10, running_reward=48.6]"
     ]
    },
    {
     "name": "stderr",
     "output_type": "stream",
     "text": [
      "\r",
      "  5%|▍         | 470/10000 [00:14<18:25,  8.62it/s, episode_reward=11, running_reward=48.6]"
     ]
    },
    {
     "name": "stderr",
     "output_type": "stream",
     "text": [
      "\r",
      "  5%|▍         | 470/10000 [00:14<18:25,  8.62it/s, episode_reward=14, running_reward=48.7]"
     ]
    },
    {
     "name": "stderr",
     "output_type": "stream",
     "text": [
      "\r",
      "  5%|▍         | 470/10000 [00:14<18:25,  8.62it/s, episode_reward=11, running_reward=48.7]"
     ]
    },
    {
     "name": "stderr",
     "output_type": "stream",
     "text": [
      "\r",
      "  5%|▍         | 477/10000 [00:14<10:45, 14.75it/s, episode_reward=11, running_reward=48.7]"
     ]
    },
    {
     "name": "stderr",
     "output_type": "stream",
     "text": [
      "\r",
      "  5%|▍         | 477/10000 [00:14<10:45, 14.75it/s, episode_reward=11, running_reward=48.7]"
     ]
    },
    {
     "name": "stderr",
     "output_type": "stream",
     "text": [
      "\r",
      "  5%|▍         | 477/10000 [00:14<10:45, 14.75it/s, episode_reward=11, running_reward=48.7]"
     ]
    },
    {
     "name": "stderr",
     "output_type": "stream",
     "text": [
      "\r",
      "  5%|▍         | 477/10000 [00:15<10:45, 14.75it/s, episode_reward=500, running_reward=53.6]"
     ]
    },
    {
     "name": "stderr",
     "output_type": "stream",
     "text": [
      "\r",
      "  5%|▍         | 480/10000 [00:15<14:27, 10.97it/s, episode_reward=500, running_reward=53.6]"
     ]
    },
    {
     "name": "stderr",
     "output_type": "stream",
     "text": [
      "\r",
      "  5%|▍         | 480/10000 [00:15<14:27, 10.97it/s, episode_reward=14, running_reward=53.6] "
     ]
    },
    {
     "name": "stderr",
     "output_type": "stream",
     "text": [
      "\r",
      "  5%|▍         | 480/10000 [00:15<14:27, 10.97it/s, episode_reward=500, running_reward=58.5]"
     ]
    },
    {
     "name": "stderr",
     "output_type": "stream",
     "text": [
      "\r",
      "  5%|▍         | 480/10000 [00:16<14:27, 10.97it/s, episode_reward=500, running_reward=63.4]"
     ]
    },
    {
     "name": "stderr",
     "output_type": "stream",
     "text": [
      "\r",
      "  5%|▍         | 483/10000 [00:16<24:08,  6.57it/s, episode_reward=500, running_reward=63.4]"
     ]
    },
    {
     "name": "stderr",
     "output_type": "stream",
     "text": [
      "\r",
      "  5%|▍         | 483/10000 [00:16<24:08,  6.57it/s, episode_reward=500, running_reward=68.3]"
     ]
    },
    {
     "name": "stderr",
     "output_type": "stream",
     "text": [
      "\r",
      "  5%|▍         | 483/10000 [00:17<24:08,  6.57it/s, episode_reward=500, running_reward=73.2]"
     ]
    },
    {
     "name": "stderr",
     "output_type": "stream",
     "text": [
      "\r",
      "  5%|▍         | 485/10000 [00:17<34:43,  4.57it/s, episode_reward=500, running_reward=73.2]"
     ]
    },
    {
     "name": "stderr",
     "output_type": "stream",
     "text": [
      "\r",
      "  5%|▍         | 485/10000 [00:17<34:43,  4.57it/s, episode_reward=479, running_reward=77.9]"
     ]
    },
    {
     "name": "stderr",
     "output_type": "stream",
     "text": [
      "\r",
      "  5%|▍         | 485/10000 [00:18<34:43,  4.57it/s, episode_reward=289, running_reward=80.7]"
     ]
    },
    {
     "name": "stderr",
     "output_type": "stream",
     "text": [
      "\r",
      "  5%|▍         | 487/10000 [00:18<40:09,  3.95it/s, episode_reward=289, running_reward=80.7]"
     ]
    },
    {
     "name": "stderr",
     "output_type": "stream",
     "text": [
      "\r",
      "  5%|▍         | 487/10000 [00:18<40:09,  3.95it/s, episode_reward=249, running_reward=83.1]"
     ]
    },
    {
     "name": "stderr",
     "output_type": "stream",
     "text": [
      "\r",
      "  5%|▍         | 488/10000 [00:18<40:07,  3.95it/s, episode_reward=249, running_reward=83.1]"
     ]
    },
    {
     "name": "stderr",
     "output_type": "stream",
     "text": [
      "\r",
      "  5%|▍         | 488/10000 [00:18<40:07,  3.95it/s, episode_reward=339, running_reward=86.3]"
     ]
    },
    {
     "name": "stderr",
     "output_type": "stream",
     "text": [
      "\r",
      "  5%|▍         | 489/10000 [00:18<42:38,  3.72it/s, episode_reward=339, running_reward=86.3]"
     ]
    },
    {
     "name": "stderr",
     "output_type": "stream",
     "text": [
      "\r",
      "  5%|▍         | 489/10000 [00:19<42:38,  3.72it/s, episode_reward=500, running_reward=91.2]"
     ]
    },
    {
     "name": "stderr",
     "output_type": "stream",
     "text": [
      "\r",
      "  5%|▍         | 490/10000 [00:19<49:47,  3.18it/s, episode_reward=500, running_reward=91.2]"
     ]
    },
    {
     "name": "stderr",
     "output_type": "stream",
     "text": [
      "\r",
      "  5%|▍         | 490/10000 [00:19<49:47,  3.18it/s, episode_reward=308, running_reward=94.2]"
     ]
    },
    {
     "name": "stderr",
     "output_type": "stream",
     "text": [
      "\r",
      "  5%|▍         | 491/10000 [00:19<50:28,  3.14it/s, episode_reward=308, running_reward=94.2]"
     ]
    },
    {
     "name": "stderr",
     "output_type": "stream",
     "text": [
      "\r",
      "  5%|▍         | 491/10000 [00:19<50:28,  3.14it/s, episode_reward=397, running_reward=98.1]"
     ]
    },
    {
     "name": "stderr",
     "output_type": "stream",
     "text": [
      "\r",
      "  5%|▍         | 492/10000 [00:19<54:27,  2.91it/s, episode_reward=397, running_reward=98.1]"
     ]
    },
    {
     "name": "stderr",
     "output_type": "stream",
     "text": [
      "\r",
      "  5%|▍         | 492/10000 [00:20<54:27,  2.91it/s, episode_reward=500, running_reward=103] "
     ]
    },
    {
     "name": "stderr",
     "output_type": "stream",
     "text": [
      "\r",
      "  5%|▍         | 493/10000 [00:20<1:00:47,  2.61it/s, episode_reward=500, running_reward=103]"
     ]
    },
    {
     "name": "stderr",
     "output_type": "stream",
     "text": [
      "\r",
      "  5%|▍         | 493/10000 [00:20<1:00:47,  2.61it/s, episode_reward=500, running_reward=108]"
     ]
    },
    {
     "name": "stderr",
     "output_type": "stream",
     "text": [
      "\r",
      "  5%|▍         | 494/10000 [00:20<1:05:35,  2.42it/s, episode_reward=500, running_reward=108]"
     ]
    },
    {
     "name": "stderr",
     "output_type": "stream",
     "text": [
      "\r",
      "  5%|▍         | 494/10000 [00:21<1:05:35,  2.42it/s, episode_reward=500, running_reward=113]"
     ]
    },
    {
     "name": "stderr",
     "output_type": "stream",
     "text": [
      "\r",
      "  5%|▍         | 495/10000 [00:21<1:09:26,  2.28it/s, episode_reward=500, running_reward=113]"
     ]
    },
    {
     "name": "stderr",
     "output_type": "stream",
     "text": [
      "\r",
      "  5%|▍         | 495/10000 [00:21<1:09:26,  2.28it/s, episode_reward=500, running_reward=118]"
     ]
    },
    {
     "name": "stderr",
     "output_type": "stream",
     "text": [
      "\r",
      "  5%|▍         | 496/10000 [00:21<1:10:49,  2.24it/s, episode_reward=500, running_reward=118]"
     ]
    },
    {
     "name": "stderr",
     "output_type": "stream",
     "text": [
      "\r",
      "  5%|▍         | 496/10000 [00:22<1:10:49,  2.24it/s, episode_reward=500, running_reward=123]"
     ]
    },
    {
     "name": "stderr",
     "output_type": "stream",
     "text": [
      "\r",
      "  5%|▍         | 497/10000 [00:22<1:11:55,  2.20it/s, episode_reward=500, running_reward=123]"
     ]
    },
    {
     "name": "stderr",
     "output_type": "stream",
     "text": [
      "\r",
      "  5%|▍         | 497/10000 [00:22<1:11:55,  2.20it/s, episode_reward=500, running_reward=127]"
     ]
    },
    {
     "name": "stderr",
     "output_type": "stream",
     "text": [
      "\r",
      "  5%|▍         | 498/10000 [00:22<1:12:47,  2.18it/s, episode_reward=500, running_reward=127]"
     ]
    },
    {
     "name": "stderr",
     "output_type": "stream",
     "text": [
      "\r",
      "  5%|▍         | 498/10000 [00:23<1:12:47,  2.18it/s, episode_reward=500, running_reward=132]"
     ]
    },
    {
     "name": "stderr",
     "output_type": "stream",
     "text": [
      "\r",
      "  5%|▍         | 499/10000 [00:23<1:13:20,  2.16it/s, episode_reward=500, running_reward=132]"
     ]
    },
    {
     "name": "stderr",
     "output_type": "stream",
     "text": [
      "\r",
      "  5%|▍         | 499/10000 [00:23<1:13:20,  2.16it/s, episode_reward=500, running_reward=137]"
     ]
    },
    {
     "name": "stderr",
     "output_type": "stream",
     "text": [
      "\r",
      "  5%|▌         | 500/10000 [00:23<1:13:50,  2.14it/s, episode_reward=500, running_reward=137]"
     ]
    },
    {
     "name": "stderr",
     "output_type": "stream",
     "text": [
      "\r",
      "  5%|▌         | 500/10000 [00:24<1:13:50,  2.14it/s, episode_reward=500, running_reward=142]"
     ]
    },
    {
     "name": "stderr",
     "output_type": "stream",
     "text": [
      "\r",
      "  5%|▌         | 501/10000 [00:24<1:14:10,  2.13it/s, episode_reward=500, running_reward=142]"
     ]
    },
    {
     "name": "stderr",
     "output_type": "stream",
     "text": [
      "\r",
      "  5%|▌         | 501/10000 [00:24<1:14:10,  2.13it/s, episode_reward=500, running_reward=147]"
     ]
    },
    {
     "name": "stderr",
     "output_type": "stream",
     "text": [
      "\r",
      "  5%|▌         | 502/10000 [00:24<1:14:14,  2.13it/s, episode_reward=500, running_reward=147]"
     ]
    },
    {
     "name": "stderr",
     "output_type": "stream",
     "text": [
      "\r",
      "  5%|▌         | 502/10000 [00:25<1:14:14,  2.13it/s, episode_reward=500, running_reward=152]"
     ]
    },
    {
     "name": "stderr",
     "output_type": "stream",
     "text": [
      "\r",
      "  5%|▌         | 503/10000 [00:25<1:14:17,  2.13it/s, episode_reward=500, running_reward=152]"
     ]
    },
    {
     "name": "stderr",
     "output_type": "stream",
     "text": [
      "\r",
      "  5%|▌         | 503/10000 [00:25<1:14:17,  2.13it/s, episode_reward=500, running_reward=157]"
     ]
    },
    {
     "name": "stderr",
     "output_type": "stream",
     "text": [
      "\r",
      "  5%|▌         | 504/10000 [00:25<1:14:09,  2.13it/s, episode_reward=500, running_reward=157]"
     ]
    },
    {
     "name": "stderr",
     "output_type": "stream",
     "text": [
      "\r",
      "  5%|▌         | 504/10000 [00:26<1:14:09,  2.13it/s, episode_reward=500, running_reward=162]"
     ]
    },
    {
     "name": "stderr",
     "output_type": "stream",
     "text": [
      "\r",
      "  5%|▌         | 505/10000 [00:26<1:14:10,  2.13it/s, episode_reward=500, running_reward=162]"
     ]
    },
    {
     "name": "stderr",
     "output_type": "stream",
     "text": [
      "\r",
      "  5%|▌         | 505/10000 [00:26<1:14:10,  2.13it/s, episode_reward=500, running_reward=166]"
     ]
    },
    {
     "name": "stderr",
     "output_type": "stream",
     "text": [
      "\r",
      "  5%|▌         | 506/10000 [00:26<1:14:57,  2.11it/s, episode_reward=500, running_reward=166]"
     ]
    },
    {
     "name": "stderr",
     "output_type": "stream",
     "text": [
      "\r",
      "  5%|▌         | 506/10000 [00:27<1:14:57,  2.11it/s, episode_reward=500, running_reward=171]"
     ]
    },
    {
     "name": "stderr",
     "output_type": "stream",
     "text": [
      "\r",
      "  5%|▌         | 507/10000 [00:27<1:15:27,  2.10it/s, episode_reward=500, running_reward=171]"
     ]
    },
    {
     "name": "stderr",
     "output_type": "stream",
     "text": [
      "\r",
      "  5%|▌         | 507/10000 [00:27<1:15:27,  2.10it/s, episode_reward=500, running_reward=176]"
     ]
    },
    {
     "name": "stderr",
     "output_type": "stream",
     "text": [
      "\r",
      "  5%|▌         | 508/10000 [00:27<1:15:13,  2.10it/s, episode_reward=500, running_reward=176]"
     ]
    },
    {
     "name": "stderr",
     "output_type": "stream",
     "text": [
      "\r",
      "  5%|▌         | 508/10000 [00:28<1:15:13,  2.10it/s, episode_reward=494, running_reward=181]"
     ]
    },
    {
     "name": "stderr",
     "output_type": "stream",
     "text": [
      "\r",
      "  5%|▌         | 509/10000 [00:28<1:14:51,  2.11it/s, episode_reward=494, running_reward=181]"
     ]
    },
    {
     "name": "stderr",
     "output_type": "stream",
     "text": [
      "\r",
      "  5%|▌         | 509/10000 [00:28<1:14:51,  2.11it/s, episode_reward=122, running_reward=182]"
     ]
    },
    {
     "name": "stderr",
     "output_type": "stream",
     "text": [
      "\r",
      "  5%|▌         | 510/10000 [00:28<58:09,  2.72it/s, episode_reward=122, running_reward=182]  "
     ]
    },
    {
     "name": "stderr",
     "output_type": "stream",
     "text": [
      "\r",
      "  5%|▌         | 510/10000 [00:28<58:09,  2.72it/s, episode_reward=500, running_reward=187]"
     ]
    },
    {
     "name": "stderr",
     "output_type": "stream",
     "text": [
      "\r",
      "  5%|▌         | 511/10000 [00:28<1:02:56,  2.51it/s, episode_reward=500, running_reward=187]"
     ]
    },
    {
     "name": "stderr",
     "output_type": "stream",
     "text": [
      "\r",
      "  5%|▌         | 511/10000 [00:29<1:02:56,  2.51it/s, episode_reward=500, running_reward=192]"
     ]
    },
    {
     "name": "stderr",
     "output_type": "stream",
     "text": [
      "\r",
      "  5%|▌         | 512/10000 [00:29<1:06:20,  2.38it/s, episode_reward=500, running_reward=192]"
     ]
    },
    {
     "name": "stderr",
     "output_type": "stream",
     "text": [
      "\r",
      "  5%|▌         | 512/10000 [00:29<1:06:20,  2.38it/s, episode_reward=500, running_reward=197]"
     ]
    },
    {
     "name": "stderr",
     "output_type": "stream",
     "text": [
      "\r",
      "  5%|▌         | 513/10000 [00:29<1:08:32,  2.31it/s, episode_reward=500, running_reward=197]"
     ]
    },
    {
     "name": "stderr",
     "output_type": "stream",
     "text": [
      "\r",
      "  5%|▌         | 513/10000 [00:30<1:08:32,  2.31it/s, episode_reward=500, running_reward=202]"
     ]
    },
    {
     "name": "stderr",
     "output_type": "stream",
     "text": [
      "\r",
      "  5%|▌         | 514/10000 [00:30<1:10:13,  2.25it/s, episode_reward=500, running_reward=202]"
     ]
    },
    {
     "name": "stderr",
     "output_type": "stream",
     "text": [
      "\r",
      "  5%|▌         | 514/10000 [00:30<1:10:13,  2.25it/s, episode_reward=500, running_reward=206]"
     ]
    },
    {
     "name": "stderr",
     "output_type": "stream",
     "text": [
      "\r",
      "  5%|▌         | 515/10000 [00:30<1:11:25,  2.21it/s, episode_reward=500, running_reward=206]"
     ]
    },
    {
     "name": "stderr",
     "output_type": "stream",
     "text": [
      "\r",
      "  5%|▌         | 515/10000 [00:31<1:11:25,  2.21it/s, episode_reward=473, running_reward=211]"
     ]
    },
    {
     "name": "stderr",
     "output_type": "stream",
     "text": [
      "\r",
      "  5%|▌         | 516/10000 [00:31<1:11:05,  2.22it/s, episode_reward=473, running_reward=211]"
     ]
    },
    {
     "name": "stderr",
     "output_type": "stream",
     "text": [
      "\r",
      "  5%|▌         | 516/10000 [00:31<1:11:05,  2.22it/s, episode_reward=500, running_reward=216]"
     ]
    },
    {
     "name": "stderr",
     "output_type": "stream",
     "text": [
      "\r",
      "  5%|▌         | 517/10000 [00:31<1:13:25,  2.15it/s, episode_reward=500, running_reward=216]"
     ]
    },
    {
     "name": "stderr",
     "output_type": "stream",
     "text": [
      "\r",
      "  5%|▌         | 517/10000 [00:31<1:13:25,  2.15it/s, episode_reward=500, running_reward=221]"
     ]
    },
    {
     "name": "stderr",
     "output_type": "stream",
     "text": [
      "\r",
      "  5%|▌         | 518/10000 [00:31<1:13:50,  2.14it/s, episode_reward=500, running_reward=221]"
     ]
    },
    {
     "name": "stderr",
     "output_type": "stream",
     "text": [
      "\r",
      "  5%|▌         | 518/10000 [00:32<1:13:50,  2.14it/s, episode_reward=500, running_reward=226]"
     ]
    },
    {
     "name": "stderr",
     "output_type": "stream",
     "text": [
      "\r",
      "  5%|▌         | 519/10000 [00:32<1:14:36,  2.12it/s, episode_reward=500, running_reward=226]"
     ]
    },
    {
     "name": "stderr",
     "output_type": "stream",
     "text": [
      "\r",
      "  5%|▌         | 519/10000 [00:32<1:14:36,  2.12it/s, episode_reward=500, running_reward=231]"
     ]
    },
    {
     "name": "stderr",
     "output_type": "stream",
     "text": [
      "\r",
      "  5%|▌         | 520/10000 [00:32<1:14:47,  2.11it/s, episode_reward=500, running_reward=231]"
     ]
    },
    {
     "name": "stderr",
     "output_type": "stream",
     "text": [
      "\r",
      "  5%|▌         | 520/10000 [00:33<1:14:47,  2.11it/s, episode_reward=500, running_reward=236]"
     ]
    },
    {
     "name": "stderr",
     "output_type": "stream",
     "text": [
      "\r",
      "  5%|▌         | 521/10000 [00:33<1:14:37,  2.12it/s, episode_reward=500, running_reward=236]"
     ]
    },
    {
     "name": "stderr",
     "output_type": "stream",
     "text": [
      "\r",
      "  5%|▌         | 521/10000 [00:33<1:14:37,  2.12it/s, episode_reward=500, running_reward=240]"
     ]
    },
    {
     "name": "stderr",
     "output_type": "stream",
     "text": [
      "\r",
      "  5%|▌         | 522/10000 [00:33<1:14:27,  2.12it/s, episode_reward=500, running_reward=240]"
     ]
    },
    {
     "name": "stderr",
     "output_type": "stream",
     "text": [
      "\r",
      "  5%|▌         | 522/10000 [00:34<1:14:27,  2.12it/s, episode_reward=500, running_reward=245]"
     ]
    },
    {
     "name": "stderr",
     "output_type": "stream",
     "text": [
      "\r",
      "  5%|▌         | 523/10000 [00:34<1:14:46,  2.11it/s, episode_reward=500, running_reward=245]"
     ]
    },
    {
     "name": "stderr",
     "output_type": "stream",
     "text": [
      "\r",
      "  5%|▌         | 523/10000 [00:34<1:14:46,  2.11it/s, episode_reward=500, running_reward=250]"
     ]
    },
    {
     "name": "stderr",
     "output_type": "stream",
     "text": [
      "\r",
      "  5%|▌         | 524/10000 [00:34<1:14:46,  2.11it/s, episode_reward=500, running_reward=250]"
     ]
    },
    {
     "name": "stderr",
     "output_type": "stream",
     "text": [
      "\r",
      "  5%|▌         | 524/10000 [00:35<1:14:46,  2.11it/s, episode_reward=500, running_reward=255]"
     ]
    },
    {
     "name": "stderr",
     "output_type": "stream",
     "text": [
      "\r",
      "  5%|▌         | 525/10000 [00:35<1:14:41,  2.11it/s, episode_reward=500, running_reward=255]"
     ]
    },
    {
     "name": "stderr",
     "output_type": "stream",
     "text": [
      "\r",
      "  5%|▌         | 525/10000 [00:35<1:14:41,  2.11it/s, episode_reward=500, running_reward=260]"
     ]
    },
    {
     "name": "stderr",
     "output_type": "stream",
     "text": [
      "\r",
      "  5%|▌         | 526/10000 [00:35<1:14:26,  2.12it/s, episode_reward=500, running_reward=260]"
     ]
    },
    {
     "name": "stderr",
     "output_type": "stream",
     "text": [
      "\r",
      "  5%|▌         | 526/10000 [00:36<1:14:26,  2.12it/s, episode_reward=500, running_reward=265]"
     ]
    },
    {
     "name": "stderr",
     "output_type": "stream",
     "text": [
      "\r",
      "  5%|▌         | 527/10000 [00:36<1:14:25,  2.12it/s, episode_reward=500, running_reward=265]"
     ]
    },
    {
     "name": "stderr",
     "output_type": "stream",
     "text": [
      "\r",
      "  5%|▌         | 527/10000 [00:36<1:14:25,  2.12it/s, episode_reward=96, running_reward=266] "
     ]
    },
    {
     "name": "stderr",
     "output_type": "stream",
     "text": [
      "\r",
      "  5%|▌         | 528/10000 [00:36<56:56,  2.77it/s, episode_reward=96, running_reward=266]  "
     ]
    },
    {
     "name": "stderr",
     "output_type": "stream",
     "text": [
      "\r",
      "  5%|▌         | 528/10000 [00:36<56:56,  2.77it/s, episode_reward=500, running_reward=271]"
     ]
    },
    {
     "name": "stderr",
     "output_type": "stream",
     "text": [
      "\r",
      "  5%|▌         | 529/10000 [00:36<1:02:14,  2.54it/s, episode_reward=500, running_reward=271]"
     ]
    },
    {
     "name": "stderr",
     "output_type": "stream",
     "text": [
      "\r",
      "  5%|▌         | 529/10000 [00:37<1:02:14,  2.54it/s, episode_reward=500, running_reward=275]"
     ]
    },
    {
     "name": "stderr",
     "output_type": "stream",
     "text": [
      "\r",
      "  5%|▌         | 530/10000 [00:37<1:06:25,  2.38it/s, episode_reward=500, running_reward=275]"
     ]
    },
    {
     "name": "stderr",
     "output_type": "stream",
     "text": [
      "\r",
      "  5%|▌         | 530/10000 [00:37<1:06:25,  2.38it/s, episode_reward=500, running_reward=280]"
     ]
    },
    {
     "name": "stderr",
     "output_type": "stream",
     "text": [
      "\r",
      "  5%|▌         | 531/10000 [00:37<1:10:37,  2.23it/s, episode_reward=500, running_reward=280]"
     ]
    },
    {
     "name": "stderr",
     "output_type": "stream",
     "text": [
      "\r",
      "  5%|▌         | 531/10000 [00:38<1:10:37,  2.23it/s, episode_reward=500, running_reward=285]"
     ]
    },
    {
     "name": "stderr",
     "output_type": "stream",
     "text": [
      "\r",
      "  5%|▌         | 532/10000 [00:38<1:13:35,  2.14it/s, episode_reward=500, running_reward=285]"
     ]
    },
    {
     "name": "stderr",
     "output_type": "stream",
     "text": [
      "\r",
      "  5%|▌         | 532/10000 [00:38<1:13:35,  2.14it/s, episode_reward=500, running_reward=290]"
     ]
    },
    {
     "name": "stderr",
     "output_type": "stream",
     "text": [
      "\r",
      "  5%|▌         | 533/10000 [00:38<1:16:22,  2.07it/s, episode_reward=500, running_reward=290]"
     ]
    },
    {
     "name": "stderr",
     "output_type": "stream",
     "text": [
      "\r",
      "  5%|▌         | 533/10000 [00:39<1:16:22,  2.07it/s, episode_reward=500, running_reward=295]"
     ]
    },
    {
     "name": "stderr",
     "output_type": "stream",
     "text": [
      "\r",
      "  5%|▌         | 534/10000 [00:39<1:15:52,  2.08it/s, episode_reward=500, running_reward=295]"
     ]
    },
    {
     "name": "stderr",
     "output_type": "stream",
     "text": [
      "\r",
      "  5%|▌         | 534/10000 [00:39<1:15:52,  2.08it/s, episode_reward=500, running_reward=300]"
     ]
    },
    {
     "name": "stderr",
     "output_type": "stream",
     "text": [
      "\r",
      "  5%|▌         | 535/10000 [00:39<1:15:33,  2.09it/s, episode_reward=500, running_reward=300]"
     ]
    },
    {
     "name": "stderr",
     "output_type": "stream",
     "text": [
      "\r",
      "  5%|▌         | 535/10000 [00:40<1:15:33,  2.09it/s, episode_reward=500, running_reward=304]"
     ]
    },
    {
     "name": "stderr",
     "output_type": "stream",
     "text": [
      "\r",
      "  5%|▌         | 536/10000 [00:40<1:15:09,  2.10it/s, episode_reward=500, running_reward=304]"
     ]
    },
    {
     "name": "stderr",
     "output_type": "stream",
     "text": [
      "\r",
      "  5%|▌         | 536/10000 [00:40<1:15:09,  2.10it/s, episode_reward=500, running_reward=309]"
     ]
    },
    {
     "name": "stderr",
     "output_type": "stream",
     "text": [
      "\r",
      "  5%|▌         | 537/10000 [00:40<1:14:57,  2.10it/s, episode_reward=500, running_reward=309]"
     ]
    },
    {
     "name": "stderr",
     "output_type": "stream",
     "text": [
      "\r",
      "  5%|▌         | 537/10000 [00:41<1:14:57,  2.10it/s, episode_reward=500, running_reward=314]"
     ]
    },
    {
     "name": "stderr",
     "output_type": "stream",
     "text": [
      "\r",
      "  5%|▌         | 538/10000 [00:41<1:14:46,  2.11it/s, episode_reward=500, running_reward=314]"
     ]
    },
    {
     "name": "stderr",
     "output_type": "stream",
     "text": [
      "\r",
      "  5%|▌         | 538/10000 [00:41<1:14:46,  2.11it/s, episode_reward=500, running_reward=319]"
     ]
    },
    {
     "name": "stderr",
     "output_type": "stream",
     "text": [
      "\r",
      "  5%|▌         | 539/10000 [00:41<1:14:55,  2.10it/s, episode_reward=500, running_reward=319]"
     ]
    },
    {
     "name": "stderr",
     "output_type": "stream",
     "text": [
      "\r",
      "  5%|▌         | 539/10000 [00:42<1:14:55,  2.10it/s, episode_reward=500, running_reward=323]"
     ]
    },
    {
     "name": "stderr",
     "output_type": "stream",
     "text": [
      "\r",
      "  5%|▌         | 540/10000 [00:42<1:14:47,  2.11it/s, episode_reward=500, running_reward=323]"
     ]
    },
    {
     "name": "stderr",
     "output_type": "stream",
     "text": [
      "\r",
      "  5%|▌         | 540/10000 [00:42<1:14:47,  2.11it/s, episode_reward=500, running_reward=328]"
     ]
    },
    {
     "name": "stderr",
     "output_type": "stream",
     "text": [
      "\r",
      "  5%|▌         | 541/10000 [00:42<1:14:51,  2.11it/s, episode_reward=500, running_reward=328]"
     ]
    },
    {
     "name": "stderr",
     "output_type": "stream",
     "text": [
      "\r",
      "  5%|▌         | 541/10000 [00:43<1:14:51,  2.11it/s, episode_reward=500, running_reward=333]"
     ]
    },
    {
     "name": "stderr",
     "output_type": "stream",
     "text": [
      "\r",
      "  5%|▌         | 542/10000 [00:43<1:14:54,  2.10it/s, episode_reward=500, running_reward=333]"
     ]
    },
    {
     "name": "stderr",
     "output_type": "stream",
     "text": [
      "\r",
      "  5%|▌         | 542/10000 [00:43<1:14:54,  2.10it/s, episode_reward=500, running_reward=337]"
     ]
    },
    {
     "name": "stderr",
     "output_type": "stream",
     "text": [
      "\r",
      "  5%|▌         | 543/10000 [00:43<1:17:47,  2.03it/s, episode_reward=500, running_reward=337]"
     ]
    },
    {
     "name": "stderr",
     "output_type": "stream",
     "text": [
      "\r",
      "  5%|▌         | 543/10000 [00:44<1:17:47,  2.03it/s, episode_reward=500, running_reward=342]"
     ]
    },
    {
     "name": "stderr",
     "output_type": "stream",
     "text": [
      "\r",
      "  5%|▌         | 544/10000 [00:44<1:17:46,  2.03it/s, episode_reward=500, running_reward=342]"
     ]
    },
    {
     "name": "stderr",
     "output_type": "stream",
     "text": [
      "\r",
      "  5%|▌         | 544/10000 [00:44<1:17:46,  2.03it/s, episode_reward=500, running_reward=347]"
     ]
    },
    {
     "name": "stderr",
     "output_type": "stream",
     "text": [
      "\r",
      "  5%|▌         | 545/10000 [00:44<1:16:48,  2.05it/s, episode_reward=500, running_reward=347]"
     ]
    },
    {
     "name": "stderr",
     "output_type": "stream",
     "text": [
      "\r",
      "  5%|▌         | 545/10000 [00:45<1:16:48,  2.05it/s, episode_reward=500, running_reward=352]"
     ]
    },
    {
     "name": "stderr",
     "output_type": "stream",
     "text": [
      "\r",
      "  5%|▌         | 546/10000 [00:45<1:15:54,  2.08it/s, episode_reward=500, running_reward=352]"
     ]
    },
    {
     "name": "stderr",
     "output_type": "stream",
     "text": [
      "\r",
      "  5%|▌         | 546/10000 [00:45<1:15:54,  2.08it/s, episode_reward=500, running_reward=356]"
     ]
    },
    {
     "name": "stderr",
     "output_type": "stream",
     "text": [
      "\r",
      "  5%|▌         | 547/10000 [00:45<1:15:38,  2.08it/s, episode_reward=500, running_reward=356]"
     ]
    },
    {
     "name": "stderr",
     "output_type": "stream",
     "text": [
      "\r",
      "  5%|▌         | 547/10000 [00:46<1:15:38,  2.08it/s, episode_reward=500, running_reward=361]"
     ]
    },
    {
     "name": "stderr",
     "output_type": "stream",
     "text": [
      "\r",
      "  5%|▌         | 548/10000 [00:46<1:15:03,  2.10it/s, episode_reward=500, running_reward=361]"
     ]
    },
    {
     "name": "stderr",
     "output_type": "stream",
     "text": [
      "\r",
      "  5%|▌         | 548/10000 [00:46<1:15:03,  2.10it/s, episode_reward=500, running_reward=365]"
     ]
    },
    {
     "name": "stderr",
     "output_type": "stream",
     "text": [
      "\r",
      "  5%|▌         | 549/10000 [00:46<1:14:42,  2.11it/s, episode_reward=500, running_reward=365]"
     ]
    },
    {
     "name": "stderr",
     "output_type": "stream",
     "text": [
      "\r",
      "  5%|▌         | 549/10000 [00:46<1:14:42,  2.11it/s, episode_reward=500, running_reward=370]"
     ]
    },
    {
     "name": "stderr",
     "output_type": "stream",
     "text": [
      "\r",
      "  6%|▌         | 550/10000 [00:46<1:14:41,  2.11it/s, episode_reward=500, running_reward=370]"
     ]
    },
    {
     "name": "stderr",
     "output_type": "stream",
     "text": [
      "\r",
      "  6%|▌         | 550/10000 [00:47<1:14:41,  2.11it/s, episode_reward=500, running_reward=374]"
     ]
    },
    {
     "name": "stderr",
     "output_type": "stream",
     "text": [
      "\r",
      "  6%|▌         | 551/10000 [00:47<1:14:37,  2.11it/s, episode_reward=500, running_reward=374]"
     ]
    },
    {
     "name": "stderr",
     "output_type": "stream",
     "text": [
      "\r",
      "  6%|▌         | 551/10000 [00:47<1:14:37,  2.11it/s, episode_reward=500, running_reward=377]"
     ]
    },
    {
     "name": "stderr",
     "output_type": "stream",
     "text": [
      "\r",
      "  6%|▌         | 552/10000 [00:47<1:14:36,  2.11it/s, episode_reward=500, running_reward=377]"
     ]
    },
    {
     "name": "stderr",
     "output_type": "stream",
     "text": [
      "\r",
      "  6%|▌         | 552/10000 [00:48<1:14:36,  2.11it/s, episode_reward=500, running_reward=381]"
     ]
    },
    {
     "name": "stderr",
     "output_type": "stream",
     "text": [
      "\r",
      "  6%|▌         | 553/10000 [00:48<1:15:01,  2.10it/s, episode_reward=500, running_reward=381]"
     ]
    },
    {
     "name": "stderr",
     "output_type": "stream",
     "text": [
      "\r",
      "  6%|▌         | 553/10000 [00:48<1:15:01,  2.10it/s, episode_reward=500, running_reward=384]"
     ]
    },
    {
     "name": "stderr",
     "output_type": "stream",
     "text": [
      "\r",
      "  6%|▌         | 554/10000 [00:48<1:14:33,  2.11it/s, episode_reward=500, running_reward=384]"
     ]
    },
    {
     "name": "stderr",
     "output_type": "stream",
     "text": [
      "\r",
      "  6%|▌         | 554/10000 [00:49<1:14:33,  2.11it/s, episode_reward=500, running_reward=387]"
     ]
    },
    {
     "name": "stderr",
     "output_type": "stream",
     "text": [
      "\r",
      "  6%|▌         | 555/10000 [00:49<1:14:47,  2.10it/s, episode_reward=500, running_reward=387]"
     ]
    },
    {
     "name": "stderr",
     "output_type": "stream",
     "text": [
      "\r",
      "  6%|▌         | 555/10000 [00:49<1:14:47,  2.10it/s, episode_reward=500, running_reward=392]"
     ]
    },
    {
     "name": "stderr",
     "output_type": "stream",
     "text": [
      "\r",
      "  6%|▌         | 556/10000 [00:49<1:14:27,  2.11it/s, episode_reward=500, running_reward=392]"
     ]
    },
    {
     "name": "stderr",
     "output_type": "stream",
     "text": [
      "\r",
      "  6%|▌         | 556/10000 [00:50<1:14:27,  2.11it/s, episode_reward=500, running_reward=394]"
     ]
    },
    {
     "name": "stderr",
     "output_type": "stream",
     "text": [
      "\r",
      "  6%|▌         | 557/10000 [00:50<1:14:02,  2.13it/s, episode_reward=500, running_reward=394]"
     ]
    },
    {
     "name": "stderr",
     "output_type": "stream",
     "text": [
      "\r",
      "  6%|▌         | 557/10000 [00:50<1:14:02,  2.13it/s, episode_reward=500, running_reward=397]"
     ]
    },
    {
     "name": "stderr",
     "output_type": "stream",
     "text": [
      "\r",
      "  6%|▌         | 558/10000 [00:50<1:13:46,  2.13it/s, episode_reward=500, running_reward=397]"
     ]
    },
    {
     "name": "stderr",
     "output_type": "stream",
     "text": [
      "\r",
      "  6%|▌         | 558/10000 [00:51<1:13:46,  2.13it/s, episode_reward=500, running_reward=400]"
     ]
    },
    {
     "name": "stderr",
     "output_type": "stream",
     "text": [
      "\r",
      "  6%|▌         | 559/10000 [00:51<1:13:48,  2.13it/s, episode_reward=500, running_reward=400]"
     ]
    },
    {
     "name": "stderr",
     "output_type": "stream",
     "text": [
      "\r",
      "  6%|▌         | 559/10000 [00:51<1:13:48,  2.13it/s, episode_reward=500, running_reward=401]"
     ]
    },
    {
     "name": "stderr",
     "output_type": "stream",
     "text": [
      "\r",
      "  6%|▌         | 560/10000 [00:51<1:13:48,  2.13it/s, episode_reward=500, running_reward=401]"
     ]
    },
    {
     "name": "stderr",
     "output_type": "stream",
     "text": [
      "\r",
      "  6%|▌         | 560/10000 [00:52<1:13:48,  2.13it/s, episode_reward=500, running_reward=401]"
     ]
    },
    {
     "name": "stderr",
     "output_type": "stream",
     "text": [
      "\r",
      "  6%|▌         | 561/10000 [00:52<1:13:56,  2.13it/s, episode_reward=500, running_reward=401]"
     ]
    },
    {
     "name": "stderr",
     "output_type": "stream",
     "text": [
      "\r",
      "  6%|▌         | 561/10000 [00:52<1:13:56,  2.13it/s, episode_reward=500, running_reward=401]"
     ]
    },
    {
     "name": "stderr",
     "output_type": "stream",
     "text": [
      "\r",
      "  6%|▌         | 562/10000 [00:52<1:13:42,  2.13it/s, episode_reward=500, running_reward=401]"
     ]
    },
    {
     "name": "stderr",
     "output_type": "stream",
     "text": [
      "\r",
      "  6%|▌         | 562/10000 [00:53<1:13:42,  2.13it/s, episode_reward=500, running_reward=404]"
     ]
    },
    {
     "name": "stderr",
     "output_type": "stream",
     "text": [
      "\r",
      "  6%|▌         | 563/10000 [00:53<1:13:42,  2.13it/s, episode_reward=500, running_reward=404]"
     ]
    },
    {
     "name": "stderr",
     "output_type": "stream",
     "text": [
      "\r",
      "  6%|▌         | 563/10000 [00:53<1:13:42,  2.13it/s, episode_reward=500, running_reward=408]"
     ]
    },
    {
     "name": "stderr",
     "output_type": "stream",
     "text": [
      "\r",
      "  6%|▌         | 564/10000 [00:53<1:14:19,  2.12it/s, episode_reward=500, running_reward=408]"
     ]
    },
    {
     "name": "stderr",
     "output_type": "stream",
     "text": [
      "\r",
      "  6%|▌         | 564/10000 [00:54<1:14:19,  2.12it/s, episode_reward=500, running_reward=412]"
     ]
    },
    {
     "name": "stderr",
     "output_type": "stream",
     "text": [
      "\r",
      "  6%|▌         | 565/10000 [00:54<1:14:32,  2.11it/s, episode_reward=500, running_reward=412]"
     ]
    },
    {
     "name": "stderr",
     "output_type": "stream",
     "text": [
      "\r",
      "  6%|▌         | 565/10000 [00:54<1:14:32,  2.11it/s, episode_reward=500, running_reward=416]"
     ]
    },
    {
     "name": "stderr",
     "output_type": "stream",
     "text": [
      "\r",
      "  6%|▌         | 566/10000 [00:54<1:14:19,  2.12it/s, episode_reward=500, running_reward=416]"
     ]
    },
    {
     "name": "stderr",
     "output_type": "stream",
     "text": [
      "\r",
      "  6%|▌         | 566/10000 [00:54<1:14:19,  2.12it/s, episode_reward=500, running_reward=421]"
     ]
    },
    {
     "name": "stderr",
     "output_type": "stream",
     "text": [
      "\r",
      "  6%|▌         | 567/10000 [00:54<1:14:15,  2.12it/s, episode_reward=500, running_reward=421]"
     ]
    },
    {
     "name": "stderr",
     "output_type": "stream",
     "text": [
      "\r",
      "  6%|▌         | 567/10000 [00:55<1:14:15,  2.12it/s, episode_reward=500, running_reward=425]"
     ]
    },
    {
     "name": "stderr",
     "output_type": "stream",
     "text": [
      "\r",
      "  6%|▌         | 568/10000 [00:55<1:14:14,  2.12it/s, episode_reward=500, running_reward=425]"
     ]
    },
    {
     "name": "stderr",
     "output_type": "stream",
     "text": [
      "\r",
      "  6%|▌         | 568/10000 [00:55<1:14:14,  2.12it/s, episode_reward=500, running_reward=430]"
     ]
    },
    {
     "name": "stderr",
     "output_type": "stream",
     "text": [
      "\r",
      "  6%|▌         | 569/10000 [00:55<1:14:24,  2.11it/s, episode_reward=500, running_reward=430]"
     ]
    },
    {
     "name": "stderr",
     "output_type": "stream",
     "text": [
      "\r",
      "  6%|▌         | 569/10000 [00:56<1:14:24,  2.11it/s, episode_reward=500, running_reward=434]"
     ]
    },
    {
     "name": "stderr",
     "output_type": "stream",
     "text": [
      "\r",
      "  6%|▌         | 570/10000 [00:56<1:14:10,  2.12it/s, episode_reward=500, running_reward=434]"
     ]
    },
    {
     "name": "stderr",
     "output_type": "stream",
     "text": [
      "\r",
      "  6%|▌         | 570/10000 [00:56<1:14:10,  2.12it/s, episode_reward=500, running_reward=439]"
     ]
    },
    {
     "name": "stderr",
     "output_type": "stream",
     "text": [
      "\r",
      "  6%|▌         | 571/10000 [00:56<1:14:01,  2.12it/s, episode_reward=500, running_reward=439]"
     ]
    },
    {
     "name": "stderr",
     "output_type": "stream",
     "text": [
      "\r",
      "  6%|▌         | 571/10000 [00:57<1:14:01,  2.12it/s, episode_reward=500, running_reward=443]"
     ]
    },
    {
     "name": "stderr",
     "output_type": "stream",
     "text": [
      "\r",
      "  6%|▌         | 572/10000 [00:57<1:14:03,  2.12it/s, episode_reward=500, running_reward=443]"
     ]
    },
    {
     "name": "stderr",
     "output_type": "stream",
     "text": [
      "\r",
      "  6%|▌         | 572/10000 [00:57<1:14:03,  2.12it/s, episode_reward=500, running_reward=448]"
     ]
    },
    {
     "name": "stderr",
     "output_type": "stream",
     "text": [
      "\r",
      "  6%|▌         | 573/10000 [00:57<1:14:05,  2.12it/s, episode_reward=500, running_reward=448]"
     ]
    },
    {
     "name": "stderr",
     "output_type": "stream",
     "text": [
      "\r",
      "  6%|▌         | 573/10000 [00:58<1:14:05,  2.12it/s, episode_reward=500, running_reward=453]"
     ]
    },
    {
     "name": "stderr",
     "output_type": "stream",
     "text": [
      "\r",
      "  6%|▌         | 574/10000 [00:58<1:14:06,  2.12it/s, episode_reward=500, running_reward=453]"
     ]
    },
    {
     "name": "stderr",
     "output_type": "stream",
     "text": [
      "\r",
      "  6%|▌         | 574/10000 [00:58<1:14:06,  2.12it/s, episode_reward=500, running_reward=458]"
     ]
    },
    {
     "name": "stderr",
     "output_type": "stream",
     "text": [
      "\r",
      "  6%|▌         | 575/10000 [00:58<1:14:02,  2.12it/s, episode_reward=500, running_reward=458]"
     ]
    },
    {
     "name": "stderr",
     "output_type": "stream",
     "text": [
      "\r",
      "  6%|▌         | 575/10000 [00:59<1:14:02,  2.12it/s, episode_reward=500, running_reward=463]"
     ]
    },
    {
     "name": "stderr",
     "output_type": "stream",
     "text": [
      "\r",
      "  6%|▌         | 576/10000 [00:59<1:14:14,  2.12it/s, episode_reward=500, running_reward=463]"
     ]
    },
    {
     "name": "stderr",
     "output_type": "stream",
     "text": [
      "\r",
      "  6%|▌         | 576/10000 [00:59<1:14:14,  2.12it/s, episode_reward=500, running_reward=468]"
     ]
    },
    {
     "name": "stderr",
     "output_type": "stream",
     "text": [
      "\r",
      "  6%|▌         | 577/10000 [00:59<1:14:41,  2.10it/s, episode_reward=500, running_reward=468]"
     ]
    },
    {
     "name": "stderr",
     "output_type": "stream",
     "text": [
      "\r",
      "  6%|▌         | 577/10000 [01:00<1:14:41,  2.10it/s, episode_reward=500, running_reward=473]"
     ]
    },
    {
     "name": "stderr",
     "output_type": "stream",
     "text": [
      "\r",
      "  6%|▌         | 578/10000 [01:00<1:14:44,  2.10it/s, episode_reward=500, running_reward=473]"
     ]
    },
    {
     "name": "stderr",
     "output_type": "stream",
     "text": [
      "\r",
      "  6%|▌         | 578/10000 [01:00<1:14:44,  2.10it/s, episode_reward=500, running_reward=478]"
     ]
    },
    {
     "name": "stderr",
     "output_type": "stream",
     "text": [
      "\r",
      "  6%|▌         | 578/10000 [01:00<16:29,  9.52it/s, episode_reward=500, running_reward=478]  "
     ]
    },
    {
     "name": "stdout",
     "output_type": "stream",
     "text": [
      "\n",
      "Solved at episode 578: average reward: 477.60!\n",
      "CPU times: user 2min 4s, sys: 18.7 s, total: 2min 23s\n",
      "Wall time: 1min\n"
     ]
    },
    {
     "name": "stderr",
     "output_type": "stream",
     "text": [
      "\n"
     ]
    }
   ],
   "source": [
    "%%time\n",
    "\n",
    "min_episodes_criterion = 100\n",
    "max_episodes = 10000\n",
    "max_steps_per_episode = 500\n",
    "\n",
    "# `CartPole-v1` is considered solved if average reward is >= 475 over 500\n",
    "# consecutive trials\n",
    "reward_threshold = 475\n",
    "running_reward = 0\n",
    "\n",
    "# The discount factor for future rewards\n",
    "gamma = 0.99\n",
    "\n",
    "# Keep the last episodes reward\n",
    "episodes_reward: collections.deque = collections.deque(maxlen=min_episodes_criterion)\n",
    "\n",
    "t = tqdm.trange(max_episodes)\n",
    "for i in t:\n",
    "    initial_state, info = env.reset()\n",
    "    initial_state = tf.constant(initial_state, dtype=tf.float32)\n",
    "    episode_reward = int(train_step(\n",
    "        initial_state, model, optimizer, gamma, max_steps_per_episode))\n",
    "\n",
    "    episodes_reward.append(episode_reward)\n",
    "    running_reward = statistics.mean(episodes_reward)\n",
    "\n",
    "\n",
    "    t.set_postfix(\n",
    "        episode_reward=episode_reward, running_reward=running_reward)\n",
    "\n",
    "    # Show the average episode reward every 10 episodes\n",
    "    if i % 10 == 0:\n",
    "      pass # print(f'Episode {i}: average reward: {avg_reward}')\n",
    "\n",
    "    if running_reward > reward_threshold and i >= min_episodes_criterion:\n",
    "        break\n",
    "\n",
    "print(f'\\nSolved at episode {i}: average reward: {running_reward:.2f}!')"
   ]
  },
  {
   "cell_type": "markdown",
   "metadata": {
    "id": "ru8BEwS1EmAv"
   },
   "source": [
    "## Visualization\n",
    "\n",
    "After training, it would be good to visualize how the model performs in the environment. You can run the cells below to generate a GIF animation of one episode run of the model. Note that additional packages need to be installed for Gym to render the environment's images correctly in Colab."
   ]
  },
  {
   "cell_type": "code",
   "execution_count": 13,
   "metadata": {
    "execution": {
     "iopub.execute_input": "2024-08-16T02:26:44.060829Z",
     "iopub.status.busy": "2024-08-16T02:26:44.060575Z",
     "iopub.status.idle": "2024-08-16T02:26:47.181623Z",
     "shell.execute_reply": "2024-08-16T02:26:47.180821Z"
    },
    "id": "qbIMMkfmRHyC"
   },
   "outputs": [],
   "source": [
    "# Render an episode and save as a GIF file\n",
    "\n",
    "from IPython import display as ipythondisplay\n",
    "from PIL import Image\n",
    "\n",
    "render_env = gym.make(\"CartPole-v1\", render_mode='rgb_array')\n",
    "\n",
    "def render_episode(env: gym.Env, model: tf.keras.Model, max_steps: int):\n",
    "  state, info = env.reset()\n",
    "  state = tf.constant(state, dtype=tf.float32)\n",
    "  screen = env.render()\n",
    "  images = [Image.fromarray(screen)]\n",
    "\n",
    "  for i in range(1, max_steps + 1):\n",
    "    state = tf.expand_dims(state, 0)\n",
    "    action_probs, _ = model(state)\n",
    "    action = np.argmax(np.squeeze(action_probs))\n",
    "\n",
    "    state, reward, done, truncated, info = env.step(action)\n",
    "    state = tf.constant(state, dtype=tf.float32)\n",
    "\n",
    "    # Render screen every 10 steps\n",
    "    if i % 10 == 0:\n",
    "      screen = env.render()\n",
    "      images.append(Image.fromarray(screen))\n",
    "\n",
    "    if done:\n",
    "      break\n",
    "\n",
    "  return images\n",
    "\n",
    "\n",
    "# Save GIF image\n",
    "images = render_episode(render_env, model, max_steps_per_episode)\n",
    "image_file = 'cartpole-v1.gif'\n",
    "# loop=0: loop forever, duration=1: play each frame for 1ms\n",
    "images[0].save(\n",
    "    image_file, save_all=True, append_images=images[1:], loop=0, duration=1)"
   ]
  },
  {
   "cell_type": "code",
   "execution_count": 14,
   "metadata": {
    "execution": {
     "iopub.execute_input": "2024-08-16T02:26:47.185484Z",
     "iopub.status.busy": "2024-08-16T02:26:47.185183Z",
     "iopub.status.idle": "2024-08-16T02:26:47.197699Z",
     "shell.execute_reply": "2024-08-16T02:26:47.197111Z"
    },
    "id": "TLd720SejKmf"
   },
   "outputs": [
    {
     "data": {
      "text/html": [
       "<img src=\"data:image/gif;base64,R0lGODlhWAKQAYYAAP////7+/v79/f38+/38+v37+fz6+Pz59/v49fv49Pv38/r28vr18fn07/n07vjz7fjy6/jx6/fw6ffw6Pfv6Pbu5vbu5fXt5PXs4/Xr4vTq4PTq3/Pp3vPo3fLn3PLm2vLm2fHl2PHk1/Dj1vDi1PDi0+/h0u/g0e/g0O7f0O7ezu7eze3dze3dzO3cy+zbyuzbyezayOvZx+vYxerXxOrXw+rWwunVwenUv+jTvujTvejSvOfRu+fQuebPuObPt+XOtuXNteXMs+TMs8qYZZ6MoYiGwIGEyykeFCUcEiIaER4XDxsUDRgSDBUQChINCQ4LBwsIBQgGBAUEAgIBAQAAAAAAAAAAAAAAAAAAAAAAAAAAAAAAAAAAAAAAAAAAAAAAAAAAAAAAAAAAAAAAAAAAAAAAAAAAAAAAAAAAAAAAAAAAAAAAAAAAAAAAAAAAAAAAAAAAAAAAAAAAAAAAAAAAAAAAAAAAAAAAAAAAAAAAAAAAAAAAAAAAAAAAAAAAACH/C05FVFNDQVBFMi4wAwEAAAAsAAAAAFgCkAEACP8AAQgcSLCgwYMIEypcyLChw4cQI0qcSLGixYsYM2rcyLGjx48gQ4ocSbKkyZMoU6pcybKly5cwY8qcSbOmzZs4c+rcybOnz59AgwodSrSo0aNIkypdyrSp06dQo0qdSrWq1atYs2rdyrWr169gw4odS7as2bNo06pdy7at27dw48qdS7eu3bt48+rdy7ev37+AAwseTLiw4cOIEytezLix48eQI0ueTLmy5cuYM2vezLmz58+gQ4seTbq06dOoU6tezbq169ewY8ueTbu27du4c+vezbu379/AgwsfTry48ePIkytfzry58+fQo0ufTr269evYs2vfzr279+/gw4v/H0++vPnz6NOrX8++vfv38OPLn0+/vv37+PPr38+/v///AAYo4IAEFmjggQgmqOCCDDbo4IMQRijhhBRWaOGFGGao4YYcdujhhyCGKOKIJJZo4okopqjiiiy26OKLMMYo44w01mjjjTjmqOOOPPbo449ABinkkEQWaeSRSCap5JJMNunkk1BGKeWUVFZp5ZVYZqnlllx26eWXYIYp5phklmnmmWimqeaabLbp5ptwxinnnHTWaeedeOap55589unnn4AGKuighBZq6KGIJqrooow26uijkEYq6aSUVmrppZhmqummnHbq6aeghirqqKSWauqpqKaq6qqsturqq7DG/yrrrLTWauutuOaq66689urrr8AGK+ywxBZr7HREJKvsskQcaxiz0ArgLGHQMkvAtINVu6wB2AqmrbIIdBvYt8kqIC5g5BLBwLl/pesAu36lCwG8faUrAb18pVsBvnulewG/eqWbAcB5pbsBwXil2wHCd6X7AcN2pRsCxHWlOwLFdKVbAsZzpYsCx3KlqwLIcaXrAslwpQsDym+lKwPLbqVLA8xtpWsDzWyliwPOa6WrA89qpcsD0Gml6wPRaKUbBNJnpTsE02YFkS7UZf0wNdVj9XA11mHtsDXXX+XwNdhd3TA22VvVcDbaWc2wNttXxfA23FW5MDfdU61wN95Rpf+wN99PmfA34E2RMDjhS4lwOOJJgbA440d58DjkRXEwOeVDaXA55kFhsDnnP1XwOeg9TTA66TtFcDrqOT2wOus3NfA67DUtMDvtMyVwO+4xHbA77y8V8DvwLQ0wPPEsHY+8SukGsLxR6Q7wfFHpFjA9UekecP1Q6SawvVDpLvB9UOk2MD5Q6T5w/k/pRrC+T+lS8H5P6VowP0/pYnD/TulqsL9O6eLA/3KSLg8MECfpAsEBb5IuESzQJukiwQNrki4TTJAm6UrBBWeSLhZsUCbpesEHY5KuGIwQJumawQlfkq4arNAl6brBC1uSrhzMMHnk2sENV5KuHuyQeeT6wQ//U6K0IaJECMozIkKAkEQlGsQHTXQiQXgQRSkKRAdVtCIOsihFG3DRiTT4ohJlIEYjwqCMQ2wBGn+ogjXu8ARuvGEJ4jjDEdDxhSG44wo/oMcTdqCP16uCIAdJyEISEgnpMqQiFWnERTpSkElI5CMd2chJKlIJkrSkISupSUIuQVlFMMIRjFAEZXVyk0M8JSGZkKwjuPKVR0iWKgnJSVU2gQiwzCURZjnIWp7SCbkMJi8F6ctOPiGYuRxmFYqpSSggE5bKZKYlo/DMV0YzlbyUQjVdec0fDnMKuHzmLocpzUlSoZXBlCU5sclLUIqSlKZcpzeVSU9KOqie+MynPvfJuM9++vOfAA2oQAdK0IIa9KAITegkLaTQR5azoQ9VaEQTOlGEVvSgFzVoRgu6UYJ2dKAfFWhIAzpSgJb0nyf1pxVXytKWuvSlMI2pTGdK05ra9KY4zalOd8rTnvr0p0ANqlCHStSiGvWoSE2qUpfK1KY69alQjapUp0rVqlr1qljNqla3ytWuevWrYA2rWMdK1rKa9axoTata18rWtrr1rXCNq1znSte62vWueM2rXvfK17769a86CQgAIfkEAQAAIAAsJQGsABAAfQCE/////fv5+/fz+PPt9u/n9u7m9Org8uba8OLU7t7O7NrI6tbC6NK85c625c21yphlnoyhiIbAgYTLX0cvV0ErTzsnRzYjPy8fNykbLyMXJx0THhcPFhELDgsHBwUDAAAACP8AHwgEQbAgQQAICQp8YNBgAIQAQCxsWFAARIkDKYIYcHGixgIdM1I0EJKhxgMlNYJAkFJjgpYUFcBsuGCmQQY2Czq42EAkxYsMfDa8uECowYsKjBa8mEDpwYQInIK4eEDqRQNWExLIGnEAVxACvgb4ilHl1IRlVT6MmFajRbZSOcI1+RGtVJJzzaKcS7chS74qXwLWKHMwxZqGG+JMbHAn2559h7INGvko26KVl7JNmvkpwaadzxKMGhpt1dJssaImuHX1xqwEw7oe67rtT7a2Gz4sKNUi79Acf5sFKVwlyeIncUtliZziy+YNZUI3WHN6QZzWCTbA3dOsaBBBvaO/LSp+c+jvTcuPPm+afWr3rOG/Vg9W/lj6EvGf363Qu+/+ZgUHoErEDajRcQZShBJv3jGXYEPPPWiQdBIWVF2FBGGHIQjbFdSAd1NdByJuC4xYkAImfpbiSitWJV5BWL0Yn4zzmYVbWDTeZ6NB7PHoXQA+miVAkCoNQKRGBBw5kpINHcCkQQg8WVACUhKEIoNmlYilSgxUCcIEBoEJYkEUjFlQBWYSZEGaIFzAJgZsZsCmBmxuwCYHbHbApgcgBgQAIfkEAQAAUQAsEwGsADYAjwCG/////v7+/v39/fz7/fz6/fv5/Pr4/Pn3+/j1+/j0+/fz+vby+vXx+fTv+fTu+PPt+PLs+PHr9/Dp9/Do9u/n9u7l9e3k9ezj9evi9Org9Orf8+ne8+jd8ufc8uba8ubZ8eXY8eTX8OPW8OLU8OLT7+HS7+DR7t/Q7t7O7t7N7dzL7NvK7NvJ7NrI69nH69jF6tfE6tfD6tbC6dXB6dS/6NO+6NO96NK859G759C55s+45s+35c625c215cyzyphlnoyhiIbAgYTLYkoxWUMsV0ErTjonTDkmQzIhQDAgNykbNSgaLCEWIRgQFRAKCgcFAAAAAAAAAAAAAAAAAAAAAAAAAAAAAAAAAAAAAAAAAAAAAAAAAAAAAAAAAAAAAAAAAAAAAAAAAAAAAAAAAAAAAAAAAAAAAAAAAAAAAAAAAAAAAAAAAAAAAAAAAAAAAAAAAAAAAAAAAAAAAAAAAAAAAAAAAAAAAAAAAAAAAAAAAAAAAAAAAAAAAAAAAAAAAAAACP8AowgcSHDgj4MHC0YBwJChwocQI0JEmLDggYYOJWrcaJCiQgcYAXAcKZHiD4UVQpJcqdCkQg4qWcqM4rLgiJgzV9YkqAJnzpE7B8bw+XNjUIE4iBaV6MOjQqVLId5wWhBqVIUwqBK0epVgCq0DuXYVKOLoQoxjJW4wK3YsBbZo00JsALehXIgG6ma82xJslABx+RY0iyCw4I4IFT4wfJimXwuMD5vtEFmwWRKV+ZpdkfmuWRmd5ZrN0bZrD79n7TYWaAN16asvXIcei0K26tUhbO9trEG3yNVRJvgGHoXBcOAFjgNHLWD2WNQJnHc1C0H6VbMXrEc160H7UrMlvBf/NctC/E+zM8znNKtD/UweuolHqRGfuIv6wE/gXw1if+MM/h0mgXKNLUDgYQQcKFliCg3gnkyoKfAgS6hFMKFODBaEwYUkofYBh0BlSJAJIHKEWgslGiXiQDSkqBFqO7go0Q4BCkZDjXy1gONdJuwo1wc+poVBkGNFQGRXChx51QBKXreiQATcttyTUSwg5WqoSXBlY6hlsOWCFRUEgowRoXYCmRNR6QKaD6FWA5t9hUkQD3AWpAOVqf0G3Ax41kkQC31+yVcJge7WmAeF6rnaBYnKB0GjxCXQ5FICTPodlQUIqhmVDGjqGZUTeCoalRqImhZqIZj6HJUoqDodlS+4/+qknAPZIOt2VPZw61I5FCpfFDL4Kt8KkAJHQrGrdYBsYxYse9gDzgqGQLR8BUDtpic9ZMCu49E6UAPcnuetQBSEu964UWxgLhTsYpitQkuwCwVLDcnr7rsEJWHvSvW22yGVR+xLUr/z/nsQEEEIEQQQBxUh8EgEuyvExAT9MMTDHEVMEhE/TCxESxhvpPFIRngMUcgajcwREiY/hLJEKm+kRMsKvRxRzBoxQXNBNkOEs0RN7ExQzw/9HJETHVM8GNFPMcQ0QU8ctPNBT2/ltL8GI6www1RjDfHVBf9atKFiR1R1Y0aLnfava8vXNnFvAxf3anOjDXbZYwNw9mF18xF9N95V/Q14WIIPntregjUUEAAh+QQBAABWACwNAawAOQCPAIb////+/v7+/v3+/f39/Pv9/Pr9+/n8+vj8+ff7+PX7+PT79/P69vL69fH59O/59O748+348uz48ev38On38Oj37+j27+f27ub17eT17OP16+L06uD06t/z6d7z6N3y59zy5try5tnx5djx5Nfw49bw4tTw4tPv4dLv4NHu39Du3s7u3s3t3c3t3czt3Mvs28rs28ns2sjr2cfr2MXq18Tq18Pq1sLp1cHp1L/o077o073o0rzn0bvn0Lnmz7jmz7flzrblzbXlzLPkzLPKmGWejKGIhsCBhMthSTBZQyxUPypMOSZHNiM/Lx86Kx0yJhktIhYlHBIhGBAYEgwLCAUAAAAAAAAAAAAAAAAAAAAAAAAAAAAAAAAAAAAAAAAAAAAAAAAAAAAAAAAAAAAAAAAAAAAAAAAAAAAAAAAAAAAAAAAAAAAAAAAAAAAAAAAAAAAAAAAAAAAAAAAAAAAAAAAAAAAAAAAAAAAAAAAAAAAAAAAAAAAAAAAAAAAAAAAAAAAI/wCtCBxIUCCRgwiJEATAsCGAghAjSpxIMCFCggkcNqTIsWNBiwcJRtDI0KNJjiAVDtRA8uHJlxBTEhTREqbNgTIHqqh502ZOgTR49nz50woPoUNNBgFZEGnSjjmKOn1KMYZUklRNnriqMavHD1wdeu14IezGsRQdmC2JdqKBtS7bSixKAKvcuUwHMrB7N2ZegRWm9i3aQfDdoiUMyy36QnHbojccoy36Q/JYH38FWvZqI7OVzVlbeAZNlQTcvhA5nEZNcMJq1gIXvIYtYDbsogf4wrZS9IHu25kx/GZdFMRw1EVRkH5aVMbypEV1PB9adMj0njtGH787Q3vX3VZSeP8XCz7E+LO7M5xnuxuCbdQI3iPPHGD74cwK7C/OLEH/48wb+DdZZiMIOFZRLBjoVVE1KJhVUT1cdxMQ68UFGw4VgmcFDBmCZ0KHu3kAImwWjMhaAyaiVkCK81lEUAEOUlVUAzEyl9kFNUKXmQc5UpeZCT32VBQMQd5UFA5F+pQZEEnC1MN6GlpRA4t3rUClXCNc2dYGWqIlQZdjKQDmgS4u1CRRZQ6EwJkneQYBmyYVlQGcHhUVAp0dFZUCnihlNgOfFBW1A6ATCQGlhjocCp4Miu6GQqOwgTBmVhhMStUDlj51QKY2JlTQAITi5SlBC4QakWcTmOrXqANxoOpHaQr/RMKrFWXmAq04ZWYDrgZl5gOvVvwAKWs3DIvaC8b2VUKyd3XArFwUPNsWA5wORUC1PrIqkAHAeuZAkFWEK26dsVohhbjjekQSuuGSq60VULBbhUnrsuvuRQQ5IS+9Gu2bJ0JFGHGEEUXwxoS/HdWLrrtHNOwwb0ogzJHC6fbp8MMCISExRRS321ESFzdc0MYTdTxvR0uEfMTI9qrbb8scNaEyywu77BDJET0xM0E4R2SyR1HsPFDPEP3c0RRECE0E0U29XDNHVBw080FMm3kzzH0SEfDABVONNcdOVxzlQMDaVDVrRo9Ndtgeq60Z2ye7/Rnccr999dNup5033XXrFK2232MDHqXgGhIOnuG7IQ4bSQEBACH5BAEAAFMALAEBrAA/AI8Ahv////7+/v79/f38+/38+v37+fz6+Pz59/v49fv49Pv38/r28vr18fn07/n07vjz7fjy7Pjx6/fw6ffw6Pbu5vbu5fXt5PXs4/Xr4vTq4PTq3/Pp3vPo3fLn3PLm2vLm2fHl2PHk1/Dj1vDi1PDi0+/h0u/g0e7f0O7ezu7eze3dzO3cy+zbyuzbyezayOvZx+vYxerXxOrXw+rWwunVwenUv+jTvujTvejSvOfRu+fQuebPuObPt+XOtuXNteXMs+TMs8qYZZ6MoYiGwIGEy1I+KUw5JkY0Iz8vHzgqHDImGSwhFiUcEh4XDxgSDBINCQsIBQUEAgAAAAAAAAAAAAAAAAAAAAAAAAAAAAAAAAAAAAAAAAAAAAAAAAAAAAAAAAAAAAAAAAAAAAAAAAAAAAAAAAAAAAAAAAAAAAAAAAAAAAAAAAAAAAAAAAAAAAAAAAAAAAAAAAAAAAAAAAAAAAAAAAAAAAAAAAAAAAAAAAAAAAAAAAAAAAAAAAAAAAAAAAj/AKcIHEiw4JQgCBMiHAigocOGBiNKnEiRoEKFAwk8fFixo8eIFxMORLDR4ceTH0MuFMigJESUMCeqDDIQgksAMXManDmQwk2dQAXyFIjhZ1CdQ6dwMHo05kyaU0AwbYryqUASU6mmHIoiq9aOVqe08PqVYtgYZMtKDFsjrdqdQ3O4fWtxaI+5dAX6SHoTZ96JOvjipWtDsMu/E2UYLolYoovFGxtHTAGZo+SCJSqbvEwwhOaXnAV2CNs39MAMpAe/pZD6sOkpEVozft1AduTXCWxbNl1A9+bXvkGbDjugNPChB4wPH7pAeeiwD5xzDjtB+uWwF6xLDrtBe+OwH7wj/35Kc4T4v+SnnDifNz0L9nTTw4D/Nj0N+mrT48BfNj0P/l/9EJxwl+0woF+h3XDgazMsaNoLDoamQoScmUDhZSJcKJkH6fWFIGcadAggVRaIqFpZEpjoWmgOqDhbaAq4eFtoBsi4G2cC2Pjbc1YJ4OFxPBnw43I8KTAkjzw5cOR0Vkmw5HVWWfDkdlZpMOV3Vnlw5XjkibAleuSZ8GV75K0wZnzkvXBmfeTNsGZ+5N3wZn/k7TDnV+QFAcSdWvGg446S4fAngY3RMOiHksFwqGksLBraCY5yNkKkl32Qp4eINrbBpXw2dQGnIx41AagnavUAqStetgCqL152AKszXv82AKw3QvlUAJgSOVMBuSI5UwK9MvlUA8HaOlMExVL5VAXJYvlUBs1y+VQH0YL5VAjVkvlUCdmi+VQK3bL5lAvhwvmUDOXS+ZQN6eJJng7tapWnD/FS1QOttSKWA76AniTFvwAH/G9EReQp8MFSSIQpAAgLHJERBjcMsMKYSjyxQUdEbDHFHlo8sEFIJCTEEEQMIURCHicc0cIpR5QEQkTELDMRCLW8csUeR6REEDP3HITNBrGcs0FL9Gw00AUJvbFBTBjdM9IEKS1xRE04PTPUDOG8dEFOWC0z1gJJ3XBET3gdM9hTiI1wRFDwbPXPQwet9dQGRQGz0TXHnfTcY4NJhNDIJZ+8kN5R8702Zwu/FhTadKl9cGiOO4y44Y9P3jHhiEUeMOSUS36Z5hd/3vnmlvfF+Fugfyz65VtLlrrKq5uO+V+vc+5hQAAh+QQBAABTACz1AKwAPwCPAIb////+/v7+/f39/Pv9/Pr9+/n8+vj8+ff7+PX7+PT79/P69vL69fH59O/59O748+348uz48ev38On38Oj27ub27uX17eT17OP16+L06uD06t/z6d7z6N3y59zy5try5tnx5djx5Nfw49bw4tTw4tPv4dLv4NHu39Du3s7u3s3t3czt3Mvs28rs28ns2sjr2cfr2MXq18Tq18Pq1sLp1cHp1L/o077o073o0rzn0bvn0Lnmz7jmz7flzrblzbXlzLPkzLPKmGWejKGIhsCBhMtSPilMOSZGNCM/Lx84KhwyJhksIRYlHBIeFw8YEgwSDQkLCAUFBAIAAAAAAAAAAAAAAAAAAAAAAAAAAAAAAAAAAAAAAAAAAAAAAAAAAAAAAAAAAAAAAAAAAAAAAAAAAAAAAAAAAAAAAAAAAAAAAAAAAAAAAAAAAAAAAAAAAAAAAAAAAAAAAAAAAAAAAAAAAAAAAAAAAAAAAAAAAAAAAAAAAAAAAAAAAAAAAAAAAAAAAAAI/wCnCBxIsOCUIAgTKgwyBYDDhxABGJxIsaLFhRgJRNwo0aLHjwUxLkTAMSLIkx9FKmRQEiLKlxRVJoTQ8iHMmwRlIqRQ0yHOnzqDYOjZ8SfMoByIGr0ZFITSpS+DkngK9WRQFFSrptTZIqvWizpjeP0aU2eNsWQNBs2BNm1OnT3auhXoI6jcuTrs9pxb0YbemnwpyvjbMvBEF4RLGjaYIjHHxQVLON4ImWCIySYrC+yA2aXmKRk62/xMQbTPzxFMF63cQPXnKQlcfy4g+3PQhoBfBx1w123QA73TBl0QnGzQB8W/Bp2QXGvQC82rBt0QHWrQD9WXBh2R3WjQE92B6v9kER5nUBjlmeqkkf6oThzto+rkER/lj9qVd+CHfGP/4hn+GfZCgIGpQCBfJhw4lwgKuuVBg2lpACFZFkz4lQQWauVAhlUpwCFUBny4lAAiaqeTAPVZpZMBKYIUlAItbiWTAzF6FJQENYIlkwU5VhSUBj2WJZMHQU4UlAhFqqWTCUmGpNMKTb4l0wtRDhTUDFUKFNQNWR6k0w5dBgVElzyU+BMOZuJEQ5o3wcAmTCy8+dIJcqI0Qp0nfYAnSBvs+dEFfno0QaAWPUBoRQscStEBik40QKNG6hRAmDoVQKlMCVyqUgOaihRBpxhVAOpCGYyqUAemJhRCqgiVwGoQKbz76sKrMrxqw6s6vOpDlz1AWlAOZkoh7LDECjtREUEVq6wUFBG1bLETGZHss8M22xO11Rp0xLTYWlsTtsYahERCQgxBxBBCJAQusxM5C+5ESSBExLz0EoHQut62hK9BSgRR779B7GuQu90atMS/CAtcEMHUTsQEwv8qTBDDz07UBMT1SjwQxctO5ATG9GosEMfKTvQEyPOKjNu37xoEhb8YB9zywNfOTFAU8iJ8r80T11ywkkGUe266CE3B88Y+N/xZl1WpzBfJ0C6ddMVSs/xzZVAT+1rW2WrGdbheT91x1foebdjX7IZttdJql301ZGhvLXbJZJfk9FxEBQQAIfkEAQAAVgAs5ACsAEQAjwCG/////v7+/v39/fz7/fz6/fv5/Pr4/Pn3+/j1+/j0+/fz+vby+vXx+fTv+fTu+PPt+PLr+PHr9/Dp9/Do9+/o9u7m9u7l9e3k9ezj9evi9Org9Orf8+ne8+jd8ufc8uba8ubZ8eXY8eTX8OPW8OLU8OLT7+HS7+DR7+DQ7t/Q7t7O7t7N7d3N7d3M7dzL7NvK7NvJ7NrI69nH69jF6tfE6tfD6tbC6dXB6dS/6NO+6NO96NK859G759C55s+45s+35c625c215cyz5MyzyphlnoyhiIbAgYTLKR4UJRwSIhoRHhcPGxQNGBIMFRAKEg0JDgsHCwgFCAYEBQQCAgEBAAAAAAAAAAAAAAAAAAAAAAAAAAAAAAAAAAAAAAAAAAAAAAAAAAAAAAAAAAAAAAAAAAAAAAAAAAAAAAAAAAAAAAAAAAAAAAAAAAAAAAAAAAAAAAAAAAAAAAAAAAAAAAAAAAAAAAAAAAAAAAAAAAAAAAAAAAAAAAAAAAAAAAAAAAAACP8ArQgcSLCgQStEEipcSASAw4cQARycSLGiRQEMM0bcKNGix48HCWRkyDEiyJMnDYxcWBIiypcWEaxU2PIhzJsHFcxMWNMhzp8DGexs2BMoUAdDe3Y0ehNC0qJMb0p4WjPqzQpUW1qFeSFrya0vM3jlCBblhrEby57sgNak2o8f2rp86zGEXJt0LY646zNvxRJ8l/o9iCLwYIoqDB8+6ELx4oIwHD8eKEPyZCs0LE+2ofkxjs6LdYA+zGP0YB+m/QZJnXfIUCtQLwscGgR27MtDf9iuKhvhzh67tfYeuiP41+E7cxgni3zmjeVpm6+sAd2t7KEzqs+9vjOGdrzcZ7r/+N43/MoV5AVPHpoifW/fM024lz6SxHzzI0Xcx70TxP71O3nw32NDcTDgYkNpcOBhQ2Gw4GBDVfCgX0NNMGFeQ0VwIV1DPbDhW0M18KFaQy0wYllDJXAiWEMdsOJWQxXwolVDDTBjVK/daFQAOer40wA9KiVbAUHettgBRfI2WQJJCjfZAk0eN1kDUTI32QNVRjdZBFla9xgFXW73mAVhgvcYBmWW95gGaap3GAdtyuZBnJeBQOdkItz5GAl6LmZCn4elAOhgLAzq1wuG5hVDonTNwOhbNTyq1g2SlpVDpWDtgOlWPWxq1Q+eRrXaTgMJyd9MQhBkKoE7AaGqkRDu/+TDq0oiuBMPtDpp60w65Crlrivh4KuVwI5kw7BaFpsRDch6yeBOMjQr5rMzwSCtmdSu1MK1amY7kgrcuknhTieEe+pKJZgL4EwjqMvqTCG4qyxDH8jrbUYd2HtSFfz26++//A40FBIEAQxwqUpBZPDCAc+2UxIFM9xwehFJbLDAOykRscQIJ+yQxQc7TEQRRhxhRBEKLbExwx17DPK/GB8h88xHJMTEygu3nPDL/gpM889ENIHzxQJ5/BDP/Q7089JODB0yxQojXYXSS9P8hNMwF200AFJPLVDVNEOBdc9aG9011WAfEcXYSZftstRogy0F2xNvzTXcs6VNxBR0e1oN9dF4+1Z1QlT0rbNSZ4tMsskoJ2SQxYf3lDhddr8X1eRv2Y25WpoHnvnWm5fVOdJ+jc5z6aB7znnqpOdl+suom6266Kyf7nrtsN8ue+uU4w5y7G/z/rnRAQEAIfkEAQAAVgAs1wCsAEAAjwCG/////v7+/v39/fz7/fz6/fv5/Pr4/Pn3+/j1+/j0+/fz+vby+vXx+fTv+fTu+PPt+PLr+PHr9/Dp9/Do9+/o9u7m9u7l9e3k9ezj9evi9Org9Orf8+ne8+jd8ufc8uba8ubZ8eXY8eTX8OPW8OLU8OLT7+HS7+DR7+DQ7t/Q7t7O7t7N7d3N7d3M7dzL7NvK7NvJ7NrI69nH69jF6tfE6tfD6tbC6dXB6dS/6NO+6NO96NK859G759C55s+45s+35c625c215cyz5MyzyphlnoyhiIbAgYTLKR4UJRwSIhoRHhcPGxQNGBIMFRAKEg0JDgsHCwgFCAYEBQQCAgEBAAAAAAAAAAAAAAAAAAAAAAAAAAAAAAAAAAAAAAAAAAAAAAAAAAAAAAAAAAAAAAAAAAAAAAAAAAAAAAAAAAAAAAAAAAAAAAAAAAAAAAAAAAAAAAAAAAAAAAAAAAAAAAAAAAAAAAAAAAAAAAAAAAAAAAAAAAAAAAAAAAAAAAAAAAAACP8ArQgcSLCgQStEEipcSEQggIcQIwI4SLGixYICGGq0IrHjxIsgQwokoJEhR48RRaq0aKDkwpMoH66caRCBS4UwY9LcKVDBzYQ5UfLcyeBnw5gQh9J0YDSoR6UzITRFKhOqSglTqVpVWSEr0q0iL3jVCRZkhrFCy17cgPapWosd2nZ8a/GDXIl0K4a4mzLvwRF8k/o1WCJw1cEEURj+iHigisWNCbqAHFkgDMqVZWCOTGNzYxueEeMIPVgHab88Tuf1oZpukNZvh8BWazSI07mVEf78cRtvbqM9evetbHSHcMHEf+Y4fjiy0RvMGTv/WSN6bt03Z1j//TPG9uQ3XXz/n35zxfjGRlOcR2zUxPrBRkm892tUxPy8RkHcp2vUw/63RnHwH20/aTBgWUZhcCBYRlWw4FZGTfCgVUZFMCFURj1woVJGNbDhUEYt8CFPRiUw4k5GHXAiTUYVsOJMRg3w4kpNMXddALOVNUCOYBXA41YH/GhVAkJCtUCRSjWA5FAPLMlTBE7uREGUNFlA5UwYXLmSBlqqxEGXInkAZkggjAmSCGZeREKaFpnAZkUpvEkRC3Ie9EKdBsWAZ0Ez7ElQDX4OdEOgAuVAqBU7HNrDoT8c+tpPM6pklBCRimQUEJWGZJQPmYJkFA+dXmSUDqFaZBQOpVZklA2pUmQUDa0e/2SUDLEaZBQMtRZkVAu5EmSUCr0OZNQJwQpkVAnFYufSCMkaFUKzP30A7U0dfFjFtdhmi62sPyFhhbbgVmEQVQ+FCy63NyXxrbnbFkQuAOxmi65LSqwb77jkxtuurgkVYcQRRhSh0BL2sosvVfpey+0RDDd8REJMFGzuwUglLK6tDmdMRBMSh0txTBYflPHITnR8rrv5JizyyA4/YbK2H6MUskEsOwzFy/KijLDKNNfMcBQ47zvQuzMX5DPDUgStsM4V86yrz0RMofTFBBHttK9EsJwQFVPH7FHRWBPhL8ACA6X0QVbrm9u7120FNmJp31tZ3AbPnbLadu+Md2R0Tyacd9N7N9a3x3+DfDXcd8vNd+J1L6634oIz7rfjgEOO+OONR05VQAAh+QQBAABcACzKAKwAQACPAIb////+/v7+/v3+/f39/Pv9/Pr9+/r9+/n8+vj8+ff7+PX7+PT79/P69vL69fH59O/59O748uz48uv48ev38On38Oj37+j27+f27ub27uX27eX17eT17OP16+L06uD06t/z6d7z6N3y59zy5try5tnx5djx5Nfw49bw4tTv4dPv4dLv4NHu38/u3s7u3s3t3c3t3czt3Mvs28rs28ns2sjr2cfr2cbr2MXq18Tq18Pq1sLp1cHp1L/o077o073o0rzn0bvn0Lnm0Lnmz7jmz7flzrblzbXlzbTlzLPkzLPKmGWejKGIhsCBhMs9Lh44Khw0JxovIxcqIBUlHBIgGBAbFA0WEQsSDQkNCgYIBgQDAgEAAAAAAAAAAAAAAAAAAAAAAAAAAAAAAAAAAAAAAAAAAAAAAAAAAAAAAAAAAAAAAAAAAAAAAAAAAAAAAAAAAAAAAAAAAAAAAAAAAAAAAAAAAAAAAAAAAAAAAAAAAAAAAAAAAAAAAAAAAAAAAAAAAAAI/wC5CBxIsKBBgUoSKlyohAuAhxAjAjhIsaJFgwQYapTIceLFjyAHItDIsKPEkCgvLiC50GTElDAPOmCp0CXEmDgHRqCZ0ObDnDkp8FTi0yNQmBmGFj0as4NSn0xhgnhqM2rKEVRdWkVpIqvJrSFTeO0IFiSLsRzLfoyB9qRaizTavnxbEYfcm3Qp7rj7M+9BH3yN+iUoJPBgg0YMHyY4FMnSxQOHEnkMmctQIJQhD+2RefFQHZ0PD7URevBQGaX9DnWROu/QFa3pDkUR++3QErXVDhWRu+xQD73BDuUQfOvQC8WtDp2QPOpQCM2ZDm0Q/ehQBdWBDjWQPedQAd1jBv8Y6hBq5QLkw8NMkN48ZAbtq1Z+EF9rZQn1v1a2kJ9s5Q39pVWZBwG6BVkIBc4FGQkJ4gXZCQ32BdkKEQp2WAsVVsaFDBlWVkOHkOUA4mI8jHjYDyYONkSKfh0RoYaW8WSEejANNQSNKQ31A44oDcUDjyENlQOQIA1VA5EfDRUDkhcN1QKTFg2lApQVDXUClRQNRQKWBw0VApcG/QZmQUNpMCZjPFVwZmQ8RbAmQjw98GaMNDEw51AJ3MlTAXrSVJ58kA3AYl4HDEqXAoa+1UCiakHAaFkTPAoWBpJuxUGlVn2AaVQibMpUCZ4ehUKoQFHI05/2QfYCqTnNwCpON7z/GpMOssLUQ60pAYErSkTsGlISvhbJUxGo6qcZT0EU69+xNPmgrIDMsrTDswZ6xhMO1CpoLU00ZOvgtizB4K2EKW1h7rnontslT05wke67WxhUFADwvrsuTU+4W6+6Bc27L7r3sgSFvv/KW9S//JKZ0BJMNMHEEgpFQfC+BvuEsLnrNqHxxk0kJMXE9VZs08XxhsnxyUpMATK8IrtE8kEnx0zFyvb2e/DFMMfMcRU0p9uySS8bpDPHVvQMsM0W4yz00BpfYXTCA/mrdEFMa4zF0xgjPfLUjDGtRBZYl0yQ1AhnHHNCWoT9c0dBK6wEww5DnJBAZa/NUduHzQtjVHgPOEZ2wZD9TXHgN9e9mOAhE5604XkXDvjhjg8O+eKPN0655JZvzbjfkSc+ueaVc36555m7zLXoNgUEACH5BAEAACAALL4ArAA/AI8AhP////37+fv38/jz7fbv5/bu5vTq4PLm2vDi1O7ezuzayOrWwujSvOXOtuXNtcqYZZ6MoYiGwIGEy19HL1dBK087J0c2Iz8vHzcpGy8jFycdEx4XDxYRCw4LBwcFAwAAAAj/AEEIHEiwoEGCDxIqXAgCgMOHEA9KnEjxYICFGB80hMixosePBQVkZMixI8iTFQeMVLixpEOUMCUWWJmwpcuYOAkaoKnR5cOcQA/wtFkSaE4EQ32+NBozQVKlTGMqeOozKswFVG9aPckga9GtIB14NQnWI88HDZQCKPvxLAO1bM3yXAA3LsWzCuralXg2gd69Bs8i+AsYIc8DhAsLPGsgseKhBBwXHjpAMuChAizvHRpAs92xZBULvEiT6FfRAkWWVrsWtUCVqz2znRkbqmsQO2tXvS1Ut1bXSH2fRu1UeGjRU41HvI1V+c/bXZ0vdS1WemvXZ9PKLuuW9W0QZ+lu/weL1/vtvuPJ8xxs+/zh9FsZw7d6NnJ77Dwr30d9NvN+0Wd19t9jPJnnGmk0GYiaagnOxxRsDQ4IGG0R7uZabhX+hlpvGQ4nWnAdHqdYcSEu51pyJT7nWnMpTodadC1eh1oDZykIIE/aSbgZT285aFR4NhJIU14+AoVekTkJFuRk7yGJk3xOxlTfkpflR+WONPmn42c8CbhlXDVeGReCK7Emo2IMlikmWxCqGSVKFLr5ZVkYymmhaBzaqaFiIOrpYWEk+mkiaigKqiJqLBrqomgwKnqmYjQW+CZK2a3JVneTngRkpiCVx2lbPPn1qVw0sTcnd02eqh5NjY1a0ZSu3v9lZawT9WcpqjR5eeeNMT4KGJkjmXlbmsHeulWbxdJ6EAFhKmtQncmqalWe0e5aWJ/V7glos9JGVWi2fwKWKLgiAtYouYOe9MG67La7rkQTnOXuvB8cZCa97vLF0wT4tmsva/2yqy9NFAT8rkH3GjwwBBFIEAEEClVgcL0IA6zwQQlJoPHGEiRkwcT/qgUyxhyX/MAFIxeUcMASlewyBikTtHK/LbvMcQYxDzQzvjXbrLEGOQu0M709+7xB0KaVhDQIPm/MAdJDz8tX0w90ALXFLGP8gM0JeXC1yBcHlhDDDkNcU9gqY02za8J+Z9TSdkWdL9tq80w32FmjJre/dysmBXdcewvct09/sxX4wXrXTfTgLhVe1uEUJ4732pL7jbZikN9mZkAAIfkEAQAAUQAsswCsAD4AjwCG/////v7+/v39/fz7/fz6/fv5/Pr4/Pn3+/j1+/j0+/fz+vby+vXx+fTv+fTu+PPt+PLs+PHr9/Dp9/Do9u/n9u7l9e3k9ezj9evi9Org9Orf8+ne8+jd8ufc8uba8ubZ8eXY8eTX8OPW8OLU8OLT7+HS7+DR7t/Q7t7O7t7N7dzL7NvK7NvJ7NrI69nH69jF6tfE6tfD6tbC6dXB6dS/6NO+6NO96NK859G759C55s+45s+35c625c215cyzyphlnoyhiIbAgYTLYkoxWUMsV0ErTjonTDkmQzIhQDAgNykbNSgaLCEWIRgQFRAKCgcFAAAAAAAAAAAAAAAAAAAAAAAAAAAAAAAAAAAAAAAAAAAAAAAAAAAAAAAAAAAAAAAAAAAAAAAAAAAAAAAAAAAAAAAAAAAAAAAAAAAAAAAAAAAAAAAAAAAAAAAAAAAAAAAAAAAAAAAAAAAAAAAAAAAAAAAAAAAAAAAAAAAAAAAAAAAAAAAAAAAAAAAAAAAAAAAACP8AowgcSLCgQYM/EipUKBCAw4cPD0qcSPHggYUYG0KEWLGjx4IOMC7UuNHhx5MdK4hkGKVkRJQwD3JYmZBkyZg4CY6g+cPmxpxAVfD0yREozhhDW7oEYBQnjqRLmTaFybOnj6hTqQ69gTXryapRYHT16hFsirFkKyYVgTbtxKQb2ro9mJSC3LkFkza4i3dgUgN8+waAGhgvAsJL+0p8gNil4oMWGt98XLCD5J+UCZK4XDSzwBWcX3qOIiO01NFRcphGLRBsj8J4wdqAPRfsC9puwaLAnRZsCN5kwWoA7hXsBOJZwTJAPhVsAeZGBYCNetpzgunQgUIwXT3zBe6sPYD/R11i/GgW5j3PSJ9ZB3vKYHlQZw22xnzUYF3cHw32xH7PYIHwX2ZgZZAdUGBJcGBOYC2wIE5gEfAgTANglxhqCljoGGoRaDjZaBh4iNloH4jYmWcmmCiaZy2oaBJqNLjYHWU7yEjfUDsMCN9QNOj4GFgt+KgYWCYI2RdYHxgZ21AYKFnbUBE4mdtQCkjZ21ADWOkVATLOqNgCXaImQZijZWAjaiCcOdoJanrmQpuZ1QAnZTzM+WNVOmhZXFUz6JlcVSz42VxVJQjaVFU/eGCoUYhesCiCVUHwKINDJTAphEMJcClMBZDpGQOeZjZBqJRpQOpjIZyqGAqq9vVCq3jZ/wDrXD3MOiVPOVDn5ZFVybCpVjyt8CtKiJIw7FdVdXDsR4hasGxZVT3wbEeIIjCtWlUFcO1EBiCqK2oNeLutRBSIO+FJG5h7IUxQtOvuu1BMtASi8NYrka71wjtREmDl++691Pnr7kRH9CtwvAfhe/BERSQERBBCBAEEQwcjbJDCAk80xA9CdOyxEDVVDHBUIkvE8ccf/0BEyRcHvLBEKMdsBMsFYezvRDGjjATNBNmcL845e6wEzwP5bC/MQXfMBNFEbcS0QEl33MTTRutrctI/OEG1yxmbfDLKCT2xNckv0+UwxBIr9LRSZHc92resAbU2XlX/i1rdA9/N9c16tyrN99t7/9z3UnPPhXe7rB1usWeKJx740YD7LXjkhJfN+ONWU+5S4W7pGhAAIfkEAQAATwAsrQCsADkAjwCG/////v7+/v39/fz7/fz6/fv5/Pr4/Pn3+/j1+/j0+/fz+vby+vXx+vXw+fTv+fTu+PPt+PLs+PLr+PHr9/Dp9+/o9u7m9e3k9ezj9evi9Org9Orf8+ne8+jd8uba8ubZ8eXY8eTX8OPW8OLU8OLT7+HT7+DR7t/Q7t7O7d3N7dzL7NvK7NvJ69nH69jF6tfE6tfD6tbC6dXB6dS/6NO96NK859G759G659C55s+45s+35c625c215Myz38Gj2reT1K2Ez6J1yphlnoyhiIbAgYTLYUkwVD8qRzYjOisdLSIWIRgQGRMMCwgFAAAAAAAAAAAAAAAAAAAAAAAAAAAAAAAAAAAAAAAAAAAAAAAAAAAAAAAAAAAAAAAAAAAAAAAAAAAAAAAAAAAAAAAAAAAAAAAAAAAAAAAAAAAAAAAAAAAAAAAAAAAAAAAAAAAAAAAAAAAAAAAAAAAAAAAAAAAAAAAAAAAAAAAAAAAAAAAAAAAAAAAAAAAAAAAAAAAAAAAACP8AnwgcSLCgQYNCggD54aNHDBMaGgCYSBHAwYsYMxZEIKSjx4IVJ2ocSXJgBI8fCYa0WLIlxgwoO4IM6bKmQRAxhcysaLOnQBQ5d1L02fNFUJU0ida0cXTgSqU1c+pEyhNqy6YCeTy1WhLrkxlbuY70yiKs2IxeS5g9e9Frh7VsEcYsaAFuXIJeGdi9+2SAVwJ77y7wupIl34IVCCc9XJCD4qqMCY54PDQywRWURVoeKCOz4c06PG8eKFWo5tGlB94IfDe1wBes43pFEZut1xC1z3rNkFus1wi9uXpFEByqAc+fIz9APvrJBeajPUDfbEJ08xbWR9PIvrkHd8uun2j/Xbw5PFjy4LGWRR85vFr2jMO/hX/Ya136fPMWVxrg736iCUxn2QQCRqZBgYyFgOBhKSzIFwwO3oXDd+1RGB9Wq+HXGlawaSgbVrR5aBtWuImoG1a8megbVhL8R1R4xKloFQERxsVAjWxZgONZHewoFgk+csVCkFbNQCRUOxypVHjjyQiVeS76FN56kJWH1XtVpjfXQPNlWeGWAt3n5YVgPqGXk09iBRiaRB0QXmHNQfBmlDZhoCRRH9zp0wl69uRCnzbVAGhUg7oUXoZsSskhnKiByKiVZZY4Zn0o0mlTeC0mqmiZMU56lwBzamqTAqF6GhcFpVa22QapnmaZCK0m/8eYCoW2FEOtJeWAK0lMPqolSgSdJyqhZVJp6ohlYnnsiWV2ueyKZYr5rHBYnTkttWWueS1UBcTanAPe2uTEuOSStER45KZL0krpjkuSEui268S6IclLUhLxtktvRfaOhIRHQxBRBBFDPNGRvPOOxK6+Ix3RUREQR2ywEAjvS1G/GhkhRMQSC0QxxhktrO5YHENcUMUK18uwRhuXfDLIGIlcLskuE4SyRjK7SzPHL68cssojs1xyET0H/TO/PmP0cM1PMHHz0Rcn3dbSPAvRxNMxAz0zywALTLDBWGeNtNHNOTWsZTCX/UTOCatt9thbu7221jrLPTfcdcvNtt0C7R7Nt992A6433W0PjnfhbgueOOF83x012WorHnlIAQEAIfkEAQAATAAsqgCsADYAjwCG/////v7+/v39/fz7/fz6/fv5/Pr4/Pn3+/j1+/j0+/fz+vby+vXx+fTv+fTu+PPt+PLs+PHr9/Dp9/Do9u/n9u7l9e3k9ezj9evi9Org9Orf8+ne8+jd8ufc8uba8ubZ8eXY8eTX8OPW8OLU8OLT7+HS7+DR7t/Q7t7O7t7N7dzL7NvK7NvJ7NrI69nH69jF6tfE6tfD6tbC6dXB6dS/6NO+6NO96NK859G759C55s+45s+35c625c215cyzyphlnoyhiIbAgYTLYkoxWUMsV0ErTDkmQDAgNSgaFRAKCgcFAAAAAAAAAAAAAAAAAAAAAAAAAAAAAAAAAAAAAAAAAAAAAAAAAAAAAAAAAAAAAAAAAAAAAAAAAAAAAAAAAAAAAAAAAAAAAAAAAAAAAAAAAAAAAAAAAAAAAAAAAAAAAAAAAAAAAAAAAAAAAAAAAAAAAAAAAAAAAAAAAAAAAAAAAAAAAAAAAAAAAAAAAAAAAAAAAAAAAAAAAAAAAAAAAAAACP8AmQgcSLCgwYI/Ev5golAhgIcHI0qcWPBAw4MPIVLcyJGJg4sGMwLoSFJiBZAFRZZcWZADSoIqWcoc8XJgTJkrVdQUeBMnyRg7mfT0yRGHwohDiVIM6iOpUolBbzh9ejAojKlUER41mAJr1oFBRXj9ynBrwQ1jvwalkDZr0AZtqQY1kJHsxABB4z5FkLeu3YgP+mr8a9CC4JGEDXY4nNggCcaNCa4wm9JvZIEyKMO0fDmHZpucIwftoVdpUBuliQZ9kdpnUBStcQYNEVtmUA2hRX9mMiF346AMfCcOWkD4XwGQLzNJkPwyhOaRL0Bv7GG3UON2S1ivzZLFduxkZ3z/H3xZx3jEyoPy4L4yaA32JYO6gE8y6AnwZIOCwK92dwb+bu0mAYBy7bYAgU8FRQCCRA0wXWIKnKecQBFIOCEGFir3QYaXmcBhZC182BgNIia2Q4mEBbUDg6rtRgOLru3WAoyy7WYCjbbt9gGOLAWFAY/t7RYBkPHtpgCR9SUU0QBIckQAin8tAKVdEkxJVgZWfgVCllmdwCVVLnz5VA3jTSgQD2WaGZQOTXIU1AxtbhQUC3EutVsJdU4UlAd5QqXkQRf0GZF1EAha1Z8GJWCoQdYJsChBBYipFAOSEjVBpT5pgClOIaQ5IQqeKvdCqJfZQGpkPZz62245PEpQUDK49grWbivIKpB1JNha1kIHdaCrdRb8imhBDwjLq0EIGBtRALYasKlMDTzLEgWqJrZBtRstoW1JSFin7RIrZfRtSUd4u21J4p7bkRHmgovuQ+OSVIRCQAQhRBBAKBQvSem629EQCQkh8Ks/7NtRv0UKLIRBRBjMEcL1KRyRwxtB3NEPEh9EMUUWu5mxQRtP1LGcHxcUskQjL1UyQScjBa+6bmI8cEFJtIzRy/7GLPPCYClhc0g4F7lQvffmWzDMBwdtJsrkLU3Rz8ql7DRPSk9dGQBQXyb11Fs73fXSX5sZ9oRjR1211aBhjTTaZWt9NtrXqZ0z3BkFBAAh+QQBAABbACypAKwANACPAIb////+/v7+/v3+/f3+/fz9/Pv9/Pr9+/r9+/n8+vj8+ff7+PX7+PT79/P69vL69fH59O/59O748+348uz48ev38On38Oj37+j27+f27ub27uX27eX17eT17OP16+L06uD06t/z6d7z6N3y59zy5try5tnx5djx5Nfw49bw4tTv4dPv4dLv4NHv4NDu39Du38/u3s7u3s3t3c3t3Mvs28rs28ns2sjr2cfr2cbq18Tq18Pq1sLp1cHp1L/o077o073o0rzn0bvn0Lnmz7jmz7flzbXlzbTlzLPkzLPKmGWejKGIhsCBhMtfRy9dRi5WQCtUPypMOSZKOCVCMSE4KhwvIxclHBIbFA0SDQkIBgQAAAAAAAAAAAAAAAAAAAAAAAAAAAAAAAAAAAAAAAAAAAAAAAAAAAAAAAAAAAAAAAAAAAAAAAAAAAAAAAAAAAAAAAAAAAAAAAAAAAAAAAAAAAAAAAAAAAAAAAAAAAAAAAAAAAAAAAAAAAAAAAAAAAAAAAAI/wC3CBxIsKDBgkkODgSgsKHDh1sSJGzIEKJFiw8mKqx4saPCChoPcvRIcqCHkAZHliRJAmVBlSs7qnBJEGZMizNoLrxZModOgTZ5OvzxMKhQhUWKHu34cwsRo0sROvQBNerApjiqWt3SNIZWq01TfI3adMTYpU07nD3alMJWiE0dvH3Y9MDchgGarhWqQO9dhRD8/jV4QfBggh8MHxZYQvFiFkoXD6QRWfIWHZUlA8m82Ajnw02H7OXZtMfom01vnI7ZFMbqlU1RWL7qUMRsgU033ObqcMLupg1+Oyxwe4DjwwuOD46g/G+Gz4NBQP9rYvrdFtbn1sj+dgf3rUG+W/9FIp6sQyGvSzblIbyhjfYKXcA/eGK+wRD2Cz6/3VRCfoIM/DcQAbcR51B6JAV44G3+LTibBuUthZ+DltVHoWQvRHjUexcuxl6HhwmxG10OHSGgQOHx55B3KjZEWYsKQQbjQdXNaJB0NhaEwYgORcBjQwv8qJAAtxmgoVDBgTiYb0r+xcGRPNnW5F2yTTkXDEIedEOWBvXAZUFDfElQU0nlSNBmZg6EWZoCzXDiFiuIOVAJcgr0QZ1bWIAnBHgqgCeCHiEA5U1yWfmWW4Zu1QGeI+CZAp4y3KXFSlLMBcCkJUFhKaYkObEpbAIpsQQTSygxURMrXQoqEwYl9ESqnJJkxOpBSUQB60qzKjTFrSXlehAVvMrqUBXBeuSrQVYU29GxBV2h7LIKJYHFs9BKlQW1HYlKqqk8qSonoFvFyqW3YpL7pbnjipsluuuqKyS777r7I7zzyssjvffaOyK+++q7GwABAQAh+QQBAAAgACypAKwANQCPAIT////9+/n79/P48+327+f27ub06uDy5trw4tTu3s7s2sjq1sLo0rzlzrblzbXKmGWejKGIhsCBhMtfRy9XQStPOydHNiM/Lx83KRsvIxcnHRMeFw8WEQsOCwcHBQMAAAAI/wBBCBxIsKDBggAODnygsKHDhwIBBHDIEKLFiwAEULzI8SGAARs7ijQIoEDIkShBADBwMqVIAAdauuQIAIHMmRYBJLiJ06MCnj0bAlgANOhBAAwaPqhoFCIAB0qZNnWYUGmDqU4pJsVKlSJRrkIp/gSrsKrCBzvJHqVoUy1JijHdIqTIUu5AAGYPPiBg925egw9A9lX5t+ADjYPxUpyYuDBBqXYlFgWbcTLXj5axlsw8dSXnpjA/G60ZdXDEtHohywUwNrVplV9dm0ZaejbUs6rdOl54dbbW17sFPojdNziIB60jG0c7e3nb4svjQqfbnCLfxhQFT1eKePtZxt71Av8HL3529/KJtQPOrXYzbuB1ZSeWvh748/qzUeNPnNwwe7JD1ZbYVvIV11uBqy13oHK/YacUcQmKVZ1S+kWo1H0WnkVfhnrFx6BS14UHmHoc+ndeiY89QB6KC/1H2YopAndijLORSGNiJr03m4f+AbfhjcVhCGRkFQ6pG2sCKgehke3RpiN0C/bo4FlRHtmgiIYt2aSEU+pV5JYXTpjaj2CmxqOVuIX4YWo2lrnejG76B2OcTLY3p3AuXgYnnsC1yedsakoJ3ZktNkfmn9AJWWhjXyKqXH91Uhbgk8oRuF9Hion0wQcTJGnRppl2tClFnYr6QagcjaoUBZqeapxCoy6TBQEIEkQw61IVtIrqRZsuVZAEEixlga6vHtTrQcA+cAGxI6mKrAQYMNtqQ8BmIK2p1EqgwbWpfpDtBtzy6q1CwHIQ7qcf5JZsB+dC1CtkyT7gQbsPxfrArLXemqexrr7WkLP+ClVsX6AObFfBAfO7a8IgIMwwQQ4/LFDEElP8sMUMY5ywxgFz7K/Hr4FsmsiDbRoQACH5BAEAAFMALKsArAA3AI8Ahv////7+/v79/f38+/38+v37+fz6+Pz59/v49fv49Pv38/r28vr18fn07/n07vjz7fjy7Pjx6/fw6ffw6Pbu5vbu5fXt5PXs4/Xr4vTq4PTq3/Pp3vPo3fLn3PLm2vLm2fHl2PHk1/Dj1vDi1PDi0+/h0u/g0e7f0O7ezu7eze3dzO3cy+zbyuzbyezayOvZx+vYxerXxOrXw+rWwunVwenUv+jTvujTvejSvOfRu+fQuebPuObPt+XOtuXNteXMs+TMs8qYZZ6MoYiGwIGEy1I+KUw5JkY0Iz8vHzgqHDImGSwhFiUcEh4XDxgSDBINCQsIBQUEAgAAAAAAAAAAAAAAAAAAAAAAAAAAAAAAAAAAAAAAAAAAAAAAAAAAAAAAAAAAAAAAAAAAAAAAAAAAAAAAAAAAAAAAAAAAAAAAAAAAAAAAAAAAAAAAAAAAAAAAAAAAAAAAAAAAAAAAAAAAAAAAAAAAAAAAAAAAAAAAAAAAAAAAAAAAAAAAAAAAAAAAAAj/AKcIHEiwoEGCABIenBKk4cKHECMKTAiAwMKGQSRq3DiFIoKLDjmKXEiRAciMI1MiTAjhpMqXHRNScAkzJUUMNGuKpMghp86NFEH4/CmRIomhRCFSRIE0KcmELZo6NUgxhtSpKwHUOIgRJdaHFHNwxfhVacIeY0OWPUjxpI+1TwGc1AGXrcK0NupSvWsQowy9BdumdQE468kUhQcK7tuwROKJfAtiDPE4pty0HSovltwww2OKlxkHmZkY9MkInzcTxNggdeTVDRO4Ds05SIHZV8tSHJD7K8UDvbFSXBB8KsUHxZ1SnJA8KcULzYlS3JDWa2GKH6prTjhCu+sT3ksn/2QR/npCGOUBU6SRXi9FHO3rUuQRH67qgRh/bKcNO8iO/SfdAGBaM+CW1gsGiqZCgrWZwGB/IjyIX0MeSCgQRhpYyFBDFmiIkQQeNuRAiEEoQKIBJArgmoqiWadeQii2uJ+JMro2Yo3iAQAijuYB0CGPLwKQIZDuJVQhkfIlFCGS9iXkIJNrUbRCfVEmhCCUuiVUIJbCUSQgl8ZR9B+YylEEBJW+3XdhQ/TlyN+EQcDn5knszZkWenaKRl6etYHHZ3/d/QlndoKuGQR1hXYFXaIYMcdoQ8g9GgRxkgInKW85BoBmmgDcRmaZAMj2qXMJtTaqdAmhdupPFFWwaZcAePq2ak2gZTYrTKBRdutLoDm2q0qgIfarTRQRNuxIoP117E4U5bUsR6DR9SxQFL01rUampYVWoRsGIRaxr0UkxbhSnFQER+RKke1G6VZnBLrkrqtRuy0eAe+48kqULllDEDGEEBghca+6aj60r1dEJExEQ0kMnK+45Lqo8MJKOFzwQvQWNPESFocLUcYETcxEx29+TO5BEzdBskggDzSxEysPjLLCT8TMbsQaKxwEFDbPGzHCOgcRRc/6/pxRv/+SRXRlArXMNFgXJ5buw0xPHXVhVntcWdYlbx3v1YBx/XRBYo89UNlmT4G22WuP3fbTb1f9tdaPxe31uAEBACH5BAEAAFwALK8ArAA5AI8Ahv////7+/v7+/f79/f38+/38+v37+v37+fz6+Pz59/v49fv49Pv38/r28vr18fn07/n07vjy7Pjy6/jx6/fw6ffw6Pfv6Pbv5/bu5vbu5fbt5fXt5PXs4/Xr4vTq4PTq3/Pp3vPo3fLn3PLm2vLm2fHl2PHk1/Dj1vDi1O/h0+/h0u/g0e7fz+7ezu7eze3dze3dzO3cy+zbyuzbyezayOvZx+vZxuvYxerXxOrXw+rWwunVwenUv+jTvujTvejSvOfRu+fQuebQuebPuObPt+XOtuXNteXNtOXMs+TMs8qYZZ6MoYiGwIGEyz0uHjgqHDQnGi8jFyogFSUcEiAYEBsUDRYRCxINCQ0KBggGBAMCAQAAAAAAAAAAAAAAAAAAAAAAAAAAAAAAAAAAAAAAAAAAAAAAAAAAAAAAAAAAAAAAAAAAAAAAAAAAAAAAAAAAAAAAAAAAAAAAAAAAAAAAAAAAAAAAAAAAAAAAAAAAAAAAAAAAAAAAAAAAAAAAAAAAAAj/ALkIHEiwoMGBABImNKikYcODECNKNKgwIQGGDpVM3MiRYEUACDA67Ehy4scFIh+WXEmxooOUGlnKFPgxAsyZMz9SuImT5ccMPHuW/NghqNCOH0EYPbrx44ilTCV+NAE1KsSPKapabamQhdatHivG+AqWZkUaZMt+xFEwo8qyVyvuaOsWbsSPPuhmtBtXoRC9I/lyTWgE8FvBCCvCRIK44EeYRBqHVQgTiOTElA33uGw2M0G3OjhzeWzYhmjSnzPKOK3YsAvWnge6XQF7oWEUtQHALMH5o27DInqjlp3Rg/DWqR1yOB5boNsLzG0nbzgh+u/pSiBYh9lgu2EF3rEb/whP3KGA6AHSgv1YQP3WjwncW/3IQH7Ujw/sM/0owXDMyx9Z4F9uGwwYnXHY/SfZRyEYCGBFJDi4YEUnSNjYR7QlmFsLFiL20WoaRldDh4J9lAOJfH3EA4p2ffQDi3B9NASMalV0BI3vDedcRoU9iFx5Dc3oY3NcuPXikNIBqcSKSF6n5IlNwjRilIaNRSV2HF6ppArk7ehQhVp62VCEYRaZUYNluoXghD+KqYQGXZrpUAVxumVTmG4pkR+ebtXHZ0bx/elQe4IedmFFA+CYo0IHKDpfReCFiGR3krKZkHaVHqpQdZl6WBEGjt5X0XKdlljRB6HuV1Fwpbb4EW+txv/4EW6x1lhRhkoq6GlFL6QqlG8z+NqTbzcIi5NvodW63kebKbuoQpY5+2hFkUkrakVJGJuTjnI2VESdGQUBrkN5pZnRXOY6xFahSqDFLgwy+dbRFvTW658THNVbr7z56ruFf0/0qy+/G/n7b4JQCLwvtxAZ/NASTDTBxBIORaEwvQRP5LBGTXTscUNSXLxFxhI5PJDHH08hMskRGVwQyh1TsTLDB7lMEMxNVDFzmy37+zLMVuxMZMM+3wzzFUInWXLRJ8OMRdJOLq3vfzgrkQXU8/r7UNVKaIG1yA9HPHFgBfvLMmc2i0bS2ZcZzLZkbtMMt9lyNxY3z2jTjXfbeg8jzffAdSN2t99zA7534QsfbnffSos2eON5G0744pJD/ne9AQEAIfkEAQAAUwAstQCsADkAjwCG/////v7+/v39/fz7/fz6/fv5/Pr4/Pn3+/j1+/j0+/fz+vby+vXx+fTv+fTu+PPt+PLs+PHr9/Dp9/Do9u7m9u7l9e3k9ezj9evi9Org9Orf8+ne8+jd8ufc8uba8ubZ8eXY8eTX8OPW8OLU8OLT7+HS7+DR7t/Q7t7O7t7N7d3M7dzL7NvK7NvJ7NrI69nH69jF6tfE6tfD6tbC6dXB6dS/6NO+6NO96NK859G759C55s+45s+35c625c215cyz5MyzyphlnoyhiIbAgYTLUj4pTDkmRjQjPy8fOCocMiYZLCEWJRwSHhcPGBIMEg0JCwgFBQQCAAAAAAAAAAAAAAAAAAAAAAAAAAAAAAAAAAAAAAAAAAAAAAAAAAAAAAAAAAAAAAAAAAAAAAAAAAAAAAAAAAAAAAAAAAAAAAAAAAAAAAAAAAAAAAAAAAAAAAAAAAAAAAAAAAAAAAAAAAAAAAAAAAAAAAAAAAAAAAAAAAAAAAAAAAAAAAAAAAAAAAAACP8ApwgcSLCgQYEAEioEQDCIw4dBDkqcSJHgQoUEGkJ0WLGjR4QXASDQuPGjyYkhATAgCfGky4IpIbB8+LLmlJQUZnK06TIlBp0ReZ5MyQGo0KEhQRg9+jEliaVMO6ZEATUqxZQtqlqVmDKG1q0GU9b4CtZiyBxky4K82COt2pQFNwbxoZZryLgbddQ9CFenjb1h7+qUARim4IFyXRQ2exFoisUD+wqUG6QE5LULgYa4fPPwFModOEv+LDeDaM+Uc14eTTnC6caI5TZ4nTn2xgS0FQItkDuh27cXB/wuG/LAcLAhFxzfGvLBcqshJzyPGvLCdKYhN1w/GvLDdqEhR3z/5xnyxPiaKVmcf5kSxvqeIWm8R3oRx3yTKXncb+qZNMQfvTGk0w4B4gXRDQXqNEOCtj30AoOTbaQChP49ZAKFcomA4UYebAiRBh4+ZEGIDklAYhAOnKjAiQacKEBvLzZIU28tyrjTahetaGNQOC6U4o6cdbaQiUD2NmKRPSoEIpKQhdQhk4uFpCGUhYV0IZWAhbTCfvwt9CCWe4W0IJh1hYQgmcAtRCCaxF0EBJce9SeXfr0Z+JB9deokX542usdnhBCpl6RuOpk3qG86iXeogDZ6t6idDmn3qE7WTWqjdJYC+pBzmVbokHKdymVcqBsJd2gAkPLY5EW86RRkSLi5/9rbbLIe6lqtqy5UQaqvXmQarlFeFBqwVV60GbFZXmQZsmFe9BizZV6kGJvIXUQYtcxd9Be20F2kF7fUXUQXuNjBZmNbf3oaBFrsmVuRFPDGm2oRHsUbb38T2QtvqkbUqy++EukrRapH+GsvwAcJzJEQQxAxhBAPIWHwve5SpHBERGSssUNJTAwvwgYpPJDGGyvhsRQgFyRwQSRnvMTJKRO0MkEtE8EEzBXnqy/LLTeBc20dzTxyy078TGjQO9Pc8hNGI4q0vTzWHAQUTTP6rr4cSR1EFFV/dPEUDDsM8Y1XH5xzkEIHid/ZnAkcc2Fus31Z3ECrLRDdR9s9Bd5O6yPNt9V2/633QIIPvve/ckNW+OCL+4143YE/nnfkZkOutsABAQAh+QQBAAAGACy7AKwAPQCPAIL////KmGWejKGIhsCBhMsAAAAAAAAAAAAI/wANCBxIsKDBgQASKiwYoKHDgxAjSoyosCJDhw0natx4sOJCghgzchy50WPCixhJqpRoEgDKhytjFmz5UqTMmzRBhrzJM+fAkAF44jRZM6jQmD4FAj2KlKjOlExVJjWwNCrJqVWtcsS6U+tWpz+7etXIFerYiUmBGj3LEizVrGwhpoUb1+BcsXXtulWbV+5eun0F3jUbGOFfvIUNDIaZWPBhwokX22wseS3lx4wve3wKuXDlxoY3h0UcuKXL0Z37muac2fNn0KtRty79WrNopYBV14682zXmyb5vvyWt+7fl4BZlA6dtHLTi3syF84XtU+3x6MmHE88bW3tq7tWn2//Obt159/LUwaIf/9H77OK31/NWL35+/PrI28vPfxJ3bvD0/VfXefhhp1+BAAa4XVymnebecgneJyBbDSoH4YAETnhWhf4tSGGGHm4I4ncMjvgehuFpOBaHD14XIXkIoqggiR+mGOKKJl5Yoo00ipiTdS7KKBqQ6TlFJHsfHWnfkPvBx2SMOxrZ5ItJTilkckry11+WBlYJZY1SfuljmCp6xSGXTmJpJZhk3qhVg6eheaWaYpp55ppjttmjnbHJGaWeJ7L5ZJlWwdmhm4XeWeebihIalaEtBikonY4yBamfk3pZ6VGX4onjakBKmudmocoEKUQFpKrqqpGKuuqrBZzAehCsrJYaEa2qymoQrqm2KhGvsbI4K69vCTAAAQMIEKgBwOpaELBUESDttAToyCyvzhIELbXcuoqtsLsSyy23v37b3bC4GjAuteXimu1A264rbbu0vitQvPLSC6u916Yr77y3mjvVs+LK66274BKcbgDrWttswtoS25CxyCrrsMBuBQatcyvxe9bD52qMsXAiIxxyXyAPnFfKGaM8cnaFsUyyyyarXJfMMJdcL8Q3v9xezD73lxjOP+u8L89xARsQACH5BAEAAFUALMUArAA8AI8Ahv////7+/v79/f38+/38+v37+fz6+Pz59/v49fv49Pv38/r28vr18fn07/n07vjz7fjy7Pjx6/fw6ffw6Pfv6Pbv5/bu5vbu5fXt5PXs4/Xr4vTq4PTq3/Pp3vPo3fLn3PLm2vLm2fHl2PHk1/Dj1vDi1PDi0+/h0u/g0e7f0O7ezu7eze3dze3dzO3cy+zbyuzbyezayOvZx+vYxerXxOrXw+rWwunVwenUv+jTvujTvejSvOfRu+fQuebPuObPt+XOtuXNteXMs+TMs8qYZZ6MoYiGwIGEyxMOCRINCRAMCA4LBw0KBgsIBQoHBQgGBAcFAwUEAgMCAQIBAQAAAAAAAAAAAAAAAAAAAAAAAAAAAAAAAAAAAAAAAAAAAAAAAAAAAAAAAAAAAAAAAAAAAAAAAAAAAAAAAAAAAAAAAAAAAAAAAAAAAAAAAAAAAAAAAAAAAAAAAAAAAAAAAAAAAAAAAAAAAAAAAAAAAAAAAAAAAAAAAAAAAAAAAAAAAAAAAAj/AKsIHEiwYEEACBMiHEikocOGBiNKnEixikKFDB86DFCxo0eCFxNm1EhEwMeTFUMuFEiy4QCUMCOqBDBSI4GYOAfOrPmwQM6cO1m2NPATZ9AqLYkcKBrzaFIETGE6bZkgKsqpJBVYPYlV44KtH7s+ZADWo1iHDcp2PNvQgdqUKnk6fPCWIlsiEOpOvBtBr8S7EvzKjCuUJAXBBu9aQHyQMNKWFxiDdJwUg2SdlFtmuCzwrgbOFjOT3AD6LofSojV2QB1SbkMPrC+6JvIhNsbCGkHYFon7YYjdKx+TFAGcZm+HI4rPJqH8eMMSzYVrNBE96YnqLVFgJ5liu0YV3h+y/wjv0AX5hi/OE4GhPoZ6GepnqKehvoZ6G+pvqMehPod6HertoB4P6vWgng/q/aAeEOoFod4QxQnhHESczeSgdBoVxyCGDxWnIIcOFYcgiBReNpOBJBJRHIEpFidgixWqBCCMJqrkH42SzcQfjozNpB+PiM2EH5CCzWQfkX7NRB+Ses0kH5N1zQQflG/N5B6Vas3EHpZlzZQel2DN1MKEKsYY0gpkFgcemFvN1B2bVs2kHZxRzXQdnUzNRB2eRc0EHZ8/zcQcoECplByhRqlEHKJNqfQbo1KppBukV6lUG6VcqQQbpmGptBqnZql0GqhrqUQaqXCF9Bmqdqm0Gat7qf9kGax/qbQYrYOFVEGaZl40Aa81hhQYromp1BexjYWUF7KThUQXs5iF5BagMxk3ERXYZostEsBKpO231Vb0bbZJdBvRuNmGSxG6VChhrkHsUqHuteguwVIRRhxhRBEhrsvuvN6iy4RARxRs8BElBowuwOei2wQRB0dcJr0LH6Xwt04QHLHB4v5rccPjPqHxxkd0XLFjF2sLxcgbmzwuw/CiGwXLEbsM7scxjysFzQfbrC3MBbE7BcQkI+xzujgHzS7PCE+c8s9JExTvvfnu2y/FL0ct2NSgJYryZfECjVjYWvtF9teSnd1a12rLxrbHaDPW9m2gzc1b3XCvjffJenMSZndwfuft9t5Zxz224HQHjm5AACH5BAEAAFUALM4ArAA7AI8Ahv////7+/v79/f38+/38+v37+fz6+Pz59/v49fv49Pv38/r28vr18fn07/n07vjz7fjy7Pjx6/fw6ffw6Pfv6Pbv5/bu5vbu5fXt5PXs4/Xr4vTq4PTq3/Pp3vPo3fLn3PLm2vLm2fHl2PHk1/Dj1vDi1PDi0+/h0u/g0e7f0O7ezu7eze3dze3dzO3cy+zbyuzbyezayOvZx+vYxerXxOrXw+rWwunVwenUv+jTvujTvejSvOfRu+fQuebPuObPt+XOtuXNteXMs+TMs8qYZZ6MoYiGwIGEyxMOCRINCRAMCA4LBw0KBgsIBQoHBQgGBAcFAwUEAgMCAQIBAQAAAAAAAAAAAAAAAAAAAAAAAAAAAAAAAAAAAAAAAAAAAAAAAAAAAAAAAAAAAAAAAAAAAAAAAAAAAAAAAAAAAAAAAAAAAAAAAAAAAAAAAAAAAAAAAAAAAAAAAAAAAAAAAAAAAAAAAAAAAAAAAAAAAAAAAAAAAAAAAAAAAAAAAAAAAAAAAAj/AKsIHEiwIEEACBMiHEikocOGBiNKnEhRoUKGDx0GoMixo0GLCTFmJCLAo8mOIBcKHNlwwMmXElMCEJmRAMybB1PSfFgAp0+ZOx0a8IkT6EqWB4jeNFqFJREESmEydZog6supLBVYPYl15IKtJrtmZADWo9iHDcqi1Hl0pAO1HM86fAC3ItumLCHUnSi3YYS9Me86lQA4Yl8iFAp/FMzSguKChy88zgkyaEMMkwcezpBZ4GENnasc3hD6MIfSjEd2QF25bUYPrC1aJvIh9kXXD0HYDonbYYjdKvGOFAF8Zu+GI4rPJqH8OJESzYVnNBHd6YnqLFFgH5lie0YV3h+y/wjv0AX5hi/OE4GhPoZ6GepnqKehvoZ6G+pvqMehPod6HertoB4P6vWgng/q/aAeEOoFod4QxQkxW3EOOlccgxZ2JpOCGWYmE4IdTiaTgSE+JhOBJSomk4ApFiYTgC0CJpN/Me4lE3811iWTfjnCJRN+Paolk31BliUTfUWCJZN8SW4lE3xNWiWTe1FGJRN7VSolU3pZEiVTCxNqmNIKYXqYEnhd/pRSd2kWlZJ2bS6V0nVxSpUSdXVelRJ0eXKVEnN9hpVScoGalRJxha4F0m+JxpWSbo3aBVJtkfKVEmyVBgbSapkaltJpnS4GEmmhQpYSaKVSZhFnqWqWEmatev+WkmOxipZSBWWKmNIEuZqYEmG1yvRXsCnpRSxIdB1r0VtpMiURFdBGCy0SvUYkrbTOWnsttElUa9C20Gb7LbhKeFsQuFSIey64SwxUhBFHGFGEQx2hqy5B6DJBRBVH9OvvERBxZO9dz4LbxL7//ruvwODeOxC6TgyUsL/1Nkywtts+IfHER1S8rcMCoQvFxhN7fC3IVaAbBckJm4ztxeNuKwXL/7ocLcroToEwxwtTNHBrPoO7c8IBB/0xzDFf6y688tLL8NFAh5YyuFK7GXVoP8tW9dRQa1111rd9bfHVnYHNm9hdhy212cGtPbbXbqd9dtwnIz0Z28ahXTfZmeEKvTXXe8ONNbgBAQAh+QQBAABVACzWAKwAOgCPAIb////+/v7+/f39/Pv9/Pr9+/n8+vj8+ff7+PX7+PT79/P69vL69fH59O/59O748+348uz48ev38On38Oj37+j27+f27ub27uX17eT17OP16+L06uD06t/z6d7z6N3y59zy5try5tnx5djx5Nfw49bw4tTw4tPv4dLv4NHu39Du3s7u3s3t3c3t3czt3Mvs28rs28ns2sjr2cfr2MXq18Tq18Pq1sLp1cHp1L/o077o073o0rzn0bvn0Lnmz7jmz7flzrblzbXlzLPkzLPKmGWejKGIhsCBhMsTDgkSDQkQDAgOCwcNCgYLCAUKBwUIBgQHBQMFBAIDAgECAQEAAAAAAAAAAAAAAAAAAAAAAAAAAAAAAAAAAAAAAAAAAAAAAAAAAAAAAAAAAAAAAAAAAAAAAAAAAAAAAAAAAAAAAAAAAAAAAAAAAAAAAAAAAAAAAAAAAAAAAAAAAAAAAAAAAAAAAAAAAAAAAAAAAAAAAAAAAAAAAAAAAAAAAAAAAAAAAAAI/wCrCBxIsCBBAAgTAiBIpKFDIgYjSpxIUWFChg8bBqDIsaNBiwgxZhTgsWRHkAsHZmw4wKRLiShFPiTwsuZBkDIdFrDJM6bKlQZ42vQpcCWRA0JrEq1iFEHSl0uNJnjqMupKBVRNWs24IGvJrQ8ZePUI1mGDsSdx/szoAC3Hsg0fuK2otuhKCHMnwiUSIS/MukxXSvAbcS8Fwh8BG7WAuODeC41vWszZEEPkgXszXBa4V8PmKns3fN7LYbTilR1MT1770INqhZSJfHh9kbVDELRD2m4YIndKuxlF+I49YvhuIiSMA39YQnngjCacGz0hfSWK6hlTYH+oYrtDFt4buv8IT+QFeRjkY5CXQX4GeRrka5C3Qf4GeRzkc5DXQX4HeR7k9UCeD+T9QB4Q5AVB3hC+CRGbbwoe5xuCEm6GkoEVXoYSgRlGhpKAHTaGEoAhIoaSfyUShhJ/KfqFkn4t5oUSfjHOhZJ9NbqFEn05ooWSfD2OhRJ8QXqFkntFZoUSe0lShZJ6TT6FEnpRJoWSeVUKhVILD1oI0gpdaghSd1n2BJJ2ZQ4F0nVpKgUSdW1CBVJ0cVYFUnN1agVScnl+BVJxfZIFknCBpmVRb4W+BRJuidJl0WyN6gWSa5H+ZVFqlRYGUmmZJmaRaJ06BpJnoUqmkGalYgaSZalyBhJjrYL/BlIFYXoI0gS1igjSYLGi1FevIOEFrEVyDatQW2UuJREVzDZLBRK5Lusss8pGNC2zSURr7bXVGnQtFUpo6y23gEk77RIQVVGEEUcYUYRDHn3bbUHfMtHQEfjme0RD8ZK7GkXfNpGuvvmmy5G85W47rRMEEYxvv9POS9C3TzTsMMTOSjzQt1BYTDDGzWos0LdReKwvyNQmPO60UpicL8pUiFzFt1MM7LDBAPsLW0ff3nszzhMh/G/O06a7brvv8suzzrV9tvG1Trs5tNNC7xz1zEzrdnXVTUfNtdZeZ/1b2BGrfNnXY1Mt9tUjr8022mxjXfbUn8H9tttb4022swEBACH5BAEAAFYALN0ArAA6AI8Ahv////7+/v79/f38+/38+v37+fz6+Pz59/v49fv49Pv38/r28vr18fn07/n07vjz7fjy6/jx6/fw6ffw6Pfv6Pbu5vbu5fXt5PXs4/Xr4vTq4PTq3/Pp3vPo3fLn3PLm2vLm2fHl2PHk1/Dj1vDi1PDi0+/h0u/g0e/g0O7f0O7ezu7eze3dze3dzO3cy+zbyuzbyezayOvZx+vYxerXxOrXw+rWwunVwenUv+jTvujTvejSvOfRu+fQuebPuObPt+XOtuXNteXMs+TMs8qYZZ6MoYiGwIGEyykeFCUcEiIaER4XDxsUDRgSDBUQChINCQ4LBwsIBQgGBAUEAgIBAQAAAAAAAAAAAAAAAAAAAAAAAAAAAAAAAAAAAAAAAAAAAAAAAAAAAAAAAAAAAAAAAAAAAAAAAAAAAAAAAAAAAAAAAAAAAAAAAAAAAAAAAAAAAAAAAAAAAAAAAAAAAAAAAAAAAAAAAAAAAAAAAAAAAAAAAAAAAAAAAAAAAAAAAAAAAAj/AK0IHEiwIEEACBMWJMKwocGHECNKtJJQIcGGDQVM3MjxYEUACzESIdCx5MSPIC+KNGCy5UOUITEicElzIEyVGBXUrHlzoEgiDHbS7CnwpwOhLola+QkBaUulPyU4NQlVZIWpJativIC1o9aGGbpy/Mpwg9iNZIl0OHvyY8yGH9hKTBtCbsS0I+xCTFtC70u3OBui8GswrQrCBdO6QOyx4luGMBjbBOxTpAzJAtPSwEyRclGRNjinxSHa81KROko7DsyQh2qLlTH6eI3wMZEgtFPGbjgkN+7dDjGj/MGaYe4exYnk3pE8d47mwj/egC4ZZQ3qjFHOwI4YZQzuhFEu/wZuPHrFFeD9okyRXi9KE+3toiQRXy5KEfXZogSR/yxKD/2JhRIHAXaFkgYFYoUSBglOhdJV5ClnXkITNOgUShFYiBRKD2goFEoNeLgTSguIyNNHCZg41EcHqJjURwW4+NRHA8hIFVE/SVhdWgFMCNtnGNW4o2k/xTjkauS1eOSPp2GU4pK1FVcilLoB2VCIVNrWYZbFZcgleRT4GCV5FohZZZMNMfillQwhuCaaDBH45k8AzikSf3ZihF+eDdHHJ0Pw/UkEe4KyYKZtLxxa3HeCbifodYJOJ+hzgjInKHKCEifob9mhJISNXqEEBKhjoTRbhGa6hiqVqa3a6Uekuf/aHUqhyRoeSpvZqh5Kl+nqHkqR+SofSi2QihZKhwlrH0onGNvWR30pqx9KeUnrH0p1WSsgSnFpayBKa3n7l2kPVWHuuVUgESC656J0ZrnsVpHEuvG6u1G8VShBL7v2ToTvEhIWYcQRRhQRnL/1KgUvu0wwdMTDEB9RHsL8KmwQvk1IGDHEOkqEb78ex+sEQRs/zNHHFheE7xMkl3xywuReHC8ULW/8csUxqxxvFDVHfDO6IEeErxQ9Q/xzuykThO8UGpfcsdAwIxkyulQ47PTTEKGcs87sBjxwwQdPDXTShOHL2Ytblx01k5hpLTVnbrMtWdxjnk33u3OvXTfceuMazdjdZw8EeOBWDB644Xb3TXjhihOOON/sBgQAIfkEAQAAVQAs5ACsADkAjwCG/////v7+/v39/fz7/fz6/fv5/Pr4/Pn3+/j1+/j0+/fz+vby+vXx+fTv+fTu+PPt+PLs+PHr9/Dp9/Do9+/o9u/n9u7m9u7l9e3k9ezj9evi9Org9Orf8+ne8+jd8ufc8uba8ubZ8eXY8eTX8OPW8OLU8OLT7+HS7+DR7t/Q7t7O7t7N7d3N7d3M7dzL7NvK7NvJ7NrI69nH69jF6tfE6tfD6tbC6dXB6dS/6NO+6NO96NK859G759C55s+45s+35c625c215cyz5MyzyphlnoyhiIbAgYTLEw4JEg0JEAwIDgsHDQoGCwgFCgcFCAYEBwUDBQQCAwIBAgEBAAAAAAAAAAAAAAAAAAAAAAAAAAAAAAAAAAAAAAAAAAAAAAAAAAAAAAAAAAAAAAAAAAAAAAAAAAAAAAAAAAAAAAAAAAAAAAAAAAAAAAAAAAAAAAAAAAAAAAAAAAAAAAAAAAAAAAAAAAAAAAAAAAAAAAAAAAAAAAAAAAAAAAAAAAAAAAAACP8AqwgcSLDgQAAIEwIgSKShQyIGI0qcOFFhQoYPGwagyLFjQYsIMWYU4LEkR5ALB2ZsOMCky4goRT4k8LLmQZAyHRawaTOmypUGeNb0KXAlkQNCXxKtYhRBUpdLjSZ4ajLqSgVUS1rNuCCrx60PGXjtCNZhg7Encf7M6AAtxbINH7itqLboSghzJcIlEiEvzLpMV0rwa3AvBcIfARu1gJjg3guNb1rM2RBDZIF7M1yuslfD5r0bPiteyUH05LUPO5hWSJmIh9UXUTv8ADuk7IYgaqe0mzGE7oIrRfymPGL4bRLGeTsskTzwQxPNV56InhEF9YcprjtUob0hi+5EXID/fwEeBvgY4GWAnwGeBvga4G2AvwEeB/gc4HWA3wGeB/ge4PkA3g/gAQFeEJtxdtptQyQIkhCtOWgRgrdBVJuBFUqoEIEZ1iZgh5eBBCCIkYHkH4mNgcQfioiBpB+LhIGEH4x+gWQfjXmBRB+Oc4EkH49ugQQfkGiB5B6RY4HEHpJegaQek1mBhB6UVIFkHpVPgUQelkmB1EKEta0AZogWccelUCBldyZPIFm3Zk8WTffmUBZBN6dSFjF3J1QWIbdnVRYV96dWFgk36FcW+UaZhgnltmhttD1KpkKvSVqiRapZmqJFpWnaokWheRqjRZ6JWqNFmpmao0WWqdqjRYy5/xqkRRUAlxGjCE1g60O4AjCYrEVa1BewSVqEF7FNWiQXslFa1BazibHWERXUVovErg6VVG21gE20LbVJYNuQtt92K9G3VCghroXTlrsgReguMW4RRhxhRBHZeoSuuRGhy8S4RwQs8Lj6uistR+g2wa7AA5O7Lb8GoetEQQwH7DC373r77RMUV3wxtRAXhC4UHTP8MRUhE4RuFCULfHLKA6ErRcsWF/xwxud+O8XCFbOLsMGx/fwtwD37DC/QtrW77bz13puv0hgfnGDM306Np9RW74tzglpjPXXXQVtdBdhJi032bmYjjXbWaotN9c1ec92222PP7fbZdNcNd9hs7wpddt9R8/31twEBACH5BAEAAFYALOoArAA5AI8Ahv////7+/v79/f38+/38+v37+fz6+Pz59/v49fv49Pv38/r28vr18fn07/n07vjz7fjy6/jx6/fw6ffw6Pfv6Pbu5vbu5fXt5PXs4/Xr4vTq4PTq3/Pp3vPo3fLn3PLm2vLm2fHl2PHk1/Dj1vDi1PDi0+/h0u/g0e/g0O7f0O7ezu7eze3dze3dzO3cy+zbyuzbyezayOvZx+vYxerXxOrXw+rWwunVwenUv+jTvujTvejSvOfRu+fQuebPuObPt+XOtuXNteXMs+TMs8qYZZ6MoYiGwIGEyykeFCUcEiIaER4XDxsUDRgSDBUQChINCQ4LBwsIBQgGBAUEAgIBAQAAAAAAAAAAAAAAAAAAAAAAAAAAAAAAAAAAAAAAAAAAAAAAAAAAAAAAAAAAAAAAAAAAAAAAAAAAAAAAAAAAAAAAAAAAAAAAAAAAAAAAAAAAAAAAAAAAAAAAAAAAAAAAAAAAAAAAAAAAAAAAAAAAAAAAAAAAAAAAAAAAAAAAAAAAAAj/AK0IHEiwIEEACBEaJMKQocGHECNKtJJQYcGGDAVM3MjxYMWFGAl0HDmxIgCQDQ2QXPnQJEqGCFjKHOjyIkYFM2fWJIiRCIOcMncO7OkAKEuhAntCMLoSqZWeEpiSdNqzgtSRVDFeuNoxa8MMXDl6Zbgh7MaxRDqYLfnRZsMPayWiDRE3ItoRdSGiLZG3ZVueGFH0NYhWxeCCaF0c9pjwJREYi2n+HYpRRmSBaGlcpjg5KUYbm9HiCN35KUYdpBu7ZcgjtUXADX24PrmaSJDZjofMvg274ewftYnM7hF89o7il03mQB7Z5A3mi03WgH7Y5Azqg03GwN7XpOLeDpNX/1zBPa/JFOXrmjSRPq5JEu3XmhQR36xJEPXDmvSQn6tJDv1dZZIGAUplEgYFMmWSVeAJJ15CEyRolEkRSAiUSQ9YmJNJDWioU0ULeBhURQmIeFRFB5jYVEUFqDhVRQO4iBVSPTnYHFoBPKgaeDHeWFpPLfq4I2UNpSjka0QyVOKRtIEXIpOOdQhlbRlOCV6FViZJBAU6IulZQxZ02aSWCGb5JUMEmmlaQwCq2RN/bmKEX5wN0UcnQ/DdSQR7eqKnJwtiOvZCoLVtp+d1ek6n53N6LqfncXoSpydwevIWnUlCyCiWSUBoepZJsjUoZmuiMolaqZdWNBqq1ZkEGqvZmf+kGazdmWQZreaZBBmu6pnUgqdsVWQYr+6ZdAKwcpnEF7HymYQXs/aZRBe0+pkEF7X+maQWtn6V9lAV4IaLRH/hhmvSmBGVC24S5Kp7LkfqVqFEu+W+u1G8SzhUhBFHGFGEb/C669S36jLh0BEIJxzevQJ7a1C8TdiYsMIdxWvvRPE6UdDECFfc8JDpqvvExhx7XO/AD6sLBckTm2wuygXFGwXLCbsM7sUSxSsFzR0HfLLDMas7hcQc24jxx16GHC4VBxdtdM5Io6t0uPry6y/ADP8M8mbxbrYi0IdZDHPYUXtNkNhgD4b21petnXTbZZstkNtSw63125HRLffcccsNrffef/vdt9mBE65uQAAh+QQBAABTACzwAKwAOQCPAIb////+/v7+/f39/Pv9/Pr9+/n8+vj8+ff7+PX7+PT79/P69vL69fH59O/59O748+348uz48ev38On38Oj27ub27uX17eT17OP16+L06uD06t/z6d7z6N3y59zy5try5tnx5djx5Nfw49bw4tTw4tPv4dLv4NHu39Du3s7u3s3t3czt3Mvs28rs28ns2sjr2cfr2MXq18Tq18Pq1sLp1cHp1L/o077o073o0rzn0bvn0Lnmz7jmz7flzrblzbXlzLPkzLPKmGWejKGIhsCBhMtSPilMOSZGNCM/Lx84KhwyJhksIRYlHBIeFw8YEgwSDQkLCAUFBAIAAAAAAAAAAAAAAAAAAAAAAAAAAAAAAAAAAAAAAAAAAAAAAAAAAAAAAAAAAAAAAAAAAAAAAAAAAAAAAAAAAAAAAAAAAAAAAAAAAAAAAAAAAAAAAAAAAAAAAAAAAAAAAAAAAAAAAAAAAAAAAAAAAAAAAAAAAAAAAAAAAAAAAAAAAAAAAAAAAAAAAAAI/wCnCBxIsOBAAAgBGJwSpGGQhRAjSoSYUKFBh0EITNzIsWDFhRgRdBy58eNFhwxIqqSYEKRDCCtjEjRZECMFmThpEsSIAadMnQMxcvAZE6hAjCCIrjTK0CEJpSqZYkQBlaRUhy2qjrzaMIbWjlyD1PjKMWwOsiVbnmzYA+3Eij7WNnQrsaIOuQ/pskRoA6/evQBk+P1rsKKLwYRnJkyBOLHAiiUaO64YQnLiih0sE66YQfPfijdrYnSsGGEEz3orNkBNt2IC1m4rFoCNtqLFnaNJPw47QPcU2y4bHvANXO4C4mEfIFcruuGE5QiDB7kA/TbuhhuqS/+gXe6I7s2DnP8Afz0IC/JBHcJAf9QhDfZNG+KAj5FH9R+0v9rekV+r7Rv9VWXbDAFCZdsLBSplmwoJEmWbCQ36ZJsIEeZUkQcV/lSRBhkWVZEFHS5VkQQhRlWRAyVaVZECKW5VkQEtuoiQADGCZRRGQdCoW3HlBQHjjjdixCKQzKXnEIpERhdeECQmaV17DoHoJF4cTrkkhlb2SGGWRjYEIZdQNrQCezgiCGZ8DRF4Jo4ArokRf246BER19vWYF2m2zWdnde/t6eR6fuJZ0XmBTlbReIVeVtF3iW5WEXeNflZRdpGmVhF1lbZW0XOZxlaRcp3WVtFxoZJl23Cl6ldRb6n6x2OXQQT/4OSTaAYxm6BBOvQarkWGGcRqvCrZ42nB0opjBbPi1VmxeGXG7JKVPdtjZNLCyli1vh6Gba2CbYtjX95idFe4DsVVbFutGmjbWel69GpEUsQrbxFL3jmRvPLaRutC+MZrRL0d9SuFvhwJfATABfdL8EYCIzGXEEMQMYQQDgWs8LsQCZzEXER07PFcCeO78L39KnGnxx9bLDLG/Pa7REEod6xyviwbJDATMMc8c7wjSyRwEzmjvPPANRcksBNBezx0z/D2+0TSModMM1M29wvFyTHb6/PFVBvdbxQcZ6110yt37TW+D0c8ccVS81x0YgL7ZqLZhAnMtG92v103173iKs23sHJPkTfdfw3et26GAy534vuSxnjgAz0OueB/N+6Y5JBjHrjmi/cbEAAh+QQBAABbACz2AKwANwCPAIb////+/v7+/v3+/f3+/fz9/Pv9/Pr9+/r9+/n8+vj8+ff7+PX7+PT79/P69vL69fH59O/59O748+348uz48ev38On38Oj37+j27+f27ub27uX27eX17eT17OP16+L06uD06t/z6d7z6N3y59zy5try5tnx5djx5Nfw49bw4tTv4dPv4dLv4NHv4NDu39Du38/u3s7u3s3t3c3t3Mvs28rs28ns2sjr2cfr2cbq18Tq18Pq1sLp1cHp1L/o077o073o0rzn0bvn0Lnmz7jmz7flzbXlzbTlzLPkzLPKmGWejKGIhsCBhMtfRy9dRi5WQCtUPypMOSZKOCVCMSE4KhwvIxclHBIbFA0SDQkIBgQAAAAAAAAAAAAAAAAAAAAAAAAAAAAAAAAAAAAAAAAAAAAAAAAAAAAAAAAAAAAAAAAAAAAAAAAAAAAAAAAAAAAAAAAAAAAAAAAAAAAAAAAAAAAAAAAAAAAAAAAAAAAAAAAAAAAAAAAAAAAAAAAAAAAAAAAI/wC3CBxIsOAWAAAMDkySRKHDhxAdInzIMEHEixgLTnTI8EHGjxc3KmRYAaRJiQk5JvFwsiVBkQYZknBJE2ZBhipourRJkOEMnS15LkySA+hJoQIZ/jBqEukWhkWYgkRIRGVDqRkR+rCKNSsAHFy7hgQQI6xYiAhTmD2LcgTFq2xRdngb9yFCCnTrKkToIK9ejQAO+P07EGHKkUkCEH7plKGCxYUbJ4EAWaDhtxcqH5T8QfNllSU8S2Yh+nDMJDRKv9WhWiUQzZvfGoGNcMjaxQh73CaM8Mbuvwhh/NaLEMXwughFHI+LcMNytggnPD+LsMF0sQgLXO/6+XSSAa29L/8If5NhBPI9GWZAPzQJCPZDTcBPmqTF/KdJatxnuGN/kiD+IVGaENtJZRgPBTJlmA0JGmWYCw0CZdgJEepkWAgV1oTQeojBhRtCEmS4E0IMiBgUQgSYeKJp6SWhXWXdlZdEiTAixVASIdbIYnsazHcjhjpaRWGQHb7gI0MMEukdgkrKSKCOR3ToIW8IAejdlMAh1N+VpaXGpY6kfQmZYfKJ+SEA73VYGgYqNoXQeWrqOF6cYyIkQJtTxdiiATruSF8S1tVpI0PSCeonfklw0KdVyhlqlXGOdihcpN75RqmMul3aom06RmUmlQC89mmWALA2KnEI/XQqcgitIGVpoa3/yhxCnckKHUIWvKojZbZSh9BjvWKn559YoirUjUkgsOiVfWlKLF7OIprEXNEi61a0iKqF7Y0yjOiUQVqEq4VVUoAkrhaGHarQuVZBYa646X7EbodOvBtuvBmd28SNWyzBxBJK8CsvvMM+dO4TDA3ExMJMJDzwvQU7dG4UUzLcsL3oRryuuFMoZDHG+GJ0LhUeMwyyxuCKW0XJC5/8bUHnWsEyEy6rm3K4V8xc88NaYFExw8UaTPDLBJ2bhcNbWIy0yEPbfLMW/PoLsMD5Ng3b01djFHLWW5y7ddZeo7xY2ET/RbbThJ3N9UBqr9211W63vbbcXNMNNtxz41233ndDBly2XucGBAAh+QQBAABbACz6AKwANACPAIb////+/v7+/v3+/f3+/fz9/Pv9/Pr9+/r9+/n8+vj8+ff7+PX7+PT79/P69vL69fH59O/59O748+348uz48ev38On38Oj37+j27+f27ub27uX27eX17eT17OP16+L06uD06t/z6d7z6N3y59zy5try5tnx5djx5Nfw49bw4tTv4dPv4dLv4NHv4NDu39Du38/u3s7u3s3t3c3t3Mvs28rs28ns2sjr2cfr2cbq18Tq18Pq1sLp1cHp1L/o077o073o0rzn0bvn0Lnmz7jmz7flzbXlzbTlzLPkzLPKmGWejKGIhsCBhMtfRy9dRi5WQCtUPypMOSZKOCVCMSE4KhwvIxclHBIbFA0SDQkIBgQAAAAAAAAAAAAAAAAAAAAAAAAAAAAAAAAAAAAAAAAAAAAAAAAAAAAAAAAAAAAAAAAAAAAAAAAAAAAAAAAAAAAAAAAAAAAAAAAAAAAAAAAAAAAAAAAAAAAAAAAAAAAAAAAAAAAAAAAAAAAAAAAAAAAAAAAI/wC3CBxIkCCAggWTIFzIsKHDgw2TJHBIsSJCiAyTPLDIsSLGhUkqdBzJ8CPCJB5IqjToMAmJlTBNJlQBc6VMgklm1FR5c2CSHDtJ9hSY5EfQkUO3JClytCMAIi2bcgTgI6pUjzisXn0YQ+vWkim8fr04QuxYgx3MnhUIgILatQAcvD0L4MBcui0DrF2YNImCvRdbQgBcsO8FwiwjfkA8sG8JxmxbsoC8pS8Nyn11YG4JZHNEI5iH3P0KoMforQBunL4KAMZqqQBQvG4KQMTsowA23A4KYMLunQAa/K4JoMBw4i0HeM64YDnICM5PZoieEAR1nCau+2yhnWiN7kp3gP9PEmQ8EsxCjtvkoZ6njfZCXcBHemK+0xD2p06PiFlCfosAMPCfRwQM6FFLxkHWl4AKtuRfgxFpMB5+EGZUX4UgvTDeexiexF6HCaWn4BEGPlQefwqKhyJjAFy2ImIATPYiYQBkNyNgAFh3414AYFBiQwBAtyNczQ1JlwA/AtmSAeMJByJOvj3pEwfj2SYlUbJdqZRrWiahWpemdSmagkwZORYAnZlJmmZqoqZTm6ytkCRfj8EJ22J20mbBnBcNliduf/2JG5+BRYTAeHJ16VaXaXVZVpdhdSlDTCpp0ZIUK2mRFEOWRgRFppsu1GlGToBaaRNEKbEEE0soQZSpJGmC8YRSCDFBa6WhIqRFFAotxESvseZakBZTOGQrrpVSYSysI2lRxbLIxmoFtMFWegW1zQpLkBZYAFvQr8x2pEUWtxJkq7fiarttqqu2+mq0lDU0arxK0supuoBpau+9+4qK71769jvsv2sFLPBABh+8RcIHMyyww/1CvK/E9lJMrxYBAQAh+QQBAABTACz4AKwANgCPAIb////+/v7+/f39/Pv9/Pr9+/n8+vj8+ff7+PX7+PT79/P69vL69fH59O/59O748+348uz48ev38On38Oj27ub27uX17eT17OP16+L06uD06t/z6d7z6N3y59zy5try5tnx5djx5Nfw49bw4tTw4tPv4dLv4NHu39Du3s7u3s3t3czt3Mvs28rs28ns2sjr2cfr2MXq18Tq18Pq1sLp1cHp1L/o077o073o0rzn0bvn0Lnmz7jmz7flzrblzbXlzLPkzLPKmGWejKGIhsCBhMtSPilMOSZGNCM/Lx84KhwyJhksIRYlHBIeFw8YEgwSDQkLCAUFBAIAAAAAAAAAAAAAAAAAAAAAAAAAAAAAAAAAAAAAAAAAAAAAAAAAAAAAAAAAAAAAAAAAAAAAAAAAAAAAAAAAAAAAAAAAAAAAAAAAAAAAAAAAAAAAAAAAAAAAAAAAAAAAAAAAAAAAAAAAAAAAAAAAAAAAAAAAAAAAAAAAAAAAAAAAAAAAAAAAAAAAAAAI/wCnCBxIsOCUIAYJAkjIsKFDhggbElj4sKJFghEZIqB4saPDjAkZcPRIsiBIgxBGllx5siAFlStJtiSIAWbMjjMHcrB502JOgSB49nz4cwoJoUMbFkWBNGnCID9bNHVq8meMqVQHQm1YA2vWgz9zeM26lWGPsVR9FEXrVMfarxZtvIX7UMZcug1d3MWbMMVatkNL/OXLMMRgwgY7HEZMMMNixgIpPIYcYTLjBpYRJ8hMuABnwp/5lk04APDQ0QYPmO6JuuCC1TdbE3wAO6bsgRNqs/x5QXfJ2wI3+Jb588Nwj8CnjDiO8+cJ5heTswAAvWJyGNQhY/xJI7t2gclxeP//npzHeO0/QtPdoR7ujfZfZ8DP+mI+VRX2nZpIfh6yCP7VPeQBgN8JpAGBBVqA4HcSLKidAw5CpkCEjBlAIWICXIhYcgL0x1hyBni44U8KiAjaTw6YKNpPEqiIV3IWuEhXchrICFdyHtj4VXIi6EjWTyb4SBVUOa0gpFNEMvTCkUklmdAMTJ4G3A1RsgbcDlXGBhwQWcbEg4Z84QAmXjSMSRcMZsLFQppfnQBggA2N8GaBH8z53QZ2andBnpBNwCdjD/yJ2AKCEnZAoXwNgOiKOQXQ5W45FfDob8AlMClxOTVwKXLARbBpczlV8Gl0wGUwqk/AdXCqdcCFsCpRwJXw8OpHwKUwq1LAuUAdnBABJ8OuBTppkA3AkgecDsVqJ2xBPiQLWQ+L0pVDtA5JYa1HRSRnrRQk7bqtR0Zoe61H3o570RHicksudd92hASRQgxBxBBCENluR+Wqe1ESUBHh73b3XpSvR0oE4S8RBgURsEUDd7TEwQwtXFHDFzEBcUISP0SxRU1cbFDGDm1ckRMeFwRyQyI/9ETJBJ3MUMoOQWHwvya5nBDMDUXRL83gKWyuwOz+jGoQ8c5bL1Q2G4RzgVM4y3S1Qj8t0NIFUv2d1dphDZnWjHGNmNeEgc2X2HiRTZfZcKH9ldpZsU3VrgEBACH5BAEAACAALPUArAA2AI8AhP////37+fv38/jz7fbv5/bu5vTq4PLm2vDi1O7ezuzayOrWwujSvOXOtuXNtcqYZZ6MoYiGwIGEy19HL1dBK087J0c2Iz8vHzcpGy8jFycdEx4XDxYRCw4LBwcFAwAAAAj/AEEIHEiw4IODDwoKBMAQgMKHECNGRJhQYYCGDiVq3EiQ4kMBGDmK1OhR4YCQI1MqLFmwAEqVMEGwJGjgZcyUMwcesHlTZE6BCHj23PgTRAKhQyUWVYA0KcSiC5o6XYnwIQOpUztWVegAa1aBDbYq9PqVgdiCZLMuOEsw7VQFRd06TRC34VeNCOoyvCvxgN6MfB8a+BsYIgHChU0iTkxQwGLGAgM8hiyT7UK7lAcWvbg3s8CiIDt7LnpSdOaiLk1TLlpTNeSiO10zLhoU82nLRuUmXap7KNTePYtetb0ad1fikMMehAj8ptnlD5vHXAt9LHLGcKujvZ6Yrva23Avn//0+UDpMv+Qvyy48OD0I8yoPu4efcsBkxo5x0x8pWX/4wvfNhhtngN2WXmgFFpdeaQm+hltqDQqYXmsRJgbbf4HRhiFfRR21HoC4MfVhhrhFNSKHuA1XIYjpNbDhXcpVZN2JZeH23otq2bifSNnJuB2NWXnnI3hATjXekOXhOBV6SKq3Il/tNXljkU7JJ+WOHNk3n5JO5Xcll0n19yWVTukI5m7uEejZZ+4huGZlUjL4Jmpn+oYbhXPiFtuTKKZXG593dVhncCEOetNvZKKZnop5tmhoTDEyl+hQz435JnWWrtmjpIB+JSSnbx4J6ppMctrpVFGauqaVqnqm5Zindvdp5qQ3idnqaFvSemiaj8Jko5tr2ihnsO4R0KtKNuJJrJR7NgrRn84+5GGsZbonIrWKNmkitnYuaugH4OKE2wTgfqBSQ+WmNIGN6aaEbrgjUcAuvCO9a+5IFSAEQQQSRAABQu3Wy1DAHFlwkAQIa0UwR/amdMEDCEuw0sIbNTwSBhFDRLFGFouUQcYPbSxRxxxpALJCIkdE8kYbnFxQypzCrBAHLhMk84w3E9QBxAkblDORPwvkwcE9sxm0ekfDuW+//x6U9MpvEhm1SEkXBvXUU1Yd2NVTcx2112+CvabYnpGdmdmUoQ2Z2oyxnZjbVg9ML9ZJAhAQACH5BAEAABsALO4ArAA6AI8AhP////37+fv38/jz7fbv5/bu5vTq4PLm2vDi1O7ezuzayOrWwujSvOXOtuXNtcqYZZ6MoYiGwIGEy19HL1dBK087J0c2Iz8vHw4LBwcFAwAAAAAAAAAAAAAAAAAAAAAAAAj/ADcIHEiw4IYHCBMWBMCwocGHECNKPJgQYcEADR1O3MhxYEWLBAVkZNix5MSPDwoOGAnApMuHKAsWYPmypsePBQ3QtFkzJsEDO3m69DkQQVChJYkKTHAUKUelGxQ0dXoSJ8EFU6lGhMogq1aYVgc68Pq1YAOoZMsOZIB2pNqJC9pmfCtRgVyNdB8muEsy70MEfFv6NXgg8GCDBgwfJkhA8WKBAxw/FiB5cYDKizEfhorR7WOBUEV6/gx15ejHUGeezhxWoM7Vm1tvAAp7MFSjtf1CZZo7L1SpvelCxRr8Lde0xmWPLa72rGzkatk+Z1427vS5n6Nq9rv3Ot7HgL33//1cWLzgz4nNZ9/QWH32yO4/U47/+DJ91PdZV7wIvWzo/l+VBqBWqQ1IFVSvYUeabLQpiN9+BOHmoH4KEcTbhLFBOBBwGNomG3Ed6iZbV9QFKFsDBjrlnIYCpYiUdCxu4KJQ1sU4I0925TdYdzaWqFV4PYaYV3lBfrdYekWO91h7SZ73GHxNrjdflNnZR2V224kYY2dCCiebaF0mF6NpYapVoI8HypagkRlWOFCDbHoYo4RxaunmUjfa9FuePX3I50vHoekUVCgKitSKd8poqFAwJvqnSzU6uiiOWdLFo6RllgUkpnUOWelbSHKq5GJMiurkYlCaKuWnalmp6nqsmv8pG5edehkjmLWKmSiZucoaIwGPmoRgsEkxSGxHtx37lGwX9uqfbBw6a2KMIEpL4Ig3aqDtthosG+ME3GrLEUsAhCvuRhNAZe64LJnb7UYUqBsuuyO5y1EFCEEQgQQRQADaA+tuRK69G1nwgAQIJyxBQgFPNHDDEl2gcML/QhzRw/NuNDHCBAGcscPtWgzRxhJ0LPJDGHPLEckmfyxRytuuvHHLKgscsssRsezRyQbBfO5EGOiMEM8L3VzzRBkcvDHDOEPk87sb5btvvxU3jbLRMa83ELlau0Rw10933SLWP2sdtthng0021GavLbai9RJ9WNptx231Y3Svl3d2e38I1jfebqPNUkAAIfkEAQAAUwAs5wCsADoAjwCG/////v7+/v39/fz7/fz6/fv5/Pr4/Pn3+/j1+/j0+/fz+vby+vXx+fTv+fTu+PPt+PLs+PHr9/Dp9/Do9u7m9u7l9e3k9ezj9evi9Org9Orf8+ne8+jd8ufc8uba8ubZ8eXY8eTX8OPW8OLU8OLT7+HS7+DR7t/Q7t7O7t7N7d3M7dzL7NvK7NvJ7NrI69nH69jF6tfE6tfD6tbC6dXB6dS/6NO+6NO96NK859G759C55s+45s+35c625c215cyz5MyzyphlnoyhiIbAgYTLUj4pTDkmRjQjPy8fOCocMiYZLCEWJRwSHhcPGBIMEg0JCwgFBQQCAAAAAAAAAAAAAAAAAAAAAAAAAAAAAAAAAAAAAAAAAAAAAAAAAAAAAAAAAAAAAAAAAAAAAAAAAAAAAAAAAAAAAAAAAAAAAAAAAAAAAAAAAAAAAAAAAAAAAAAAAAAAAAAAAAAAAAAAAAAAAAAAAAAAAAAAAAAAAAAAAAAAAAAAAAAAAAAAAAAAAAAACP8ApwgcSLDglCAIEwYhCKChQwAGI0qcSFFhQoIEHjqkyLGjQYsICSLQ2NCjyY4gFw5kQBLiyZcRUxKE0BKmTYIyB1KoefNmToEYePaE+XMKB6FDTxYFgTSpx6IkmjrlWBSF1KkTi7a4ijUmSIIxuHYtmFLllBpixw4sOzBHWrUHf/Z4q9ZHUbpjddwlCZeijb0a+06UAfihYIkuCm88bDCF4pKMC5Z47DLywBCULRPskFmzwAydPVOgXNlyBNKepzRA7TkBa80FXmuWbbnoALxdix7AjbXoAt5Tiz4A7rToBOJJi15APpStwA3Mezqf8iG6z58jrNucfkI70Z8svL//nA5DvNKfNMybnI5D/dOfPNx3/BFa8476lm/gjzxjP+MXtDGmQoCHmUCgYCIc2JcHCsKlQYNqWQDhWBJM2JUDFmKlQIZTGcChUwJ8WNxPAshH1U8GmFjRTwqomNVPDrgo0XQSyOjVVwJZYONHP2mwI1k/efAjTj+JMORaP5lwpEDTrbBkXDhO8cKT081A5U83tFRaZNPtoGVq0wHxpWc8iDgUDmb2REOaN8HApk0svAnTCXK+NEKdJ32Ap0kb7OnRBdONqdkEgS75QKF8ebYAooF5dgCjhnk2AKSLeTZdAFdGWUCmFg2UAKcKDdQAqBcJFAGpIQlUAapmZcDqQB0I/1rbTyHIyuVPJdjK2HQp6HrYdC74Kth0Mgjb13Q2GAvXdDooq9Z0Pjg7Vg9+dpRDmlJkq60UHRVR1LbbdtQSuNl2ZMR05JbL0bjkdnQEuumKS1K8HCGRkBBDEDGEEEymy+2687bLURIIEWHwwUQg5K+8GtFLkRJBIHxwvw5PxC64HS0hscEELQxwwwJTxMTGRHRcsUQXh8tREySbHLLFAWPMkRMtD+QxRSlr29ETNQt0M8wgy0wRFBFvTPHLKMesMkVRFLyxwidHlLO6JwaBr778HvRz0kEvndpAT94UdWpT//s12ErrfDbaXau99hRlvy1Q3HLT/bbda+N9tt5f8xRNdtpU5w242YK3Hfjeg8sNN0kBAQAh+QQBAABVACzbAKwAPwCPAIb////+/v7+/f39/Pv9/Pr9+/n8+vj8+ff7+PX7+PT79/P69vL69fH59O/59O748+348uz48ev38On38Oj37+j27+f27ub27uX17eT17OP16+L06uD06t/z6d7z6N3y59zy5try5tnx5djx5Nfw49bw4tTw4tPv4dLv4NHu39Du3s7u3s3t3c3t3czt3Mvs28rs28ns2sjr2cfr2MXq18Tq18Pq1sLp1cHp1L/o077o073o0rzn0bvn0Lnmz7jmz7flzrblzbXlzLPkzLPKmGWejKGIhsCBhMsTDgkSDQkQDAgOCwcNCgYLCAUKBwUIBgQHBQMFBAIDAgECAQEAAAAAAAAAAAAAAAAAAAAAAAAAAAAAAAAAAAAAAAAAAAAAAAAAAAAAAAAAAAAAAAAAAAAAAAAAAAAAAAAAAAAAAAAAAAAAAAAAAAAAAAAAAAAAAAAAAAAAAAAAAAAAAAAAAAAAAAAAAAAAAAAAAAAAAAAAAAAAAAAAAAAAAAAAAAAAAAAI/wCrCBxIsKBBIggTEiEIoKFDAAYjSpxIkWAAhQkZPnRYsaPHiAIwItS4EeLHkx4HiFw4sGRDlDApElhJcmPMmwYL0GzpEqdPgQZ2CnRp8ufNA0KrEDWKE0HSpUxjJnjaMypMBVRLWoW5IKvNrScZeH0I9mSDsRzLenSA9qXajg/aFn07EcJKlkqr0p0Y4S5PrXsnSvA7VG9ggxQI5wV82KAFxVAbF7wA2bBkgRgqM74sMIPmr5wFavhMNrTADaTTmuaQ2q3pDq3ncvYQ27TAD7Vtg8htOgTv0CJiy5Y8QrhtEsZNl0ge2gRzzieeX0YhXXKK6o1VYD/MYntgF973vv8ITxcG+bcxzquVob7sjLssiQ5vTAN+YcuSa9hfvPmyjf3y2XYDgJFxhgOB+DWWA4L9SaYDg6BxtgOEpYXGA4WqcdYDhq5x5gOH8x32A4i2AUGiaUGcGNoQKnIG30JCyBfiXi9WEYSMptUIBI6h1fgDjy7a5wOQl9XYA5GS1cgDko3VuAOTh9WoA5SB1ZgDlTTahwOWdNV4A5dv1WgDmGrVWAOZZdVIA5pg1TgDm1u9SIQMcFolZwx1RiUnDHkyJecLfRolZwuB/iTnCoX6JKcKieIkZwqN3iQnCpHGJOcJlcIkpwmZoiRnCZ2eJCcJoX4k5wileiSnCKl2JGcIMs7/GOaLIMTa44sf2BokfB7oWuSLHfia5IscCNvkixsYG+WLGihb5YsZOJslfBhI2+WLFlg7K3wVaFvmixN4m+aLEojb5osRmBvnixCoa+eLD7ir54sOyEsQFfjmqy++EsmJxL4ASxQrAAAHHJGcSRSsr8CxKrzwwS8q4TC/EQ08McUHIVSEEUcYUURCS1zMsIwXU9EvEUekrPIRCDEhcsUNv3zQyjQT0YTMBVmMM0E09+zEzn/JV7JEPdP8BND3CY10FUWvDMXSOk9MdNMpRwF1zFJHRHXKUlxN8tIoN03EFF4rnXXGRSM0NMxfn11QQht3/PFIZRO1tmQD2+bT3Y1FN+0wZ34rDDjWf18WeMGDt1043oQLbnjjiD+uuOOMTx555WYv3jfkBmNu99JvHd755paPftjAAQEAIfkEAQAABgAs0wCsADsAjwCC////yphlnoyhiIbAgYTLAAAAAAAAAAAACP8ADQgcSLBgwQAIEyYUCKChQ4cGI0qcOFGhRYYPH1LcyNGgRYUYMzbsSJLjx4UGREIsyTLiSYQhRbacSfBlgJgZaeq0iVOjzpk8U6oE8BPoy54ri5YMOpSo0qVHhap8CvUk0pFUOzIdmlVr1KZdTX7lGpbi1qllK45Fm9blWplt3VqVCjfuwbc57d6dC1ZvTbw+/Qo8W1cw4byCDRwObBhw0sZ8ySZe/NgvZayTHWOG/PGq08yR2XK+SBfxaJClGVvW/Pk0yr6gO6eurPdy69WhC+OWDds1zNmbd5PuLRw18dqsEw9Orty2csXMYw+X7Psm8NvIc5su/po699/H7Tr/bx69uufn46Ub956dN3vx5b9bDx83vfnr6OO3R42fvOz+6v0GoG8D0ddWVAN+V+B79c2V4H4oPQjffwamhWCFZV3I4IEOYhiWhqIpeJ5/pEnYIIUbWthhihmuGCKEAnrYFYi6wWidiRyi+OKEJcqYFY3b2bjgjif2yOKHLtbII38+UgWkakKOGOCNTT71JG1LRlilUlcGFyWOKuqoZJFMHjljkkFmGaOZP6IJpZpUsumkm1iSqaWcVtLpJZxDjpmjkUT+WWagYQLqZ6GDHjpRAYw2yqhY/zkq6UZDSdoopCVaeilFlWqKKX+aPsqpSqFCKsAABAwgwEChFkApqZ5uoYQQAbTWSoBirb4qUqmy2morrrxO1KmlHPlaK6vBSjTspBsZSyuysQoLK7HNOgsttdLuGu1Ezt4qUK6jaostt9Z+m2xEyzpqUrfAbovutMyaFYC1AZz7rrjxqhXAqamuau64ysKr7nN9vkkwR/Ymlu6mBy8sasMCM0yww64eDFzCglFs8cXuKqexxR9DjO/AImeEsV8hTxzxwyqPLPFzQwUEACH5BAEAAFUALMoArAA8AI8Ahv////7+/v79/f38+/38+v37+fz6+Pz59/v49fv49Pv38/r28vr18fn07/n07vjz7fjy7Pjx6/fw6ffw6Pfv6Pbv5/bu5vbu5fXt5PXs4/Xr4vTq4PTq3/Pp3vPo3fLn3PLm2vLm2fHl2PHk1/Dj1vDi1PDi0+/h0u/g0e7f0O7ezu7eze3dze3dzO3cy+zbyuzbyezayOvZx+vYxerXxOrXw+rWwunVwenUv+jTvujTvejSvOfRu+fQuebPuObPt+XOtuXNteXMs+TMs8qYZZ6MoYiGwIGEyxMOCRINCRAMCA4LBw0KBgsIBQoHBQgGBAcFAwUEAgMCAQIBAQAAAAAAAAAAAAAAAAAAAAAAAAAAAAAAAAAAAAAAAAAAAAAAAAAAAAAAAAAAAAAAAAAAAAAAAAAAAAAAAAAAAAAAAAAAAAAAAAAAAAAAAAAAAAAAAAAAAAAAAAAAAAAAAAAAAAAAAAAAAAAAAAAAAAAAAAAAAAAAAAAAAAAAAAAAAAAAAAj/AKsIHEiwoEEiCBMiHAigocOGBiNKnEgxgEKFDB86pMixY0QBFxNm1AjAo0mPA0IuFEgS4smXEgmoJDJSI8ybBQvMrPkQp88qBnaybPkT5wGhVVqWLAoTAVKlTGEmeEo06kkFVElaPbkgq82tHhl47Qm2Y4OxG8tydIDWpdqJD9oufSsRgly6EyPcxRtRwl6+BSn8BTzQwmDCVS4cJoxhMeAMjvlqiIx3A2W6HC6/7aBZrYfOZT+ABgti9NYQpq2KSB11BGumJF4XLSH7p4naPk/gxoli980UvmGqCP6SBfGTLo6bfKHcI4zmHWNA5yhjOsUZ1ifSyC6xBveINr4b/7whviCO8gRzoB+oY73AHe6r8IjfI76P+D/iA4kfJP6Q+DPRVIUQUCE2UIACBVGggVUgWAUQCxro4A8RIuagDxUS5mAPGQLmIA8d8uXgDiHi5aAOJdLlYA4pvuUgDi2q5eANMZbloA01guVgDTlu5SANPVrl4AxBRuWgDEUy5WAMSRblIAxN/uTgC1H65GALVeLk4ApZ3uSgCl3C5GAKYb7kIAplnuTgCWma5KAJbXrkYAlxduQgCXVy5OAIeVLkoAh9TuRgCIFK5CAIhUbk4AeJHiSUB40W5GAHkRLkIAeVHijUBpkK5KAGnTYoVAahOohBqUJZgKpKAlWwakgCTfrw6kUCSTArRlVEcKtIVUCw60oP/CqgA1FSYeyxx+opFBLIIsuRUgA066yfQiUhrbHPKnUtttSyWoUS22bb0rZUKEtEEUYcYUQRAi4RLkXQkqvsEfTWe4RATLw7Ubz6Gmrvv0Q00W9E/F7L0b/2CuTEwAYVLO3BCNMr0BMMF+RwsxBHLBAUFRN08bQTRSxxFVF0zNND8lIk8r1VSGHyUOO+3ODKREwh88fJUqtxFSnvq63MCaGrLrsC9SwRztwyCLNWSvtkNINIl9t0Uj8bPHXUU1Mds9VNY3111Q9/vXXYXYONsdgkPW2g12WPfXbbactMF9tK0w21UgEBACH5BAEAAFYALMIArAA7AI8Ahv////7+/v79/f38+/38+v37+fz6+Pz59/v49fv49Pv38/r28vr18fn07/n07vjz7fjy6/jx6/fw6ffw6Pfv6Pbu5vbu5fXt5PXs4/Xr4vTq4PTq3/Pp3vPo3fLn3PLm2vLm2fHl2PHk1/Dj1vDi1PDi0+/h0u/g0e/g0O7f0O7ezu7eze3dze3dzO3cy+zbyuzbyezayOvZx+vYxerXxOrXw+rWwunVwenUv+jTvujTvejSvOfRu+fQuebPuObPt+XOtuXNteXMs+TMs8qYZZ6MoYiGwIGEyykeFCUcEiIaER4XDxsUDRgSDBUQChINCQ4LBwsIBQgGBAUEAgIBAQAAAAAAAAAAAAAAAAAAAAAAAAAAAAAAAAAAAAAAAAAAAAAAAAAAAAAAAAAAAAAAAAAAAAAAAAAAAAAAAAAAAAAAAAAAAAAAAAAAAAAAAAAAAAAAAAAAAAAAAAAAAAAAAAAAAAAAAAAAAAAAAAAAAAAAAAAAAAAAAAAAAAAAAAAAAAj/AK0IHEiwoEErRBIqJEIQgMOHAA5KnEjRoICFChtCdFixo0eCBDAm1Ljxo8mKBkQyHLiR48mXBhGoJAkRps2BCmaybHnzJgOdAltG7AnTAVArQonChHA0qdKTEpryfGqygtSSVD9euFozq8cMXB969bghrMuxFDuYHYp24oe1bSmGgBtX4gi6dQ2WwJuXIAq+fQWqABzYBeG+MA7nlaG4Lo3GcW1AbotjMlodlsfyyOzVB+esQT5THSL6qcqVVoI4DTzw9MAfq1kjBNojNmvXAnfYDozbSo7dfXvfAJ63dw3idXvPQB63dwzmbXu7gI629wrqY3unwO61twnuWXuT/wBPtbcI8qaBgkCvtLcH9kR7c4Dfs7cG+jd7Y8Bvs3cF/jD1NgGAL/UWAYEn9fYAgib11gCDH/W2AIQe9ZYAhR31dgCGFfVWAIcU9TYAiBP1JhRbrAWwFoqBDbCibAIV8CKMB8woWwI2srZAjoE1wGNfD/yYVwRC1kVBkXFZgGRbGCyJlgZOjsVBlF55QGVWIFxJlQhaPkVCl0qZACZRKYzZEwtm3vRCmjbFwCZMM7z5Ug1ynnRDnSblgOdHO+zpUQ9+dvRDoBWFJhJNXcnWmxAnwjjboQIB0SiMvfkwqaJA8XDpbUDpsClvQOHwaXBA2TBqcUDRcGpyQMmwanNAwf/wanRAtTBrdUCpcGt2QJ2wa3dAlfBreECNMGx5QIVwbHqQWvHBsu0B1QG0AlVh7bXWZggUEthiW9GJ3V6rbbNJhJstReCaOy5GAylhbhXfCvXuuEUYcYQRRQy0xLzoyqtuh0QcIfDARyDEBL8TpRtuhgQTjFATCEukcLcdNTzwQE5EfNDE3lZkscADPaGxQRyL6/HHA0ExckEln0vRxwULFMXKiD5EM0EwDyTFzUH5u3CHORMxBc9I+UwxwCgTQcW//bZE9KP13ptvtUwnbHTHjvY8VdYvPR1Xy/ByXbTTVTsKtthjb+R1W2eL3TbXb2cdt9lXmwx33S7LjXfYd5MM/XPfapcN49yDCxUQACH5BAEAAFwALLoArAA7AI8Ahv////7+/v7+/f79/f38+/38+v37+v37+fz6+Pz59/v49fv49Pv38/r28vr18fn07/n07vjy7Pjy6/jx6/fw6ffw6Pfv6Pbv5/bu5vbu5fbt5fXt5PXs4/Xr4vTq4PTq3/Pp3vPo3fLn3PLm2vLm2fHl2PHk1/Dj1vDi1O/h0+/h0u/g0e7fz+7ezu7eze3dze3dzO3cy+zbyuzbyezayOvZx+vZxuvYxerXxOrXw+rWwunVwenUv+jTvujTvejSvOfRu+fQuebQuebPuObPt+XOtuXNteXNtOXMs+TMs8qYZZ6MoYiGwIGEyz0uHjgqHDQnGi8jFyogFSUcEiAYEBsUDRYRCxINCQ0KBggGBAMCAQAAAAAAAAAAAAAAAAAAAAAAAAAAAAAAAAAAAAAAAAAAAAAAAAAAAAAAAAAAAAAAAAAAAAAAAAAAAAAAAAAAAAAAAAAAAAAAAAAAAAAAAAAAAAAAAAAAAAAAAAAAAAAAAAAAAAAAAAAAAAAAAAAAAAj/ALkIHEiwoEGBShIqVEIQgMOHAA5KnEjRIIGFChtCdFixo0eCCDAm1Ljxo8mKC0QyHLiR48mXBh2oJAkRps2BEWaybHnzJgWdAltG7AkzA1AuQonC7HA0qdKTIJryfGpyhNSSVD+auFozq8cUXB969cgirMuxFGOYHYp2Io21bSnigBtX4g66dQ36wJuXoBC+fQUaARxY5UouSJwGHmh4IBHFi7k0FggE8uLJXHpYLgxUx+a+mG18zotZxui6mF2cjot5xeq2mFG8Rou5xOyxR0Xc9nrUw+6sRzn8pnr0wvCnRyccV3oUwnKiRxs873lUwfSbRw1ct3lUwPaXAday/11cQHxkgQnMn2egPvKD9oslwA9sYX7fDfbzeshfNwT/uCT819YJAqK1QoFjtYCgVzIsmFUNDlKVQ4RP8UChUj9cSNQQGvZ0BGGgAWXEdy9hNgSJJ2H2A4omYcYDix9hlgOMHmFWA40dYRYDjhVh1gKPFGGmApATYXYCkRJhRgKSB2EWApMGYebbVOdhpgGUBWFWAZYEYRYBl4wB9QCYCAHFAJmSAZUAmpgVwCZQQo0X2ACYxXkeFwfUSaYCelK5WAN9YhUZBIF2FdkEhYp1HgaJnrUYB43K2dcHkd4pQqXnldDhTShsatOBItFk6GIveArTDKa+dEOqJ+nAqkk9vP/6ERCyekRErR0lgWuPQBVhZ5VABfFrZJj5MOxlQO1wLGehCoTDsiE2ywUN0JIGFAzVdrTFttxumyNQTnTbbUVxisvtt9I+Ya63FJW7LroYDQTFuluQKxS96C7BRBNMLDFQFPi2e++7vDZh8MFNSCZFwBO5a26OCCMs2RQMS+SwuB1FfPBAVFR80MXjVqSxwQNV4bFBIJ8r8sgDWXFyQSmzS9HICQt0xcuiPoQzQTQPhMXOQQ38cI89K5EF0EgJjXHBGkumBdIx18urEvry669ASCfdUtZxZXuntgR/rfVGXLcVtdhBbx3212ej3bbYb7OtdMhwz61y3WoPjTfZa98RGbffdsssd95L7w1R2WjFGRAAIfkEAQAAWwAssgCsADsAjwCG/////v7+/v79/v39/v38/fz7/fz6/fv6/fv5/Pr4/Pn3+/j1+/j0+/fz+vby+vXx+fTv+fTu+PPt+PLs+PHr9/Dp9/Do9+/o9u/n9u7m9u7l9u3l9e3k9ezj9evi9Org9Orf8+ne8+jd8ufc8uba8ubZ8eXY8eTX8OPW8OLU7+HT7+HS7+DR7+DQ7t/Q7t/P7t7O7t7N7d3N7dzL7NvK7NvJ7NrI69nH69nG6tfE6tfD6tbC6dXB6dS/6NO+6NO96NK859G759C55s+45s+35c215c205cyz5MyzyphlnoyhiIbAgYTLX0cvXUYuVkArVD8qTDkmSjglQjEhOCocLyMXJRwSGxQNEg0JCAYEAAAAAAAAAAAAAAAAAAAAAAAAAAAAAAAAAAAAAAAAAAAAAAAAAAAAAAAAAAAAAAAAAAAAAAAAAAAAAAAAAAAAAAAAAAAAAAAAAAAAAAAAAAAAAAAAAAAAAAAAAAAAAAAAAAAAAAAAAAAAAAAAAAAAAAAACP8AtwgcSLCgwYJJEiY0CKBhw4MQI0qEmEDhwoIOH07cyLHgA4tJGGbsSJJjBZAiHZZcGdEDSowjWcokSOIlwYwAZurcosLmQJw7Z87wKRBoUJY5iG4xerTkD6VMm3YsAjWm1I4gQxIkEvXqxKwFfXT1GhEsQRxjyR40OzBGWrUIiaZ4C3cgW4Ej6NbdcndLB711+1IADLevA8Jq+x5A7DVAVat7Cyp4rDKyQQiUNVomeCFzzs0EP3gGTbDEaNICWZxGTWM1aR2uQQOJvdkIbct9h+D8jLpvj92oBfa9ATx4XxjFexNFkZx0XxHNQffdEH1z3wnVcRNtkD1y3wLd6w7/6Bu+7gLyjK9GQA8ZdAb2lVGDgK+ZtAn6vEm3wB98Sw3+we0AIGpBDEgaEgZKd5cQ5RV2Fw8NJnaXDRGSlZVWArlQoVcXEnTChld1OFAIIEolokAZlNjUiVtIoOJRLDLwYlAsEjCjTgXgl99mDOgYnAQ+oqZBkKSFQCRoJxy52QtKWmZDk5HxAOVeQkwZ2F1H7Lajdj4FoaVxd+3wpXI+0TCmc3excKaCPpmwpnV3gfAmlxYRhMGc3t0VAZ57sbgAn1f6JMCNMxnAIqBwNXAooTJNsGh6TXHwaHuWiTBpfKChcGl9m8Gw6ZaR3fBpcD2MitoQpqLJVhGISsgWEK1a/3iiDrFyeOIMtYZ44gq5mnhiCb2ueOIHwcJ4ogXF0ngiBMnudCGGCjSr07M/SSsTAp+CWpcD2aJGQbekdQAuaCOMu1kK5lomQ7odaeHuu+5uJAWL8MI7kZYA1PvuRlDQq68W92r5L8ATOeGvvgHvNvBGCimxBBNLKDFQEwtLhG/FEiXExMYcM8HXExhDdPG/DHfcMV9RhHzQyAhPZDLHA02hcko4zWzQyxsPRIXNNwlMsss4D1QFz9Uq/LNEOHsskBVEF+Vzy0gHLdAVTS/1dL0lB50EFlWzjPVXSWidRddX2wt2Eg5DLLFAVVttNNTB4dsfS23D5bXZ/d2979x6xy7Ld9l75w2434K//XXhNR8d9+AEI55R3Wr13fjihuNNeeJwoyb53G5jfvjlGQUEACH5BAEAACAALK8ArAA2AI8AhP////37+fv38/jz7fbv5/bu5vTq4PLm2vDi1O7ezuzayOrWwujSvOXOtuXNtcqYZZ6MoYiGwIGEy19HL1dBK087J0c2Iz8vHzcpGy8jFycdEx4XDxYRCw4LBwcFAwAAAAj/AEEIHEiwoEGCDxI+OAigIYCDECNKJBhA4UKDDh9O3MgRhACLDB12HBlxAEiMIkmqJFjgZMGMK2OCMOCSIEyZKg/UHHgT50gEOwX29MkxQVAQQ4lOVHA0qdKIC5qmfDqRgUKITqkadHA1ZEOtE482yAp24FEGZMuCOLogbdmjCtyCPZpArtajCOxSPXpA79OjBvwqPUpgqlqDRwcYPoywa0EBixkLPBogsmSpXyVTxKxRs8CPjm1aPmwyNM/RaluaFoq6LM3VSFuD1QlbMFGgCbHK1mo0t9fOnpn6RpnZM4iow1/upmo1uejinrk6Pw1ds1jbPs9ix8l2u0y43mPS/12+F3be6tZh90V/GXZg9owJk/8LWzH8w0ch31dLef7g2v75VBGA+4EF2nSxFahVaRcRB5xmqjWonIJUvSbhcw9KRtuF1GXIGG4cskbhU72FmKCHhwlnYngrIbdigDg19+KISjUA24nGTQbbWDT+hyBaPRLVXZDZwRYXkdzBVheS35kHY5IIrocifu492SSChTEpXn1WbmmiflPyhyAIlWm50o0sqjTgjGEaiGaXKjGom5kkRThnm1pZeGeOIGy4Z44g/mlciYIG9yaeWrk4J58gyLgonzaOCadK19FJknaWjjQkouUheCSn9CG4JKg+hngeqUKOKSWjN76HapEmZvX5KpQQ2TfrlRCByeqYZd7qZaGarQmsZAcOy5icv/FJwKGM6ukVo34+y2eg0uZIaLXGqfhojopi65mj3nb0wbgqTXDjuB+Q5BC6lMI2AbsjrUvupbBRAG9H8qZL7wMQRCBBBBAoVMG9HOXbrgQIN2YBwRsZfCnCEiB2AcMTOTwSxBBhQLFEFneE8UEZbBxRxxx9bJAGIs+ZMkQmF7TBysTBbFDLBHEg83M3I0TzWh3kLKLPOrackAdAk7yRQv3+G3BCQCfY9GGTHva0WkYzSt3UZVVttdPzbj0h1mBpbbXYjJLNp9k5om2c2p6xrZnbksHNmEMBAQAh+QQBAABbACytAKwANQCPAIb////+/v7+/v3+/f3+/fz9/Pv9/Pr9+/r9+/n8+vj8+ff7+PX7+PT79/P69vL69fH59O/59O748+348uz48ev38On38Oj37+j27+f27ub27uX27eX17eT17OP16+L06uD06t/z6d7z6N3y59zy5try5tnx5djx5Nfw49bw4tTv4dPv4dLv4NHv4NDu39Du38/u3s7u3s3t3c3t3Mvs28rs28ns2sjr2cfr2cbq18Tq18Pq1sLp1cHp1L/o077o073o0rzn0bvn0Lnmz7jmz7flzbXlzbTlzLPkzLPKmGWejKGIhsCBhMtfRy9dRi5WQCtUPypMOSZKOCVCMSE4KhwvIxclHBIbFA0SDQkIBgQAAAAAAAAAAAAAAAAAAAAAAAAAAAAAAAAAAAAAAAAAAAAAAAAAAAAAAAAAAAAAAAAAAAAAAAAAAAAAAAAAAAAAAAAAAAAAAAAAAAAAAAAAAAAAAAAAAAAAAAAAAAAAAAAAAAAAAAAAAAAAAAAAAAAAAAAI/wC3CBxIsKDBgkkODgSgsKHDhwITJGzIEKLFiw8mKqx4sWPDChoPcvRIkqCHkAZHlixJAmVBlSs9qnBJEGbMizNoLry5ModOgTZ5Pvzxc0tQoQ2LFD2K9GCSn0SYNkX404fUqQOL4riKdUvRGFyxFk0RdmrREWWbFu2QFmlRCm2FFnUQl2fRA3VjBliad6UCvl0fQgAcuOEFwoUPfliauGEJxo0PsoAcuSANypUH6sCceQsQzpmNgK78tOGQvitLK+yBuqTqgzdak3xtEIZsj7QLorjdMTdBEbwvFt0Q3GLRCcUhFm2Q/GHRAs0bDkDceQH1zBGuV86gPTKI7o1NgP9P3GJ84RrmA+8YHTkI+8ZI3if2PVBI9Ib0BfK4rzD/Fhv8OfWTCwEa5N8JBVLVUAgJEuRfBg1m9ZMEEQrkHwMVevUTARUWkF5XDHyIlQQiTqVBiU2FgCJSJ6wo1Asu8mRDjDfxQGNMQtyY2k9HAFChf0H42JmEDe2QoX80HPkTC0o2ZEKTCoEA5UEYTGlQBFYWtECWBAlQoQH+CTnkFg2EWeEEZo65BQdpjimCjiWhACdJMMzp0Q12dtRDnhcNwadxPxUh5pD+ATFoZ/7pcGhm/s2wKGk/rfBoZP6VMGlj/n3A5UAWbCoQBJ5uoUColyaGQJtDOoBqZxSsmlkHrlbGNkKskaVAa2My3PqQFlqUJIV/vJLkY7AkQVEUsR0N2ytJThy7bLIAINtbQkoswcQWSpTWhLQWKetaEkxc62AST3ALkbezhetUFOY+hK5H6io0RbsOvdtRvAdRQS9F0T57r7gHVbHvRv2WhK9BVgwsUsEkHVzQFQqnxDBuDluIRcQvTTytw09lgXFNGgtHrbXYlvYxyCdXVqqaBaUcmb0sZ+xyYzDHvFDINgOFc84187yzzT0D/XPMQRM9NMtFI320mkkzDUBAACH5BAEAAFMALK0ArQA1AI4Ahv////7+/v79/f38+/38+v37+fz6+Pz59/v49fv49Pv38/r28vr18fn07/n07vjz7fjy7Pjx6/fw6ffw6Pbu5vbu5fXt5PXs4/Xr4vTq4PTq3/Pp3vPo3fLn3PLm2vLm2fHl2PHk1/Dj1vDi1PDi0+/h0u/g0e7f0O7ezu7eze3dzO3cy+zbyuzbyezayOvZx+vYxerXxOrXw+rWwunVwenUv+jTvujTvejSvOfRu+fQuebPuObPt+XOtuXNteXMs+TMs8qYZZ6MoYiGwIGEy1I+KUw5JkY0Iz8vHzgqHDImGSwhFiUcEh4XDxgSDBINCQsIBQUEAgAAAAAAAAAAAAAAAAAAAAAAAAAAAAAAAAAAAAAAAAAAAAAAAAAAAAAAAAAAAAAAAAAAAAAAAAAAAAAAAAAAAAAAAAAAAAAAAAAAAAAAAAAAAAAAAAAAAAAAAAAAAAAAAAAAAAAAAAAAAAAAAAAAAAAAAAAAAAAAAAAAAAAAAAAAAAAAAAAAAAAAAAj/AKcIHEiwoEGCBA4qXMiw4UEEDiNKjMhgosWLBCFg3DiRAsePDTGAHHmQA8mTA0GgREli5UkULkm2YBgkpsMYNG02rJFT58IcPX0e7BFUqEUfRjHqSHrRBlOLMp5OdCFVIICGKapOucqwhFauC0N8bdhhLMMMZhd6rApWYYS0ChvAPZhgrsECdrUaHFD06YG+TBcATvpgsNEJhoVeSOxzA2OdHx7bHCE55onKKwGwwIwSAAzOJwHQAE0SAA7SIwHwQA2y7cEfeQnuiD3wBm2BM25PeaFbxe0gJn6L+O3ht4bfFn5L+O3gt4LfBn4LYDt9YU220a1/fa6dbfPuUgEs/wf/FEBy8kwBHEefFEBx9kYBDIcvFEBw+j4BrLB+PTxvhUH0V15uAAqYnm0FfjVbgmwBwd9vq7FF02kSWjdahQB+huFBQWwWnmsFBXHZhzRRRqJ1kZ0IoGMqcrhYiwYFgRiMIRZGI0FBCHbjQEH8taNAQfAVXgAPsoUXg+HVhWR5ci2Z3ltOtldBkeGhFWV8ZV1Zn1ha5udVlzoBkBWYMQEAAFVkumRmVGlmBoBTbXYGwFJxhgYAUnWWBiKORP04RRBAYWQmRlJIQVMRFxU6aKKGWmcEo4taVChNR0C6Z0OTBijEFEQMsWmASFhKqBQBFkQEEQEmISqjBgp0ahBKrHsqaaMHnbqErBNNqtCpTOAqka61EtGErxEBa9CpThDrkLGmEvGEspiSGmwQUEDLUKGlEvRqEFFYu1CmQWza6aetLitFpHoVxGy6BqHLrkCKXqpXvO+qe668WtFb70D67jtFv/sCXK/A7xLMrsHpIjzvvf7Cy3DDCucrRUAAIfkEAQAAIAAsrwCsADUAjwCE/////fv5+/fz+PPt9u/n9u7m9Org8uba8OLU7t7O7NrI6tbC6NK85c625c21yphlnoyhiIbAgYTLX0cvV0ErTzsnRzYjPy8fNykbLyMXJx0THhcPFhELDgsHBwUDAAAACP8AQQgcSLCgwYEAEh4E8aDhwocQIyYEEGBhwwcRM2oUOFGARYcbQy6cOOAjRpEoCU4sYDKlSxATDbR8iXLigZk0Q05EgDOnxokJevqUmFCB0KEPJy44ivTgRAZMmxac6CCqVIQKPza4CnHiw4ZQuY7MerDhUrFOyRa8aBStQa9lGwZ1O1UtwYs86aq0O/DiTb1YAZiUCZgjX4EXCRQ2LDjug5KL4Rq86DHyYYYNK1puPBmkZc2dT1quHHqxYcilTSdk6dg0TACEU1v+KxvwTqtcgeK+OrFtbb1Kd0t9Krwp1eJIJXfeuvnrg7CFla99cDb6Zcy+bV+Xq3r7g7zWOXf/pq1d/PTY5Z0rbu4YdXrHpN+HBi1/umjr9O96th5f/33t7vnn2mrIJQdbgUMlRJ6A3YFn34AAzPUbcABkx6Bl1T3YHXQaWsbchG5Jp9+H9U3HIYXm6Zchis5ZSJeIfT0gYYn6OcjiRwu+6B16N8a1XnjOBahjijH2N6Rz+R35EYRJxgihkU52J2SUlrEGYogHttZdjojtp52NMf5H4YwXWudil2LquGKYEJ7IZncklqmdc3FS6JybOjq3Zp4fnYmlc2Ta+RGYWBLZJZdowdglj0r62J2hmE2ZqHdQTgppZo86x6Sm3VWKGYSSftrdj51ByCiV1iEqqmWEdglhoKhqw+fnqtbtiVmaWOJ5q0vXPfTBBxMgCMKvvS70q3PBikQspL5+4BwFKC2b0rENQQCCBBFY21AF0X5Q7EG/eimBBA1Z0O23BoV70LgPXHAus8Y6u9C4GLw7rbzrSpCBvd0+NK4G/CqLr0HjbhBwSMfOKwEHB2+kLsHkdtCwRuH+x+4DHkycEbUPWIuttrhCJK1rzZL8E7ymjWxyut6ivJjKKxMEc8wCzUyzzTHjvLLOJvNMss+uAZ1yyzQXJPTLRBc90K8BAQAh+QQBAABcACyxAKwAOQCPAIb////+/v7+/v3+/f39/Pv9/Pr9+/r9+/n8+vj8+ff7+PX7+PT79/P69vL69fH59O/59O748uz48uv48ev38On38Oj37+j27+f27ub27uX27eX17eT17OP16+L06uD06t/z6d7z6N3y59zy5try5tnx5djx5Nfw49bw4tTv4dPv4dLv4NHu38/u3s7u3s3t3c3t3czt3Mvs28rs28ns2sjr2cfr2cbr2MXq18Tq18Pq1sLp1cHp1L/o077o073o0rzn0bvn0Lnm0Lnmz7jmz7flzrblzbXlzbTlzLPkzLPKmGWejKGIhsCBhMs9Lh44Khw0JxovIxcqIBUlHBIgGBAbFA0WEQsSDQkNCgYIBgQDAgEAAAAAAAAAAAAAAAAAAAAAAAAAAAAAAAAAAAAAAAAAAAAAAAAAAAAAAAAAAAAAAAAAAAAAAAAAAAAAAAAAAAAAAAAAAAAAAAAAAAAAAAAAAAAAAAAAAAAAAAAAAAAAAAAAAAAAAAAAAAAAAAAAAAAI/wC5CBxIsKBBggASAjiopKGSgxAjSjyoEAABhg4natxYsCICjA05itRYcQHIhyNTUlTo4KTKlwgVRnAJE2ZFCjRrqqyYIafOkRU7+PzJsSKIoURJKhyBNKnEiiaaOoVYMYXUqQYrsjDoMCRWpQljcO36FSwAGmMzln2qEEdar2upKtzxFmXclQl91L0rN6GQvXyzKjQCOHDMhCeRGO6o8CSRxYcXvgUCeWDFkz0qC7z8VofmipILdrXxmbNohzJKN37rQjXitytchybYFYXskyVuvxWh+3RDD71pO+QQfGDXC8UFdp2QnEtXCMm7KmkQvauC6g4NYG8owHWAwpArFv8Av7hiAvKGKzJAH7jiA/Z8K0qAf7eiBfpxK27Av7YicN9wlVdRCPx9BRoJBWIF2gkJTgVabADaJaBCLTToFGipRShbDRYmBVoOHRIFGg8h/gTaDyXqBNoQKdYE2hEt2mSacV0RVhlodbF444zKdYXijqsJ5xCJQL4mZEMgFjlbjw5xqGRdYj0ZYYVSHqmECtspwWCVNDqEIJdMNkQgmM519d+EQXbZkAZKLlmmQxW0WddM4eEY4Xt18vhmQ+vlmWaYSpznp5FqKjHeoG5KJ9sAMb4E2gGN7lTRdRoqSV2lg0JnpYTpVcTcprJhECGn7VVEHKhKfjCqbLyhOmhurqL/CYBtsXaqEISFkhpfRS+squQMvg56Q7CyelbrrhVldmx9oFG2bH6gPfZsf6AlQWypekpXhJwRBsGtlXohWhdd4kboVrlWooVuoTA4aqdGW8Qrb11ObCSvvKC5CdG98Y76hL385ssRv1uMCgXA9wqMsLwhLcFEE0ws4VAUC8erMLz8htTExhw3JEXFW1w8EcF2cdzxFCCLLBHBBZm8MRUpvzsyvy27XEXMeu5LM0EuN2EFzn9GxDLPLl8BNKEr7zxQz1gcre9BJC/tshJZOD1wxg/13JAWVoPc8MMRq4VxwjJrxsXQZhdVtmYEq8x2wGtX1nbckM2dc91w372Y3UHLIZ1333iTrbdhfCP9tuCA7/234X4jznjg+NKtuONPTy5vQAAh+QQBAABXACy3AKwAOgCPAIb////+/v7+/v3+/f39/Pv9/Pr9+/r9+/n8+vj8+ff7+PX7+PT79/P69vL69fH59O/59O748uz48uv48ev38On38Oj37+j27+f27ub27uX27eX17eT17OP16+L06uD06t/z6d7z6N3y59zy5try5tnx5djx5Nfw49bw4tTv4dPv4dLv4NHu38/u3s7u3s3t3c3t3czt3Mvs28rs28ns2sjr2cfr2cbr2MXq18Tq18Pq1sLp1cHp1L/o077o073o0rzn0bvn0Lnm0Lnmz7jmz7flzrblzbXlzbTlzLPkzLPKmGWejKGIhsCBhMs9Lh44Khw0JxovIxcqIBUlHBIIBgQDAgEAAAAAAAAAAAAAAAAAAAAAAAAAAAAAAAAAAAAAAAAAAAAAAAAAAAAAAAAAAAAAAAAAAAAAAAAAAAAAAAAAAAAAAAAAAAAAAAAAAAAAAAAAAAAAAAAAAAAAAAAAAAAAAAAAAAAAAAAAAAAAAAAAAAAAAAAAAAAAAAAAAAAAAAAI/wCvCBxIsKBBgQASKiyopKHDgxAjSjSoUCEBhg4bTtzIkWDFhAgwZuxIcuJHAAtEPizJkuJHByo1tpyJ8GOEmEpo0jxJAafOmScz+PzJ8mSHoURJngSBNCnHkyOaOjX50YTUqRFPpriK9eBJFly7FjwZI6zYgSdpmD175SSOtWdP7oAr9qQPul1PCsGL9aQRvlNP4kTCNutHnEQKQxRMMGNDIIq9Hm7suEdklxVx6rg8dvJAx0pscPboWSBoGaPRlr4C2kXqmpkpZ1zxuu1q0ChqM/7suITu245F/I7NO6OH4QtlO+SAPCHOC80B4JwQHSeE6sobNsBe3KEC7qYdG/8Az9qxgNcnAwB2erLA+qQnE7wnepLB/J8nH9zXeVLC/p0fWfAfUB9tMGBLJx2XXU7ofRTCgUV9RAKEJZ10AoVKfUTbgtG1gGFHJ6HGYYMV1fDhUx/lcOJGJ/GwIlUV/fCiRCcNMaNhFR1x42LAZfQXicl115CNQDq3oIxFSregi0nipGKTC5oIpZBKlDVleBl5eGV5GalAHmgXbgnahGI69mCZxn3pmAZqZlRBmw7dhKZD+s3ZkH12KiFfnu7lGd0AO0pW0QGBYqbQdyOmdtJ2iY520nWNcnYSdZFedhIGhXZWEXOVRnbSB5mSVpFwnSp2km+lFnZSbqmyddKGVEb/90KoqlU0A62wKXQDrrZVtFmrcX1kGbB1fQQZsXl9lBiyfX2UBK+7YelQEXA2FES1StyV51x5vpWnWnnCAOBqEFlh7rk4OcHRueyepORE7JqL0xPrxmuFu/WyixMU+bYbbUT2yrQEE00wsURDUfR7Lr4bBdxQExBH3IQSUihsLsPwxiuTxBFPYfG9/5arMUEcQ/wxxhIFTHLJJ4d8kMoDldxEy+S+PHLMLDdsL8oA3yyQzDQTl7LGDMpMRdBBDs2uQzIrUQXSRma8NIMDF3wwgzrHy/Nr9lpRG4Iuj9b11qmNHTZnZtcs9s5nX5a20LW9nXTcbKuNdt1wc4333HprFd12ZHJH/XXg7w6+t+B0+2232/YGBAAh+QQBAABRACy+AKwAOgCPAIb////+/v7+/f39/Pv9/Pr9+/n8+vj8+ff7+PX7+PT79/P69vL69fH59O/59O748+348uv48ev38On38Oj37+j27ub27uX17eT17OP16+L06uD06t/z6d7z6N3y59zy5try5tnx5djx5Nfw49bw4tTw4tPv4dLv4NHv4NDu39Du3s7u3s3t3c3t3czt3Mvs28rs28ns2sjr2cfr2MXq18Tq18Pq1sLp1cHp1L/o077o073o0rzn0bvn0Lnmz7jmz7flzrblzbXlzLPkzLPKmGWejKGIhsCBhMspHhQlHBIiGhEeFw8bFA0YEgwFBAICAQEAAAAAAAAAAAAAAAAAAAAAAAAAAAAAAAAAAAAAAAAAAAAAAAAAAAAAAAAAAAAAAAAAAAAAAAAAAAAAAAAAAAAAAAAAAAAAAAAAAAAAAAAAAAAAAAAAAAAAAAAAAAAAAAAAAAAAAAAAAAAAAAAAAAAAAAAAAAAAAAAAAAAAAAAAAAAAAAAAAAAAAAAAAAAAAAAI/wCjCBxIsKDBKAASKixIpKHDgxAjSjSoUKEAhg4bTtzIkWDFhAQwZuxIcuJHAAZEPizJkuJHBCo1tpwp8KSCmERo0jzJAKfOmScd+PzJ8iSEoURJnpSANCnHkxWaOjX58YLUqRFPZriK9eDJDVy7FjzZIazYgSc/mD2L8GOItWdPjoAr9mQJul1PosCL9aQKvlNPuiCYcSVbrx9hEC6c8zDiijIWF3b8WCENySMpj/1oA7NhzTU/4vAsE3ToijpINzbdtiIP1axPK/QBO/bJILVZnxyS2/RJnLhtf8T5I3brhaR7GP9Nesfy4aRzPK+I88Z05AMZ17ieEOcM7gBwxv8Aj3OwbubZC68QDj19xhTsqZM2ER+7QMYk6ncnLUJ/eNIg+IeTBwKSxkGB7jmkAYL3FYYBg1EwFtV57TWY0QQQMhZBhoU9wGFGDXzo0AIiNpRAiUQcgGIBKA6AIngB9AbaSS4m+NmMH7FoY2m+faTijqv1WNGJQIJHYpH6hYgkhQp5uKSQCm34JI4VUSCjZidZcCVlJz04JZYfLfgllx8dOKZjJxF45mEnBbgmWyf192ZcH+U3Z10f0XdnXh/Bt2dfH7GwJZsnvTAonCeN96dTJwHw3aJJNbodpEQ1ah2lPzUqHaY6NeocpzudpByoQJ1UHKktNRqchZlBaV+EhQn/gSIQKNLG5KuMvXbrfjumtut/O472K06dDUvaZcbuGFmyrDakGLOwZtQCg4wR8Rez1Z5ALWN3YcvYXN4W9la4GalFrkNllVohRFC06y4UqiHB0bvuNroRve2qlsS8+No7Eb7wAqkEv/T6KxHAMhVhxBFGFNHQEgS/a3BECDd0xMUYH0EEExHXix7F+MqUMcZNdNzuxOyGTNDIF5sMBcoHIbwyyy7DbJDMA7F8RM0fp0xvkDrzvG7MKudM87399kz0z43p7ITQ8h0cssUsE/EE1K8u/W7CCzfMo9QFK80awMalKrZpANuMdtJDj8121GWnfTZocre9dth20/121m7jHA23cXX/HVvgfN8t8dyaEc5r3HsvDnjjwDJOb0AAIfkEAQAABgAsxQCsADsAjwCC////yphlnoyhiIbAgYTLAAAAAAAAAAAACP8ADQgcSLCgQQAIEwIgGKChwwAGI0qcSFGhQoYPG1LcyDGixYQYM3Yc2fEjwpAPSaqcaHLhwIwaV8ok2BKlw5k4DdR8CTPnzJ0CYUL0uRKoAaFEi5q0GTPpSKNInT5dylOk1JJUg/a8yhHqVq4Vsx79ClaiV6tlzYqNmtbjWrJtab5FG1fuR6ZD69q1iFdvwbMp/Q4EfFOwQMJNBSPOq3huYMOLDR92XBgy5cR+I0vWbPlu1ceNPY+FqxeoUMaZs56WrFM129B8tZKua/p1atGrN7ueHbc277a+6d6OPVp46d3GaSMHPfyi7OS9l1eG7bw48+O4bWMnnrszd+3Ks///Thv8evjv48uWn94c5HPz0cVDBy4d8/bq3am7t87+/v787Z30Xn/n4QceffWhVqCB6XHVkkv82ReffPCRt56ECFJIYIbozafehQpO2GGFHyaom4nejbihhSjq99+BLGqIYYwqzliijCFyyKCHYD34GYk9gngijkPWmCONOwLpoJApJrnijUYW6aSNQbYYoIARHgnllFpWSWST7p3W5ZJUiSllmAAuiCaMW67Z4FU+ZjkmnDuZCaaAdrqIZ5oiOpfnlS796Z+bPJLpmaBq7smml7Eh2iehStJZJp86QvpkWKJJVMCmnHI64KUGdNqpURGJ2umnVIZqagGkGrTqpqiOsvlqqwW9WkBQAgxAwAACgDqrWKW+ChEBxBZLQKq/ZhrsqsMaW6ysq9JKkK0DOVssR8kSp+mr1VpLALbRAusqtwJ5++1G2Va37ardWguuqdIORG253r4rarwC2dqstdDCK26twhrgLbLhKjsuu0flumuvBPtrsGDksqbUw36lux9rFmOJccHaSpYxhBs73LFhH0ucL8fqeozyxSqLnDLJK2vc8r3/VhwzyDOPWrNeJZv8akAAIfkEAQAABgAszQCsADsAjwCC////yphlnoyhiIbAgYTLAAAAAAAAAAAACP8ADQgcSLBgQQAIEyIcGKChw4YGI0qcSFGhQoYPHVLcyDGixYQYMwboSLLjx4UCRUIsyVLiSQAhM7acefBkzIc0cxp4eVOjzpk8U6r8CdSmUJFEWwY1oHJk0pJLmz6FapTp0Kkmq0rFyjHqVa4VtX4F61IsUrITvZ5F69GsTLZtP/ZcCbem3KNv6xJUm1evQL44/Q4E7FPwTreBDROmK3ixU8WICzeOzNivY8N/KT+efNfqWs4W5262rBnz4c5bIaMeS3r159ah8SYGfVG2ZNi1PffFDdJ2Zb2XMQdXHVv3bN4ojd8GXlp4c+K5U9Purfx33eHTk0tHDtP3aOaud4P/L759fHTW5qmXv/48e/fq39mHP55eO3r55O/Dxc5dtGn+9b233n7t9efdfwUG6J9z8y2H33mvKXggg/lF+KB6+rEF4IX2WUhgg9Z9WKF4HAqYIVobigghiSpi6KGGCZa4IHQusggjiPG12KGNKMaoo4kv9ogjgkNSuCJ9Mk5I445I/jije08aCB+RIzZ5Y5UOOqkklFtKOeCVR2YJZo1WColliGMyKaaZYaLJJplrkpVimkDyKKePdEYp4ZQ0LTVRAYAGCqieBgkqqJ8SGRoooQUpCiiiETlaAKMESQppoY4OJMAABAwgQJwGWFrVn46ORMCpqBLgpkCidkaqoqamlIpqjpU6emmjmQokK6octVrcq4YOtOupvdo6aqK5GjAsAcUqemutigo7bLOGPjuQpNLuSu2hx0ZaqrLD0nqtsa4iCyu4sq4aKrm/mhusQJt2+qm6vuZmGramFVWuYfVSdy+79mLWb3L/OtutYAO/V3C1B/uVcL6sAuyvwBITTLHB+yJcscIXM5yxwxtDvC7G7fLraEAAIfkEAQAAVQAs1QCsADsAjwCG/////v7+/v39/fz7/fz6/fv5/Pr4/Pn3+/j1+/j0+/fz+vby+vXx+fTv+fTu+PPt+PLs+PHr9/Dp9/Do9+/o9u/n9u7m9u7l9e3k9ezj9evi9Org9Orf8+ne8+jd8ufc8uba8ubZ8eXY8eTX8OPW8OLU8OLT7+HS7+DR7t/Q7t7O7t7N7d3N7d3M7dzL7NvK7NvJ7NrI69nH69jF6tfE6tfD6tbC6dXB6dS/6NO+6NO96NK859G759C55s+45s+35c625c215cyz5MyzyphlnoyhiIbAgYTLEw4JEg0JEAwIDgsHDQoGCwgFCgcFCAYEBwUDBQQCAwIBAgEBAAAAAAAAAAAAAAAAAAAAAAAAAAAAAAAAAAAAAAAAAAAAAAAAAAAAAAAAAAAAAAAAAAAAAAAAAAAAAAAAAAAAAAAAAAAAAAAAAAAAAAAAAAAAAAAAAAAAAAAAAAAAAAAAAAAAAAAAAAAAAAAAAAAAAAAAAAAAAAAAAAAAAAAAAAAAAAAACP8AqwgcSLBgQQAIEwIgSKShQyIGI0qcSLGKwoQMHzYMULGjR4IXEWbUKOCjyYohFw7U2HDAyZcRU458SACmzYEyV7IscPNmToEsiRjoafNnlaAHiMI0GhSB0pdMWSZ4ejKqRgVUTVp9uCDrx60OGXj1CLZhg7EdyxJxgBZlyJkOH7SlqBbC3IlqI9yVqFbC3phvdWqk8NegWguFDwYGyvJCYpCLj7LE8Bhn5KAZKgtUq0GzxcssN3hWy2E0aI0dTF+E29CDaoWsiXx4jVHwQxC0Rdp2GCK3SsYaRfiOPWL47oYkjAN/WEK5ZI0mnAc9IZ0liuoaU2B/qGK7QxbeG7r/CE/kBXkY5GOQl0F+Bnka5GuQt0H+Bnkc5HOQ10F+B3ke5PVAng/k/UAeEOQFQd4QvglxXEO+KbjcQ74hOKFDvhl4IYSapUTghhB1GJKAIPoGYIkiXuQfipWlxB+Lj6WkH4yJpYQfjYWlZB+Of6VEH497pSQfkHelBB+Rc6XkHpJtpcQek2ilpB6UY6WEHpVepWQellml1MKDIbYY0gpg+tYdl1SlpB2aT6V0HZtKpUQdnESlFB2dPaXUHJ4+hZQcn0WFVBygS4UkHKFQhdQbolWFhBujWoU0G6RfheQapWSFlBqmaYVUGqduXSQaqHSF1BmpeIWUGap8hUQZq4Bd/4QYrIaFVEGZKSo0Aa5iXuQXrYpdpBewkF1kF7GWXSQXspuFxBaeKf02ERXUVksFErxOa2210Xa0LbVJZCvRt9R2WxG5SogbEblUmEsRuUsMVIQRRxhRBIbnkuuuttsyAdERAAd8BIfv6mvUuN828a/AAYfJ77b7IrytEwMxHLC3BkcmsbVPVGzxERh/G/G630LhscUhQ3wwydtGcTLDKVs7skHkSvGywDFzuzLN306xsMUObyzzzgWx+7PABD88tMYsbysvvfbiW7DIRBfGrmeBMv0YuzMnxnXVf32ttdcZr4Z1FWKbjXXasJ3Ndm1rl9123FSPbbXccHv2tm50qw1sd9h486134NJqxm5AACH5BAEAAFUALN0ArAA5AI8Ahv////7+/v79/f38+/38+v37+fz6+Pz59/v49fv49Pv38/r28vr18fn07/n07vjz7fjy7Pjx6/fw6ffw6Pfv6Pbv5/bu5vbu5fXt5PXs4/Xr4vTq4PTq3/Pp3vPo3fLn3PLm2vLm2fHl2PHk1/Dj1vDi1PDi0+/h0u/g0e7f0O7ezu7eze3dze3dzO3cy+zbyuzbyezayOvZx+vYxerXxOrXw+rWwunVwenUv+jTvujTvejSvOfRu+fQuebPuObPt+XOtuXNteXMs+TMs8qYZZ6MoYiGwIGEyxMOCRINCRAMCA4LBw0KBgsIBQoHBQgGBAcFAwUEAgMCAQIBAQAAAAAAAAAAAAAAAAAAAAAAAAAAAAAAAAAAAAAAAAAAAAAAAAAAAAAAAAAAAAAAAAAAAAAAAAAAAAAAAAAAAAAAAAAAAAAAAAAAAAAAAAAAAAAAAAAAAAAAAAAAAAAAAAAAAAAAAAAAAAAAAAAAAAAAAAAAAAAAAAAAAAAAAAAAAAAAAAj/AKsIHEiwIEEACBMWJMKwocGHECNKTKiQYMOGASRq3GiQIsKFF4kI4Ehyo0cAIC8OKMkS4smUDQm0nHnQI0yGBWjqfGkxpAGdNHkODEnkANCZQgUSRXC0ZdIqRBM0ZfmUqIKpJauGXICVpNaLDLpy/NqwgViTNntedHBWI1mGD9pOTDs0JAS5Ed8SiYDXJV2lISX0faiXwuCOf6GGtHC4oN4LjWtSvEkEQ+SBejNcFqhXw+Yqejd81sthdGKiHUxPVtvQg+qKdS9+eP2RNUMQtFHaJhIiN2URvnePCB67IQnigC+WQK74ognmRE9AD4li+sUU1huqyM6QBXciLr6///gO43uM7zK+z/hO43uN7za+3/iO43uO7zq+7/jO43uP7z5898N3QHwXxHdD5CYEZbkduFtuBT642UkDSnjZSQFaGNlJ/2nY2En9eXjYSfuJONhJ+ZnY10n3qYjXSfW5KNdJ88nY1knx2XjWSe/pKNZJ7fnY1UnrCYnVSekZOdVJ5ynZ1EnlOXnUSeNJCdRJLTA4oUcraHmhR9tZuZNH2IkZlEfVmYmUR9Kp6ZRHz7lJlUfLyZmVR8fZ6ZVHw+k5lkfA+YkWRb0J6pZHuBk6F0WzKZqXR6456hdFqUlKmEelWYoYRaJp6phHnnkqWUKaiYqZR5aZyplHjKkKmkcVePi5oUcTyPqhR4K5ehJfunp0V68UxQVsQmyJ+RREVCSrLBK2RqSsssc+9GyySTSL7LTRGjQtFUpYKy22iV377BIMVVGEEUcYUYRDHG2bbUHbMlHuEfTWW2674K6m0bZNEDFQvfaS5G643z7rREEA0ytwvrBJtO0TCCe88LPvErQtFBEDPDG0BGs7bRQZ17txshUPtK0UISuML8UdwzvtFP4KlPARMW80sL77TjtvwvfazHBtPj9b7rnprttzzizj/JlA2y79ptJL39yw01ID7XQVVet2NdY/a3111lsz3XXYXCc9ddRjhw222mlvvbbbbX8dN9Vzo/1sQAAh+QQBAAAGACzjAKwAOQCPAIL////KmGWejKGIhsCBhMsAAAAAAAAAAAAI/wANCBxIsCBBAAgTAiAYoKHDAAYjSpw4UWFChg8bUtzI0aBFhBgzdhzJ8ePCgRk1klwZ0WTIhyxjHvz40qHMmy5RprwpM6fAlBB5svRpAKjQoTR1ijxKkqhRpiOd7oTaUepSqhutwsSaNenPqVwrei0KNmzLsU/NnrVYU6Vaj2jLvh2o1ebcgnXd3hWYN+hevnGv/u37l27grYUJFzagOPFhu47ZKkU8+LHevY0rS/4qGLNlv5oVtgXteTPZznczlxY9GXLoi60vp/68mDHtxapnm077GmRs0rpZc6a8GvZw18V9H5c9N3fz25GFnyYe3Ph05NWVX2f+1nl36L1PLv8H/ny33Ozit5P/bh51eem8k6ePj350be9q8ZvVH5bo9vtj/YdbgOe9Z52A0R1YIHvSIRheQQvmR6B7DCpIoYSmOSgfhBfuNyF1BmqnYX1tAZhhhB6e2GF/H2IXYnojvsghiBWKiCKLKtKIYYM3cuVfj1j9uKKPLXK3o4U6psjjkEEWud6RNjJJlZBJ4rhklUTm6GKNMAI5pZMmXrkllF1KCRWVYyqJZJpWrmmkmlFi2aSWb7YZJ5tZillnnm4+CWeZcn5Jp592AornnHoSyuede0oUoEQFRCppATMeasCkkT4aEaaRVtropZhqahCnlJbYEaeiFkSqRgIMQMAAAlieimqGkHKqEQG45vrprA3Wiqlfueo6Eq8H+jppQcHiOmyotG7KKbLJLjtpqgSRCm2w0kpK7UDWEpQsAdlm2uyoz3ob7anM9ursrwN9q6hAxIo4ka0QufsuqNOOS+6krLoKq6zpFltbubWttO1d8cJYcMIFqxqwvAM/rHDE+aq7GMMNcytxxhpXLPDFG3OMr7b6/oUxxydnnHLDKy+MaUAAIfkEAQAAVQAs6QCsADkAjwCG/////v7+/v39/fz7/fz6/fv5/Pr4/Pn3+/j1+/j0+/fz+vby+vXx+fTv+fTu+PPt+PLs+PHr9/Dp9/Do9+/o9u/n9u7m9u7l9e3k9ezj9evi9Org9Orf8+ne8+jd8ufc8uba8ubZ8eXY8eTX8OPW8OLU8OLT7+HS7+DR7t/Q7t7O7t7N7d3N7d3M7dzL7NvK7NvJ7NrI69nH69jF6tfE6tfD6tbC6dXB6dS/6NO+6NO96NK859G759C55s+45s+35c625c215cyz5MyzyphlnoyhiIbAgYTLEw4JEg0JEAwIDgsHDQoGCwgFCgcFCAYEBwUDBQQCAwIBAgEBAAAAAAAAAAAAAAAAAAAAAAAAAAAAAAAAAAAAAAAAAAAAAAAAAAAAAAAAAAAAAAAAAAAAAAAAAAAAAAAAAAAAAAAAAAAAAAAAAAAAAAAAAAAAAAAAAAAAAAAAAAAAAAAAAAAAAAAAAAAAAAAAAAAAAAAAAAAAAAAAAAAAAAAAAAAAAAAACP8AqwgcSLBgQQAIERokwpChwYcQI0qsklBhwYYMA0zcyJFgRQALMQroSHLix5ANB5Rc+fDkRYwEWMoc6JIgRiIFZs6sOfCmAZ0yeQq8eQAoS6FVbiIwuhLpzQRMSzrFqCAqyakNF1jtiJUhg60cuxJpAHajWAdlTVZEyfBBWoliIbyNKDbCXIhiJdxtufZlQwp7DYq1EPhgX5sYLxT2eLgnRgyLaTYeijFDZIFiNVymODkpxg2bxXII3flmB9IJ2RLxgNoi4oYfWoP0yxCEbNUhbtMmIkL3a4YjfDtuSEI45YYljHtuaEL5zRPOMaKI3jAFdYYqrhNhod2F9hfaYWj/j6FdhvYZ2mlor6HdhvYb2nFoz6Fdh/Yd2nlo76Hdh/Yf2gGhXRDaDSGbELsRIRuBvzl02UcCNqjggxUBKKFs/l1IYUL8aRjZR/p5uNhH+IlY2Ef2mRjYR/SpuNdH8rl410fwyTjXR+7Z+NZH7OmY1kfq+VjWR+gJCdZH5hm51UfkKWnVR+I5GdVH4EnJ1EctJCjbClpuiFB2Vhr1kXVhAvXRdGXq9BF0ae5UUXNtBlVRcnEeVVFxdTZVUXB5SlVRb31eVVFugXJVkW2FhlVRbImaVRFrjaqV0GmRwlXRaJXSVRFomeJVkWad8pWQZaEKVhFkpRqWEGGpMpZQBV1++ljRBLGOWJFerUqWkF25YlaRXL1ylpBbwX6EVpofzbYRFcwyi0StEjXbbLIdSUtFEtBGZC0V1HJkrRLZQrRtt8tKu4RDRRhxhBFFNFStteROZC0TDh1h770OlittvNFK28SEVdyL77v7IiWutE4UJLC9BE9r8EPWPqHwwg0zy6+20kIxscAVc/uwQdZGsfG9HV98cLNSjMywt/B+XJC1UwC88BEAy9tyZyc3W+/C+dpcMM4QW4uuuuy6y/LPqW1G0LZK+wn0YuO6HFjUTxdGddJNV3G1a01vrWzXN2MNNtJcK+111gKdjbbaWbM9tsNVTx122Zu5bba1AQEAOw==\"/>"
      ],
      "text/plain": [
       "<IPython.core.display.HTML object>"
      ]
     },
     "execution_count": 14,
     "metadata": {},
     "output_type": "execute_result"
    }
   ],
   "source": [
    "import tensorflow_docs.vis.embed as embed\n",
    "embed.embed_file(image_file)"
   ]
  },
  {
   "cell_type": "markdown",
   "metadata": {
    "id": "lnq9Hzo1Po6X"
   },
   "source": [
    "## Next steps\n",
    "\n",
    "This tutorial demonstrated how to implement the Actor-Critic method using Tensorflow.\n",
    "\n",
    "As a next step, you could try training a model on a different environment in Gym.\n",
    "\n",
    "For additional information regarding Actor-Critic methods and the Cartpole-v0 problem, you may refer to the following resources:\n",
    "\n",
    "- [The Actor-Critic method](https://hal.inria.fr/hal-00840470/document)\n",
    "- [The Actor-Critic lecture (CAL)](https://www.youtube.com/watch?v=EKqxumCuAAY&list=PLkFD6_40KJIwhWJpGazJ9VSj9CFMkb79A&index=7&t=0s)\n",
    "- [Cart Pole learning control problem \\[Barto, et al. 1983\\]](http://www.derongliu.org/adp/adp-cdrom/Barto1983.pdf)\n",
    "\n",
    "For more reinforcement learning examples in TensorFlow, you can check the following resources:\n",
    "- [Reinforcement learning code examples (keras.io)](https://keras.io/examples/rl/)\n",
    "- [TF-Agents reinforcement learning library](https://www.tensorflow.org/agents)\n"
   ]
  }
 ],
 "metadata": {
  "colab": {
   "collapsed_sections": [
    "_jQ1tEQCxwRx"
   ],
   "name": "actor_critic.ipynb",
   "provenance": [],
   "toc_visible": true
  },
  "kernelspec": {
   "display_name": "Python 3",
   "name": "python3"
  },
  "language_info": {
   "codemirror_mode": {
    "name": "ipython",
    "version": 3
   },
   "file_extension": ".py",
   "mimetype": "text/x-python",
   "name": "python",
   "nbconvert_exporter": "python",
   "pygments_lexer": "ipython3",
   "version": "3.9.19"
  }
 },
 "nbformat": 4,
 "nbformat_minor": 0
}
